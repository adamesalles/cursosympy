{
 "cells": [
  {
   "cell_type": "markdown",
   "metadata": {},
   "source": [
    "# Extras\n",
    "\n",
    "Como a principal intenção do curso é prepará-los para o uso de `SymPy` nas disciplinas que envolvem Cálculo, ao finalizar o capítulo anterior você deve estar pronto para resolver seus problemas utilizando esse módulo. Contudo, eu acredito que há muito a se falar sobre esse módulo. E, portanto, esse capítulo fará uma abordagem rápida sobre algumas coisas que são possíveis com ele.\n",
    "\n",
    "## Geometria\n",
    "\n",
    "Isso mesmo, nós podemos resolver problemas de Geometria tanto de forma simbólica, como de forma numérica. A ideia principal não é ficar criando plots com o sistema completo, mas sim trabalhar matemáticamente (indo para o lado da Geometria Analítica). \n",
    "\n",
    "Antes de começarmos essa seção e as próximas, faremos as devidas importações e definições:"
   ]
  },
  {
   "cell_type": "code",
   "execution_count": 1,
   "metadata": {},
   "outputs": [],
   "source": [
    "from sympy import *\n",
    "from sympy.geometry import * # Importante garantir que foi importado corretamente\n",
    "x, y, z = symbols('x y z')\n",
    "init_printing(use_unicode=True, use_latex='mathjax')"
   ]
  },
  {
   "cell_type": "markdown",
   "metadata": {},
   "source": [
    "### 2D\n",
    "\n",
    "Começando pela geometria em 2D, podemos seguir o processo de criar os pontos, as linhas (a partir dos pontos) e as formas 2D a partir dos segmentos. É bem simples e intuitivo, veja:"
   ]
  },
  {
   "cell_type": "code",
   "execution_count": 2,
   "metadata": {},
   "outputs": [],
   "source": [
    "O = Point(0,0)\n",
    "A = Point(1,2)\n",
    "B = Point(3,-4)\n",
    "C = Point(-2, 3)"
   ]
  },
  {
   "cell_type": "markdown",
   "metadata": {},
   "source": [
    "Você pode fazer as operações padrões entre pontos normalmente. "
   ]
  },
  {
   "cell_type": "code",
   "execution_count": 3,
   "metadata": {},
   "outputs": [
    {
     "data": {
      "text/latex": [
       "$\\displaystyle Point2D\\left(2, -6\\right)$"
      ],
      "text/plain": [
       "Point2D(2, -6)"
      ]
     },
     "execution_count": 3,
     "metadata": {},
     "output_type": "execute_result"
    }
   ],
   "source": [
    "B - A ## AB"
   ]
  },
  {
   "cell_type": "markdown",
   "metadata": {},
   "source": [
    "Contudo, o indicado é utilizar as classes, que já terão suas propriedades a fácil acesso."
   ]
  },
  {
   "cell_type": "code",
   "execution_count": 4,
   "metadata": {},
   "outputs": [
    {
     "data": {
      "image/svg+xml": [
       "<svg xmlns=\"http://www.w3.org/2000/svg\"\n",
       "            xmlns:xlink=\"http://www.w3.org/1999/xlink\"\n",
       "            width=\"100.0\" height=\"100.0\" viewBox=\"0.400000000000000 -4.60000000000000 3.20000000000000 7.20000000000000\"\n",
       "            preserveAspectRatio=\"xMinYMin meet\">\n",
       "            <defs>\n",
       "                <marker id=\"markerCircle\" markerWidth=\"8\" markerHeight=\"8\"\n",
       "                    refx=\"5\" refy=\"5\" markerUnits=\"strokeWidth\">\n",
       "                    <circle cx=\"5\" cy=\"5\" r=\"1.5\" style=\"stroke: none; fill:#000000;\"/>\n",
       "                </marker>\n",
       "                <marker id=\"markerArrow\" markerWidth=\"13\" markerHeight=\"13\" refx=\"2\" refy=\"4\"\n",
       "                       orient=\"auto\" markerUnits=\"strokeWidth\">\n",
       "                    <path d=\"M2,2 L2,6 L6,4\" style=\"fill: #000000;\" />\n",
       "                </marker>\n",
       "                <marker id=\"markerReverseArrow\" markerWidth=\"13\" markerHeight=\"13\" refx=\"6\" refy=\"4\"\n",
       "                       orient=\"auto\" markerUnits=\"strokeWidth\">\n",
       "                    <path d=\"M6,2 L6,6 L2,4\" style=\"fill: #000000;\" />\n",
       "                </marker>\n",
       "            </defs><g transform=\"matrix(1,0,0,-1,0,-2.00000000000000)\"><path fill-rule=\"evenodd\" fill=\"#66cc99\" stroke=\"#555555\" stroke-width=\"0.144000000000000\" opacity=\"0.6\" d=\"M 1.00000000000000,2.00000000000000 L 3.00000000000000,-4.00000000000000\" /></g></svg>"
      ],
      "text/latex": [
       "$\\displaystyle Segment2D\\left(Point2D\\left(1, 2\\right), Point2D\\left(3, -4\\right)\\right)$"
      ],
      "text/plain": [
       "Segment2D(Point2D(1, 2), Point2D(3, -4))"
      ]
     },
     "execution_count": 4,
     "metadata": {
      "filenames": {
       "image/svg+xml": "/home/adame/Documentos/Git/cursosympy/_build/jupyter_execute/chapters/6_7_0.svg"
      }
     },
     "output_type": "execute_result"
    }
   ],
   "source": [
    "Segment(A,B) ## AB Simbólicamente"
   ]
  },
  {
   "cell_type": "code",
   "execution_count": 5,
   "metadata": {},
   "outputs": [
    {
     "data": {
      "text/latex": [
       "$\\displaystyle - \\frac{1}{3}$"
      ],
      "text/plain": [
       "-1/3"
      ]
     },
     "execution_count": 5,
     "metadata": {},
     "output_type": "execute_result"
    }
   ],
   "source": [
    "AC = Segment(A,C)\n",
    "AC.slope ## inclinação"
   ]
  },
  {
   "cell_type": "code",
   "execution_count": 6,
   "metadata": {},
   "outputs": [
    {
     "data": {
      "text/latex": [
       "$\\displaystyle \\sqrt{10}$"
      ],
      "text/plain": [
       "√10"
      ]
     },
     "execution_count": 6,
     "metadata": {},
     "output_type": "execute_result"
    }
   ],
   "source": [
    "AC.length ## comprimento"
   ]
  },
  {
   "cell_type": "code",
   "execution_count": 7,
   "metadata": {},
   "outputs": [
    {
     "data": {
      "text/latex": [
       "$\\displaystyle Point2D\\left(- \\frac{1}{2}, \\frac{5}{2}\\right)$"
      ],
      "text/plain": [
       "Point2D(-1/2, 5/2)"
      ]
     },
     "execution_count": 7,
     "metadata": {},
     "output_type": "execute_result"
    }
   ],
   "source": [
    "AC.midpoint ## ponto médio"
   ]
  },
  {
   "cell_type": "code",
   "execution_count": 8,
   "metadata": {},
   "outputs": [
    {
     "data": {
      "text/latex": [
       "$\\displaystyle \\text{True}$"
      ],
      "text/plain": [
       "True"
      ]
     },
     "execution_count": 8,
     "metadata": {},
     "output_type": "execute_result"
    }
   ],
   "source": [
    "AC.contains(A) ## Contém A?"
   ]
  },
  {
   "cell_type": "code",
   "execution_count": 9,
   "metadata": {},
   "outputs": [
    {
     "data": {
      "text/latex": [
       "$\\displaystyle 2 \\sqrt{10}$"
      ],
      "text/plain": [
       "2⋅√10"
      ]
     },
     "execution_count": 9,
     "metadata": {},
     "output_type": "execute_result"
    }
   ],
   "source": [
    "AC.distance(B) ## Menor distância ao ponto B"
   ]
  },
  {
   "cell_type": "markdown",
   "metadata": {},
   "source": [
    "Nós podemos criar linhas também"
   ]
  },
  {
   "cell_type": "code",
   "execution_count": 10,
   "metadata": {},
   "outputs": [
    {
     "data": {
      "image/svg+xml": [
       "<svg xmlns=\"http://www.w3.org/2000/svg\"\n",
       "            xmlns:xlink=\"http://www.w3.org/1999/xlink\"\n",
       "            width=\"100.0\" height=\"100.0\" viewBox=\"0.400000000000000 -4.60000000000000 3.20000000000000 7.20000000000000\"\n",
       "            preserveAspectRatio=\"xMinYMin meet\">\n",
       "            <defs>\n",
       "                <marker id=\"markerCircle\" markerWidth=\"8\" markerHeight=\"8\"\n",
       "                    refx=\"5\" refy=\"5\" markerUnits=\"strokeWidth\">\n",
       "                    <circle cx=\"5\" cy=\"5\" r=\"1.5\" style=\"stroke: none; fill:#000000;\"/>\n",
       "                </marker>\n",
       "                <marker id=\"markerArrow\" markerWidth=\"13\" markerHeight=\"13\" refx=\"2\" refy=\"4\"\n",
       "                       orient=\"auto\" markerUnits=\"strokeWidth\">\n",
       "                    <path d=\"M2,2 L2,6 L6,4\" style=\"fill: #000000;\" />\n",
       "                </marker>\n",
       "                <marker id=\"markerReverseArrow\" markerWidth=\"13\" markerHeight=\"13\" refx=\"6\" refy=\"4\"\n",
       "                       orient=\"auto\" markerUnits=\"strokeWidth\">\n",
       "                    <path d=\"M6,2 L6,6 L2,4\" style=\"fill: #000000;\" />\n",
       "                </marker>\n",
       "            </defs><g transform=\"matrix(1,0,0,-1,0,-2.00000000000000)\"><path fill-rule=\"evenodd\" fill=\"#66cc99\" stroke=\"#555555\" stroke-width=\"0.144000000000000\" opacity=\"0.6\" d=\"M 1.00000000000000,2.00000000000000 L 3.00000000000000,-4.00000000000000\" marker-start=\"url(#markerReverseArrow)\" marker-end=\"url(#markerArrow)\"/></g></svg>"
      ],
      "text/latex": [
       "$\\displaystyle Line2D\\left(Point2D\\left(1, 2\\right), Point2D\\left(3, -4\\right)\\right)$"
      ],
      "text/plain": [
       "Line2D(Point2D(1, 2), Point2D(3, -4))"
      ]
     },
     "execution_count": 10,
     "metadata": {
      "filenames": {
       "image/svg+xml": "/home/adame/Documentos/Git/cursosympy/_build/jupyter_execute/chapters/6_14_0.svg"
      }
     },
     "output_type": "execute_result"
    }
   ],
   "source": [
    "Line(A,B)"
   ]
  },
  {
   "cell_type": "code",
   "execution_count": 11,
   "metadata": {},
   "outputs": [
    {
     "data": {
      "text/latex": [
       "$\\displaystyle 6 x + 2 y - 10$"
      ],
      "text/plain": [
       "6⋅x + 2⋅y - 10"
      ]
     },
     "execution_count": 11,
     "metadata": {},
     "output_type": "execute_result"
    }
   ],
   "source": [
    "l1 = Line(A,B)\n",
    "l1.equation() ## Equação da reta = 0"
   ]
  },
  {
   "cell_type": "code",
   "execution_count": 12,
   "metadata": {},
   "outputs": [
    {
     "data": {
      "text/latex": [
       "$\\displaystyle \\left( 6, \\  2, \\  -10\\right)$"
      ],
      "text/plain": [
       "(6, 2, -10)"
      ]
     },
     "execution_count": 12,
     "metadata": {},
     "output_type": "execute_result"
    }
   ],
   "source": [
    "l1.coefficients ## Coeficientes da reta"
   ]
  },
  {
   "cell_type": "markdown",
   "metadata": {},
   "source": [
    "Podemos criar uma reta ao dar um ponto inicial e uma inclinação, lembrando que: $y - y_0 = m(x-x_0)$"
   ]
  },
  {
   "cell_type": "code",
   "execution_count": 13,
   "metadata": {},
   "outputs": [
    {
     "data": {
      "text/latex": [
       "$\\displaystyle - 3 x + y - 9$"
      ],
      "text/plain": [
       "-3⋅x + y - 9"
      ]
     },
     "execution_count": 13,
     "metadata": {},
     "output_type": "execute_result"
    }
   ],
   "source": [
    "l2 = Line(C, slope = 3)\n",
    "l2.equation()"
   ]
  },
  {
   "cell_type": "code",
   "execution_count": 14,
   "metadata": {},
   "outputs": [
    {
     "data": {
      "text/latex": [
       "$\\displaystyle - x - 3 y + 7$"
      ],
      "text/plain": [
       "-x - 3⋅y + 7"
      ]
     },
     "execution_count": 14,
     "metadata": {},
     "output_type": "execute_result"
    }
   ],
   "source": [
    "l3 = l2.perpendicular_line(A) ## Retorna uma reta perpendicular que passa pelo ponto dado\n",
    "l3.equation()"
   ]
  },
  {
   "cell_type": "code",
   "execution_count": 15,
   "metadata": {},
   "outputs": [
    {
     "data": {
      "text/latex": [
       "$\\displaystyle - \\frac{1}{3}$"
      ],
      "text/plain": [
       "-1/3"
      ]
     },
     "execution_count": 15,
     "metadata": {},
     "output_type": "execute_result"
    }
   ],
   "source": [
    "l3.slope # -m^-1"
   ]
  },
  {
   "cell_type": "markdown",
   "metadata": {},
   "source": [
    "E nós podemos ver a intersecção entre duas entidades geométricas."
   ]
  },
  {
   "cell_type": "code",
   "execution_count": 16,
   "metadata": {},
   "outputs": [
    {
     "data": {
      "text/latex": [
       "$\\displaystyle \\left[ Point2D\\left(-2, 3\\right)\\right]$"
      ],
      "text/plain": [
       "[Point2D(-2, 3)]"
      ]
     },
     "execution_count": 16,
     "metadata": {},
     "output_type": "execute_result"
    }
   ],
   "source": [
    "intersection(l2,l3)"
   ]
  },
  {
   "cell_type": "code",
   "execution_count": 17,
   "metadata": {},
   "outputs": [
    {
     "data": {
      "text/latex": [
       "$\\displaystyle \\left[ Point2D\\left(1, 2\\right)\\right]$"
      ],
      "text/plain": [
       "[Point2D(1, 2)]"
      ]
     },
     "execution_count": 17,
     "metadata": {},
     "output_type": "execute_result"
    }
   ],
   "source": [
    "intersection(l1, l3) # Ponto A"
   ]
  },
  {
   "cell_type": "markdown",
   "metadata": {},
   "source": [
    "Para plotar, de modo geral, fazemos o uso do que aprendemos no último capítulo, a função `plot_implicit`."
   ]
  },
  {
   "cell_type": "code",
   "execution_count": 18,
   "metadata": {},
   "outputs": [
    {
     "data": {
      "image/png": "[encoded data removed]",
      "text/plain": [
       "<Figure size 432x288 with 1 Axes>"
      ]
     },
     "metadata": {
      "filenames": {
       "image/png": "/home/adame/Documentos/Git/cursosympy/_build/jupyter_execute/chapters/6_25_0.png"
      },
      "needs_background": "light"
     },
     "output_type": "display_data"
    },
    {
     "data": {
      "text/plain": [
       "<sympy.plotting.plot.Plot at 0x7f9593fee1d0>"
      ]
     },
     "execution_count": 18,
     "metadata": {},
     "output_type": "execute_result"
    }
   ],
   "source": [
    "plot_implicit(l1.equation()) "
   ]
  },
  {
   "cell_type": "markdown",
   "metadata": {},
   "source": [
    "Podemos criar figuras geométricas e encontrar suas áreas e verficiar intersecções. Veja os exemplos:"
   ]
  },
  {
   "cell_type": "code",
   "execution_count": 19,
   "metadata": {},
   "outputs": [
    {
     "data": {
      "image/svg+xml": [
       "<svg xmlns=\"http://www.w3.org/2000/svg\"\n",
       "            xmlns:xlink=\"http://www.w3.org/1999/xlink\"\n",
       "            width=\"100.0\" height=\"100.0\" viewBox=\"-2.70000000000000 -4.70000000000000 6.40000000000000 8.40000000000000\"\n",
       "            preserveAspectRatio=\"xMinYMin meet\">\n",
       "            <defs>\n",
       "                <marker id=\"markerCircle\" markerWidth=\"8\" markerHeight=\"8\"\n",
       "                    refx=\"5\" refy=\"5\" markerUnits=\"strokeWidth\">\n",
       "                    <circle cx=\"5\" cy=\"5\" r=\"1.5\" style=\"stroke: none; fill:#000000;\"/>\n",
       "                </marker>\n",
       "                <marker id=\"markerArrow\" markerWidth=\"13\" markerHeight=\"13\" refx=\"2\" refy=\"4\"\n",
       "                       orient=\"auto\" markerUnits=\"strokeWidth\">\n",
       "                    <path d=\"M2,2 L2,6 L6,4\" style=\"fill: #000000;\" />\n",
       "                </marker>\n",
       "                <marker id=\"markerReverseArrow\" markerWidth=\"13\" markerHeight=\"13\" refx=\"6\" refy=\"4\"\n",
       "                       orient=\"auto\" markerUnits=\"strokeWidth\">\n",
       "                    <path d=\"M6,2 L6,6 L2,4\" style=\"fill: #000000;\" />\n",
       "                </marker>\n",
       "            </defs><g transform=\"matrix(1,0,0,-1,0,-1.00000000000000)\"><path fill-rule=\"evenodd\" fill=\"#66cc99\" stroke=\"#555555\" stroke-width=\"0.168000000000000\" opacity=\"0.6\" d=\"M 1.00000000000000,2.00000000000000 L 3.00000000000000,-4.00000000000000 L -2.00000000000000,3.00000000000000 z\" /></g></svg>"
      ],
      "text/latex": [
       "$\\displaystyle Triangle\\left(Point2D\\left(1, 2\\right), Point2D\\left(3, -4\\right), Point2D\\left(-2, 3\\right)\\right)$"
      ],
      "text/plain": [
       "Triangle(Point2D(1, 2), Point2D(3, -4), Point2D(-2, 3))"
      ]
     },
     "execution_count": 19,
     "metadata": {
      "filenames": {
       "image/svg+xml": "/home/adame/Documentos/Git/cursosympy/_build/jupyter_execute/chapters/6_27_0.svg"
      }
     },
     "output_type": "execute_result"
    }
   ],
   "source": [
    "trig = Triangle(A,B,C) # Cria um Triângulo\n",
    "trig"
   ]
  },
  {
   "cell_type": "code",
   "execution_count": 20,
   "metadata": {},
   "outputs": [
    {
     "data": {
      "text/latex": [
       "$\\displaystyle -8$"
      ],
      "text/plain": [
       "-8"
      ]
     },
     "execution_count": 20,
     "metadata": {},
     "output_type": "execute_result"
    }
   ],
   "source": [
    "trig.area ## Não utiliza valores absolutos"
   ]
  },
  {
   "cell_type": "code",
   "execution_count": 21,
   "metadata": {},
   "outputs": [
    {
     "data": {
      "text/latex": [
       "$\\displaystyle 8$"
      ],
      "text/plain": [
       "8"
      ]
     },
     "execution_count": 21,
     "metadata": {},
     "output_type": "execute_result"
    }
   ],
   "source": [
    "abs(trig.area) ## Correto"
   ]
  },
  {
   "cell_type": "code",
   "execution_count": 22,
   "metadata": {},
   "outputs": [
    {
     "data": {
      "text/latex": [
       "$\\displaystyle \\sqrt{74} + 3 \\sqrt{10}$"
      ],
      "text/plain": [
       "√74 + 3⋅√10"
      ]
     },
     "execution_count": 22,
     "metadata": {},
     "output_type": "execute_result"
    }
   ],
   "source": [
    "trig.perimeter ## Perímetro"
   ]
  },
  {
   "cell_type": "code",
   "execution_count": 23,
   "metadata": {},
   "outputs": [
    {
     "data": {
      "text/latex": [
       "$\\displaystyle Point2D\\left(\\frac{25}{4}, \\frac{23}{4}\\right)$"
      ],
      "text/plain": [
       "Point2D(25/4, 23/4)"
      ]
     },
     "execution_count": 23,
     "metadata": {},
     "output_type": "execute_result"
    }
   ],
   "source": [
    "trig.orthocenter ## Centro Ortogonal"
   ]
  },
  {
   "cell_type": "code",
   "execution_count": 24,
   "metadata": {},
   "outputs": [
    {
     "data": {
      "text/latex": [
       "$\\displaystyle Point2D\\left(- \\frac{17}{8}, - \\frac{19}{8}\\right)$"
      ],
      "text/plain": [
       "Point2D(-17/8, -19/8)"
      ]
     },
     "execution_count": 24,
     "metadata": {},
     "output_type": "execute_result"
    }
   ],
   "source": [
    "trig.circumcenter ## Circuncentro"
   ]
  },
  {
   "cell_type": "code",
   "execution_count": 25,
   "metadata": {},
   "outputs": [
    {
     "data": {
      "text/latex": [
       "$\\displaystyle \\left\\{ Point2D\\left(-2, 3\\right) : Segment2D\\left(Point2D\\left(-2, 3\\right), Point2D\\left(\\frac{2}{5}, \\frac{19}{5}\\right)\\right), \\  Point2D\\left(1, 2\\right) : Segment2D\\left(Point2D\\left(1, 2\\right), Point2D\\left(- \\frac{19}{37}, \\frac{34}{37}\\right)\\right), \\  Point2D\\left(3, -4\\right) : Segment2D\\left(Point2D\\left(3, -4\\right), Point2D\\left(\\frac{23}{5}, \\frac{4}{5}\\right)\\right)\\right\\}$"
      ],
      "text/plain": [
       "{Point2D(-2, 3): Segment2D(Point2D(-2, 3), Point2D(2/5, 19/5)), Point2D(1, 2):\n",
       " Segment2D(Point2D(1, 2), Point2D(-19/37, 34/37)), Point2D(3, -4): Segment2D(P\n",
       "oint2D(3, -4), Point2D(23/5, 4/5))}"
      ]
     },
     "execution_count": 25,
     "metadata": {},
     "output_type": "execute_result"
    }
   ],
   "source": [
    "trig.altitudes ## Alturas"
   ]
  },
  {
   "cell_type": "code",
   "execution_count": 26,
   "metadata": {},
   "outputs": [
    {
     "data": {
      "image/svg+xml": [
       "<svg xmlns=\"http://www.w3.org/2000/svg\"\n",
       "            xmlns:xlink=\"http://www.w3.org/1999/xlink\"\n",
       "            width=\"100.0\" height=\"100.0\" viewBox=\"1.00834142513773 0.239325998212708 -1.41521234154002 2.12281851231003\"\n",
       "            preserveAspectRatio=\"xMinYMin meet\">\n",
       "            <defs>\n",
       "                <marker id=\"markerCircle\" markerWidth=\"8\" markerHeight=\"8\"\n",
       "                    refx=\"5\" refy=\"5\" markerUnits=\"strokeWidth\">\n",
       "                    <circle cx=\"5\" cy=\"5\" r=\"1.5\" style=\"stroke: none; fill:#000000;\"/>\n",
       "                </marker>\n",
       "                <marker id=\"markerArrow\" markerWidth=\"13\" markerHeight=\"13\" refx=\"2\" refy=\"4\"\n",
       "                       orient=\"auto\" markerUnits=\"strokeWidth\">\n",
       "                    <path d=\"M2,2 L2,6 L6,4\" style=\"fill: #000000;\" />\n",
       "                </marker>\n",
       "                <marker id=\"markerReverseArrow\" markerWidth=\"13\" markerHeight=\"13\" refx=\"6\" refy=\"4\"\n",
       "                       orient=\"auto\" markerUnits=\"strokeWidth\">\n",
       "                    <path d=\"M6,2 L6,6 L2,4\" style=\"fill: #000000;\" />\n",
       "                </marker>\n",
       "            </defs><g transform=\"matrix(1,0,0,-1,0,2.60147050873544)\"><ellipse fill=\"#66cc99\" stroke=\"#555555\" stroke-width=\"0.0424563702462005\" opacity=\"0.6\" cx=\"0.300735254367722\" cy=\"1.30073525436772\" rx=\"-0.884507713462511\" ry=\"0.884507713462511\"/></g></svg>"
      ],
      "text/latex": [
       "$\\displaystyle Circle\\left(Point2D\\left(\\frac{- \\sqrt{10} + \\sqrt{74}}{\\sqrt{74} + 3 \\sqrt{10}}, \\frac{2 \\left(\\sqrt{10} + \\sqrt{74}\\right)}{\\sqrt{74} + 3 \\sqrt{10}}\\right), - \\frac{16}{\\sqrt{74} + 3 \\sqrt{10}}\\right)$"
      ],
      "text/plain": [
       "Circle(Point2D((-sqrt(10) + sqrt(74))/(sqrt(74) + 3*sqrt(10)), 2*(sqrt(10) + sqrt(74))/(sqrt(74) + 3*sqrt(10))), -16/(sqrt(74) + 3*sqrt(10)))"
      ]
     },
     "execution_count": 26,
     "metadata": {
      "filenames": {
       "image/svg+xml": "/home/adame/Documentos/Git/cursosympy/_build/jupyter_execute/chapters/6_34_0.svg"
      }
     },
     "output_type": "execute_result"
    }
   ],
   "source": [
    "trig.incircle ## Círculo interno"
   ]
  },
  {
   "cell_type": "code",
   "execution_count": 27,
   "metadata": {},
   "outputs": [
    {
     "data": {
      "text/latex": [
       "$\\displaystyle \\left(x - \\frac{- \\sqrt{10} + \\sqrt{74}}{\\sqrt{74} + 3 \\sqrt{10}}\\right)^{2} + \\left(y - \\frac{2 \\left(\\sqrt{10} + \\sqrt{74}\\right)}{\\sqrt{74} + 3 \\sqrt{10}}\\right)^{2} - \\frac{256}{\\left(\\sqrt{74} + 3 \\sqrt{10}\\right)^{2}}$"
      ],
      "text/plain": [
       "                 2                      2                 \n",
       "⎛     -√10 + √74⎞    ⎛    2⋅(√10 + √74)⎞         256      \n",
       "⎜x - ───────────⎟  + ⎜y - ─────────────⎟  - ──────────────\n",
       "⎝    √74 + 3⋅√10⎠    ⎝     √74 + 3⋅√10 ⎠                 2\n",
       "                                            (√74 + 3⋅√10) "
      ]
     },
     "execution_count": 27,
     "metadata": {},
     "output_type": "execute_result"
    }
   ],
   "source": [
    "trig.incircle.equation()"
   ]
  },
  {
   "cell_type": "code",
   "execution_count": 28,
   "metadata": {},
   "outputs": [
    {
     "data": {
      "text/latex": [
       "$\\displaystyle \\left\\{ Point2D\\left(-2, 3\\right) : Segment2D\\left(Point2D\\left(-2, 3\\right), Point2D\\left(\\frac{11}{16} + \\frac{\\sqrt{185}}{16}, \\frac{47}{16} - \\frac{3 \\sqrt{185}}{16}\\right)\\right), \\  Point2D\\left(1, 2\\right) : Segment2D\\left(Point2D\\left(1, 2\\right), Point2D\\left(- \\frac{1}{3}, \\frac{2}{3}\\right)\\right), \\  Point2D\\left(3, -4\\right) : Segment2D\\left(Point2D\\left(3, -4\\right), Point2D\\left(\\frac{77}{17} - \\frac{6 \\sqrt{185}}{17}, \\frac{14}{17} + \\frac{2 \\sqrt{185}}{17}\\right)\\right)\\right\\}$"
      ],
      "text/plain": [
       "{Point2D(-2, 3): Segment2D(Point2D(-2, 3), Point2D(11/16 + sqrt(185)/16, 47/16\n",
       " - 3*sqrt(185)/16)), Point2D(1, 2): Segment2D(Point2D(1, 2), Point2D(-1/3, 2/3\n",
       ")), Point2D(3, -4): Segment2D(Point2D(3, -4), Point2D(77/17 - 6*sqrt(185)/17, \n",
       "14/17 + 2*sqrt(185)/17))}"
      ]
     },
     "execution_count": 28,
     "metadata": {},
     "output_type": "execute_result"
    }
   ],
   "source": [
    "trig.bisectors() ## Bissetrizes"
   ]
  },
  {
   "cell_type": "code",
   "execution_count": 29,
   "metadata": {},
   "outputs": [
    {
     "data": {
      "image/svg+xml": [
       "<svg xmlns=\"http://www.w3.org/2000/svg\"\n",
       "            xmlns:xlink=\"http://www.w3.org/1999/xlink\"\n",
       "            width=\"100.0\" height=\"100.0\" viewBox=\"-0.466666666666667 0.533333333333333 1.60000000000000 1.60000000000000\"\n",
       "            preserveAspectRatio=\"xMinYMin meet\">\n",
       "            <defs>\n",
       "                <marker id=\"markerCircle\" markerWidth=\"8\" markerHeight=\"8\"\n",
       "                    refx=\"5\" refy=\"5\" markerUnits=\"strokeWidth\">\n",
       "                    <circle cx=\"5\" cy=\"5\" r=\"1.5\" style=\"stroke: none; fill:#000000;\"/>\n",
       "                </marker>\n",
       "                <marker id=\"markerArrow\" markerWidth=\"13\" markerHeight=\"13\" refx=\"2\" refy=\"4\"\n",
       "                       orient=\"auto\" markerUnits=\"strokeWidth\">\n",
       "                    <path d=\"M2,2 L2,6 L6,4\" style=\"fill: #000000;\" />\n",
       "                </marker>\n",
       "                <marker id=\"markerReverseArrow\" markerWidth=\"13\" markerHeight=\"13\" refx=\"6\" refy=\"4\"\n",
       "                       orient=\"auto\" markerUnits=\"strokeWidth\">\n",
       "                    <path d=\"M6,2 L6,6 L2,4\" style=\"fill: #000000;\" />\n",
       "                </marker>\n",
       "            </defs><g transform=\"matrix(1,0,0,-1,0,2.66666666666667)\"><path fill-rule=\"evenodd\" fill=\"#66cc99\" stroke=\"#555555\" stroke-width=\"0.0320000000000000\" opacity=\"0.6\" d=\"M 1.00000000000000,2.00000000000000 L -0.333333333333333,0.666666666666667\" /></g></svg>"
      ],
      "text/latex": [
       "$\\displaystyle Segment2D\\left(Point2D\\left(1, 2\\right), Point2D\\left(- \\frac{1}{3}, \\frac{2}{3}\\right)\\right)$"
      ],
      "text/plain": [
       "Segment2D(Point2D(1, 2), Point2D(-1/3, 2/3))"
      ]
     },
     "execution_count": 29,
     "metadata": {
      "filenames": {
       "image/svg+xml": "/home/adame/Documentos/Git/cursosympy/_build/jupyter_execute/chapters/6_37_0.svg"
      }
     },
     "output_type": "execute_result"
    }
   ],
   "source": [
    "trig.bisectors()[A] ## Bissetriz que passa no ponto A"
   ]
  },
  {
   "cell_type": "code",
   "execution_count": 30,
   "metadata": {},
   "outputs": [
    {
     "data": {
      "text/plain": [
       "False"
      ]
     },
     "execution_count": 30,
     "metadata": {},
     "output_type": "execute_result"
    }
   ],
   "source": [
    "trig.is_right() ## É triângulo retângulo?"
   ]
  },
  {
   "cell_type": "code",
   "execution_count": 31,
   "metadata": {},
   "outputs": [
    {
     "data": {
      "text/plain": [
       "True"
      ]
     },
     "execution_count": 31,
     "metadata": {},
     "output_type": "execute_result"
    }
   ],
   "source": [
    "trig.is_scalene() ## É triângulo escaleno?"
   ]
  },
  {
   "cell_type": "code",
   "execution_count": 32,
   "metadata": {},
   "outputs": [
    {
     "data": {
      "image/svg+xml": [
       "<svg xmlns=\"http://www.w3.org/2000/svg\"\n",
       "            xmlns:xlink=\"http://www.w3.org/1999/xlink\"\n",
       "            width=\"100.0\" height=\"100.0\" viewBox=\"-2.60000000000000 -1.60000000000000 7.20000000000000 7.20000000000000\"\n",
       "            preserveAspectRatio=\"xMinYMin meet\">\n",
       "            <defs>\n",
       "                <marker id=\"markerCircle\" markerWidth=\"8\" markerHeight=\"8\"\n",
       "                    refx=\"5\" refy=\"5\" markerUnits=\"strokeWidth\">\n",
       "                    <circle cx=\"5\" cy=\"5\" r=\"1.5\" style=\"stroke: none; fill:#000000;\"/>\n",
       "                </marker>\n",
       "                <marker id=\"markerArrow\" markerWidth=\"13\" markerHeight=\"13\" refx=\"2\" refy=\"4\"\n",
       "                       orient=\"auto\" markerUnits=\"strokeWidth\">\n",
       "                    <path d=\"M2,2 L2,6 L6,4\" style=\"fill: #000000;\" />\n",
       "                </marker>\n",
       "                <marker id=\"markerReverseArrow\" markerWidth=\"13\" markerHeight=\"13\" refx=\"6\" refy=\"4\"\n",
       "                       orient=\"auto\" markerUnits=\"strokeWidth\">\n",
       "                    <path d=\"M6,2 L6,6 L2,4\" style=\"fill: #000000;\" />\n",
       "                </marker>\n",
       "            </defs><g transform=\"matrix(1,0,0,-1,0,4.00000000000000)\"><ellipse fill=\"#66cc99\" stroke=\"#555555\" stroke-width=\"0.144000000000000\" opacity=\"0.6\" cx=\"1.00000000000000\" cy=\"2.00000000000000\" rx=\"3.00000000000000\" ry=\"3.00000000000000\"/></g></svg>"
      ],
      "text/latex": [
       "$\\displaystyle Circle\\left(Point2D\\left(1, 2\\right), 3\\right)$"
      ],
      "text/plain": [
       "Circle(Point2D(1, 2), 3)"
      ]
     },
     "execution_count": 32,
     "metadata": {
      "filenames": {
       "image/svg+xml": "/home/adame/Documentos/Git/cursosympy/_build/jupyter_execute/chapters/6_40_0.svg"
      }
     },
     "output_type": "execute_result"
    }
   ],
   "source": [
    "circ = Circle(A, 3) ## Centro e Raio\n",
    "circ"
   ]
  },
  {
   "cell_type": "code",
   "execution_count": 33,
   "metadata": {},
   "outputs": [
    {
     "data": {
      "text/latex": [
       "$\\displaystyle \\left(x - 1\\right)^{2} + \\left(y - 2\\right)^{2} - 9$"
      ],
      "text/plain": [
       "       2          2    \n",
       "(x - 1)  + (y - 2)  - 9"
      ]
     },
     "execution_count": 33,
     "metadata": {},
     "output_type": "execute_result"
    }
   ],
   "source": [
    "circ.equation()"
   ]
  },
  {
   "cell_type": "code",
   "execution_count": 34,
   "metadata": {},
   "outputs": [
    {
     "data": {
      "text/latex": [
       "$\\displaystyle 6 \\pi$"
      ],
      "text/plain": [
       "6⋅π"
      ]
     },
     "execution_count": 34,
     "metadata": {},
     "output_type": "execute_result"
    }
   ],
   "source": [
    "circ.circumference"
   ]
  },
  {
   "cell_type": "code",
   "execution_count": 35,
   "metadata": {},
   "outputs": [
    {
     "data": {
      "text/latex": [
       "$\\displaystyle 9 \\pi$"
      ],
      "text/plain": [
       "9⋅π"
      ]
     },
     "execution_count": 35,
     "metadata": {},
     "output_type": "execute_result"
    }
   ],
   "source": [
    "circ.area"
   ]
  },
  {
   "cell_type": "code",
   "execution_count": 36,
   "metadata": {},
   "outputs": [
    {
     "data": {
      "text/latex": [
       "$\\displaystyle \\left[ Point2D\\left(- \\frac{19}{37} + \\frac{5 \\sqrt{410}}{74}, \\frac{34}{37} - \\frac{7 \\sqrt{410}}{74}\\right), \\  Point2D\\left(1 - \\frac{9 \\sqrt{10}}{10}, \\frac{3 \\sqrt{10}}{10} + 2\\right), \\  Point2D\\left(\\frac{3 \\sqrt{10}}{10} + 1, 2 - \\frac{9 \\sqrt{10}}{10}\\right), \\  Point2D\\left(- \\frac{5 \\sqrt{410}}{74} - \\frac{19}{37}, \\frac{34}{37} + \\frac{7 \\sqrt{410}}{74}\\right)\\right]$"
      ],
      "text/plain": [
       "[Point2D(-19/37 + 5*sqrt(410)/74, 34/37 - 7*sqrt(410)/74), Point2D(1 - 9*sqrt(\n",
       "10)/10, 3*sqrt(10)/10 + 2), Point2D(3*sqrt(10)/10 + 1, 2 - 9*sqrt(10)/10), Poi\n",
       "nt2D(-5*sqrt(410)/74 - 19/37, 34/37 + 7*sqrt(410)/74)]"
      ]
     },
     "execution_count": 36,
     "metadata": {},
     "output_type": "execute_result"
    }
   ],
   "source": [
    "intersection(trig,circ)"
   ]
  },
  {
   "cell_type": "code",
   "execution_count": 37,
   "metadata": {},
   "outputs": [
    {
     "data": {
      "image/svg+xml": [
       "<svg xmlns=\"http://www.w3.org/2000/svg\"\n",
       "            xmlns:xlink=\"http://www.w3.org/1999/xlink\"\n",
       "            width=\"100.0\" height=\"100.0\" viewBox=\"-0.600000000000000 -6.60000000000000 7.20000000000000 5.20000000000000\"\n",
       "            preserveAspectRatio=\"xMinYMin meet\">\n",
       "            <defs>\n",
       "                <marker id=\"markerCircle\" markerWidth=\"8\" markerHeight=\"8\"\n",
       "                    refx=\"5\" refy=\"5\" markerUnits=\"strokeWidth\">\n",
       "                    <circle cx=\"5\" cy=\"5\" r=\"1.5\" style=\"stroke: none; fill:#000000;\"/>\n",
       "                </marker>\n",
       "                <marker id=\"markerArrow\" markerWidth=\"13\" markerHeight=\"13\" refx=\"2\" refy=\"4\"\n",
       "                       orient=\"auto\" markerUnits=\"strokeWidth\">\n",
       "                    <path d=\"M2,2 L2,6 L6,4\" style=\"fill: #000000;\" />\n",
       "                </marker>\n",
       "                <marker id=\"markerReverseArrow\" markerWidth=\"13\" markerHeight=\"13\" refx=\"6\" refy=\"4\"\n",
       "                       orient=\"auto\" markerUnits=\"strokeWidth\">\n",
       "                    <path d=\"M6,2 L6,6 L2,4\" style=\"fill: #000000;\" />\n",
       "                </marker>\n",
       "            </defs><g transform=\"matrix(1,0,0,-1,0,-8.00000000000000)\"><ellipse fill=\"#66cc99\" stroke=\"#555555\" stroke-width=\"0.144000000000000\" opacity=\"0.6\" cx=\"3.00000000000000\" cy=\"-4.00000000000000\" rx=\"3.00000000000000\" ry=\"2.00000000000000\"/></g></svg>"
      ],
      "text/latex": [
       "$\\displaystyle Ellipse\\left(Point2D\\left(3, -4\\right), 3, 2\\right)$"
      ],
      "text/plain": [
       "Ellipse(Point2D(3, -4), 3, 2)"
      ]
     },
     "execution_count": 37,
     "metadata": {
      "filenames": {
       "image/svg+xml": "/home/adame/Documentos/Git/cursosympy/_build/jupyter_execute/chapters/6_45_0.svg"
      }
     },
     "output_type": "execute_result"
    }
   ],
   "source": [
    "elips = Ellipse(B, 3, 2) ## Centro, Raio Horizontal, Raio Vertical\n",
    "elips"
   ]
  },
  {
   "cell_type": "code",
   "execution_count": 38,
   "metadata": {},
   "outputs": [
    {
     "data": {
      "text/latex": [
       "$\\displaystyle \\left(\\frac{x}{3} - 1\\right)^{2} + \\left(\\frac{y}{2} + 2\\right)^{2} - 1$"
      ],
      "text/plain": [
       "       2          2    \n",
       "⎛x    ⎞    ⎛y    ⎞     \n",
       "⎜─ - 1⎟  + ⎜─ + 2⎟  - 1\n",
       "⎝3    ⎠    ⎝2    ⎠     "
      ]
     },
     "execution_count": 38,
     "metadata": {},
     "output_type": "execute_result"
    }
   ],
   "source": [
    "elips.equation()"
   ]
  },
  {
   "cell_type": "code",
   "execution_count": 39,
   "metadata": {},
   "outputs": [
    {
     "data": {
      "text/latex": [
       "$\\displaystyle 12 E\\left(\\frac{5}{9}\\right)$"
      ],
      "text/plain": [
       "12⋅E(5/9)"
      ]
     },
     "execution_count": 39,
     "metadata": {},
     "output_type": "execute_result"
    }
   ],
   "source": [
    "elips.circumference ## Não há formulas"
   ]
  },
  {
   "cell_type": "code",
   "execution_count": 40,
   "metadata": {},
   "outputs": [
    {
     "data": {
      "text/latex": [
       "$\\displaystyle 15.8654395892906$"
      ],
      "text/plain": [
       "15.8654395892906"
      ]
     },
     "execution_count": 40,
     "metadata": {},
     "output_type": "execute_result"
    }
   ],
   "source": [
    "elips.circumference.evalf() ## Valor numérico"
   ]
  },
  {
   "cell_type": "code",
   "execution_count": 41,
   "metadata": {},
   "outputs": [
    {
     "data": {
      "text/latex": [
       "$\\displaystyle 6 \\pi$"
      ],
      "text/plain": [
       "6⋅π"
      ]
     },
     "execution_count": 41,
     "metadata": {},
     "output_type": "execute_result"
    }
   ],
   "source": [
    "elips.area"
   ]
  },
  {
   "cell_type": "code",
   "execution_count": 42,
   "metadata": {},
   "outputs": [
    {
     "data": {
      "text/latex": [
       "$\\displaystyle \\frac{\\sqrt{5}}{3}$"
      ],
      "text/plain": [
       "√5\n",
       "──\n",
       "3 "
      ]
     },
     "execution_count": 42,
     "metadata": {},
     "output_type": "execute_result"
    }
   ],
   "source": [
    "elips.eccentricity"
   ]
  },
  {
   "cell_type": "code",
   "execution_count": 43,
   "metadata": {},
   "outputs": [
    {
     "data": {
      "text/latex": [
       "$\\displaystyle \\left( Point2D\\left(3 - \\sqrt{5}, -4\\right), \\  Point2D\\left(\\sqrt{5} + 3, -4\\right)\\right)$"
      ],
      "text/plain": [
       "(Point2D(3 - sqrt(5), -4), Point2D(sqrt(5) + 3, -4))"
      ]
     },
     "execution_count": 43,
     "metadata": {},
     "output_type": "execute_result"
    }
   ],
   "source": [
    "elips.foci ## Focos"
   ]
  },
  {
   "cell_type": "code",
   "execution_count": 44,
   "metadata": {},
   "outputs": [
    {
     "data": {
      "text/latex": [
       "$\\displaystyle \\sqrt{5}$"
      ],
      "text/plain": [
       "√5"
      ]
     },
     "execution_count": 44,
     "metadata": {},
     "output_type": "execute_result"
    }
   ],
   "source": [
    "elips.focus_distance ## Distância Focal"
   ]
  },
  {
   "cell_type": "code",
   "execution_count": 45,
   "metadata": {},
   "outputs": [
    {
     "data": {
      "image/svg+xml": [
       "<svg xmlns=\"http://www.w3.org/2000/svg\"\n",
       "            xmlns:xlink=\"http://www.w3.org/1999/xlink\"\n",
       "            width=\"100.0\" height=\"100.0\" viewBox=\"-3.40000000000000 -5.40000000000000 7.80000000000000 16.8000000000000\"\n",
       "            preserveAspectRatio=\"xMinYMin meet\">\n",
       "            <defs>\n",
       "                <marker id=\"markerCircle\" markerWidth=\"8\" markerHeight=\"8\"\n",
       "                    refx=\"5\" refy=\"5\" markerUnits=\"strokeWidth\">\n",
       "                    <circle cx=\"5\" cy=\"5\" r=\"1.5\" style=\"stroke: none; fill:#000000;\"/>\n",
       "                </marker>\n",
       "                <marker id=\"markerArrow\" markerWidth=\"13\" markerHeight=\"13\" refx=\"2\" refy=\"4\"\n",
       "                       orient=\"auto\" markerUnits=\"strokeWidth\">\n",
       "                    <path d=\"M2,2 L2,6 L6,4\" style=\"fill: #000000;\" />\n",
       "                </marker>\n",
       "                <marker id=\"markerReverseArrow\" markerWidth=\"13\" markerHeight=\"13\" refx=\"6\" refy=\"4\"\n",
       "                       orient=\"auto\" markerUnits=\"strokeWidth\">\n",
       "                    <path d=\"M6,2 L6,6 L2,4\" style=\"fill: #000000;\" />\n",
       "                </marker>\n",
       "            </defs><g transform=\"matrix(1,0,0,-1,0,6.00000000000000)\"><path fill-rule=\"evenodd\" fill=\"#66cc99\" stroke=\"#555555\" stroke-width=\"0.336000000000000\" opacity=\"0.6\" d=\"M 1.00000000000000,2.00000000000000 L 3.00000000000000,-4.00000000000000 L -2.00000000000000,3.00000000000000 L 0,10.0000000000000 z\" /></g></svg>"
      ],
      "text/latex": [
       "$\\displaystyle Polygon\\left(Point2D\\left(1, 2\\right), Point2D\\left(3, -4\\right), Point2D\\left(-2, 3\\right), Point2D\\left(0, 10\\right)\\right)$"
      ],
      "text/plain": [
       "Polygon(Point2D(1, 2), Point2D(3, -4), Point2D(-2, 3), Point2D(0, 10))"
      ]
     },
     "execution_count": 45,
     "metadata": {
      "filenames": {
       "image/svg+xml": "/home/adame/Documentos/Git/cursosympy/_build/jupyter_execute/chapters/6_53_0.svg"
      }
     },
     "output_type": "execute_result"
    }
   ],
   "source": [
    "D = Point(0,10)\n",
    "quad = Polygon(A,B,C,D) ## Criando Polígono de N vértices\n",
    "quad"
   ]
  },
  {
   "cell_type": "code",
   "execution_count": 46,
   "metadata": {},
   "outputs": [
    {
     "data": {
      "text/latex": [
       "$\\displaystyle \\frac{39}{2}$"
      ],
      "text/plain": [
       "39/2"
      ]
     },
     "execution_count": 46,
     "metadata": {},
     "output_type": "execute_result"
    }
   ],
   "source": [
    "abs(quad.area)"
   ]
  },
  {
   "cell_type": "code",
   "execution_count": 47,
   "metadata": {},
   "outputs": [
    {
     "data": {
      "text/latex": [
       "$\\displaystyle \\left\\{ Point2D\\left(-2, 3\\right) : - \\operatorname{acos}{\\left(- \\frac{39 \\sqrt{3922}}{3922} \\right)} + 2 \\pi, \\  Point2D\\left(0, 10\\right) : - \\operatorname{acos}{\\left(\\frac{54 \\sqrt{3445}}{3445} \\right)} + 2 \\pi, \\  Point2D\\left(1, 2\\right) : \\operatorname{acos}{\\left(- \\frac{5 \\sqrt{26}}{26} \\right)}, \\  Point2D\\left(3, -4\\right) : - \\operatorname{acos}{\\left(\\frac{13 \\sqrt{185}}{185} \\right)} + 2 \\pi\\right\\}$"
      ],
      "text/plain": [
       "⎧                      ⎛-39⋅√3922 ⎞                              ⎛54⋅√3445⎞   \n",
       "⎨Point2D(-2, 3): - acos⎜──────────⎟ + 2⋅π, Point2D(0, 10): - acos⎜────────⎟ + \n",
       "⎩                      ⎝   3922   ⎠                              ⎝  3445  ⎠   \n",
       "\n",
       "                        ⎛-5⋅√26 ⎞                        ⎛13⋅√185⎞      ⎫\n",
       "2⋅π, Point2D(1, 2): acos⎜───────⎟, Point2D(3, -4): - acos⎜───────⎟ + 2⋅π⎬\n",
       "                        ⎝   26  ⎠                        ⎝  185  ⎠      ⎭"
      ]
     },
     "execution_count": 47,
     "metadata": {},
     "output_type": "execute_result"
    }
   ],
   "source": [
    "quad.angles"
   ]
  },
  {
   "cell_type": "code",
   "execution_count": 48,
   "metadata": {},
   "outputs": [
    {
     "data": {
      "text/latex": [
       "$\\displaystyle \\operatorname{acos}{\\left(- \\frac{5 \\sqrt{26}}{26} \\right)}$"
      ],
      "text/plain": [
       "    ⎛-5⋅√26 ⎞\n",
       "acos⎜───────⎟\n",
       "    ⎝   26  ⎠"
      ]
     },
     "execution_count": 48,
     "metadata": {},
     "output_type": "execute_result"
    }
   ],
   "source": [
    "quad.angles[A] ## No ponto A"
   ]
  },
  {
   "cell_type": "code",
   "execution_count": 49,
   "metadata": {},
   "outputs": [
    {
     "data": {
      "text/latex": [
       "$\\displaystyle 168.69006752598$"
      ],
      "text/plain": [
       "168.690067525980"
      ]
     },
     "execution_count": 49,
     "metadata": {},
     "output_type": "execute_result"
    }
   ],
   "source": [
    "from sympy.physics.units import degree ## Importação das unidades\n",
    "(quad.angles[A]/degree.scale_factor).evalf() ## Transforma em Graus"
   ]
  },
  {
   "cell_type": "code",
   "execution_count": 50,
   "metadata": {},
   "outputs": [
    {
     "data": {
      "image/svg+xml": [
       "<svg xmlns=\"http://www.w3.org/2000/svg\"\n",
       "            xmlns:xlink=\"http://www.w3.org/1999/xlink\"\n",
       "            width=\"100.0\" height=\"100.0\" viewBox=\"-0.200000000000000 0.800000000000000 2.40000000000000 2.40000000000000\"\n",
       "            preserveAspectRatio=\"xMinYMin meet\">\n",
       "            <defs>\n",
       "                <marker id=\"markerCircle\" markerWidth=\"8\" markerHeight=\"8\"\n",
       "                    refx=\"5\" refy=\"5\" markerUnits=\"strokeWidth\">\n",
       "                    <circle cx=\"5\" cy=\"5\" r=\"1.5\" style=\"stroke: none; fill:#000000;\"/>\n",
       "                </marker>\n",
       "                <marker id=\"markerArrow\" markerWidth=\"13\" markerHeight=\"13\" refx=\"2\" refy=\"4\"\n",
       "                       orient=\"auto\" markerUnits=\"strokeWidth\">\n",
       "                    <path d=\"M2,2 L2,6 L6,4\" style=\"fill: #000000;\" />\n",
       "                </marker>\n",
       "                <marker id=\"markerReverseArrow\" markerWidth=\"13\" markerHeight=\"13\" refx=\"6\" refy=\"4\"\n",
       "                       orient=\"auto\" markerUnits=\"strokeWidth\">\n",
       "                    <path d=\"M6,2 L6,6 L2,4\" style=\"fill: #000000;\" />\n",
       "                </marker>\n",
       "            </defs><g transform=\"matrix(1,0,0,-1,0,4.00000000000000)\"><path fill-rule=\"evenodd\" fill=\"#66cc99\" stroke=\"#555555\" stroke-width=\"0.0480000000000000\" opacity=\"0.6\" d=\"M 2.00000000000000,2.00000000000000 L 1.00000000000000,3.00000000000000 L 0,2.00000000000000 L 1.00000000000000,1.00000000000000 z\" /></g></svg>"
      ],
      "text/latex": [
       "$\\displaystyle RegularPolygon\\left(Point2D\\left(1, 2\\right), 1, 4, 0\\right)$"
      ],
      "text/plain": [
       "RegularPolygon(Point2D(1, 2), 1, 4, 0)"
      ]
     },
     "execution_count": 50,
     "metadata": {
      "filenames": {
       "image/svg+xml": "/home/adame/Documentos/Git/cursosympy/_build/jupyter_execute/chapters/6_58_0.svg"
      }
     },
     "output_type": "execute_result"
    }
   ],
   "source": [
    "reg = RegularPolygon(A,1,4) # Centro, Raio, Qtd. Lados\n",
    "reg"
   ]
  },
  {
   "cell_type": "code",
   "execution_count": 51,
   "metadata": {},
   "outputs": [
    {
     "data": {
      "text/latex": [
       "$\\displaystyle \\left\\{ Point2D\\left(0, 2\\right) : \\frac{\\pi}{2}, \\  Point2D\\left(1, 1\\right) : \\frac{\\pi}{2}, \\  Point2D\\left(1, 3\\right) : \\frac{\\pi}{2}, \\  Point2D\\left(2, 2\\right) : \\frac{\\pi}{2}\\right\\}$"
      ],
      "text/plain": [
       "⎧               π                 π                 π                 π⎫\n",
       "⎨Point2D(0, 2): ─, Point2D(1, 1): ─, Point2D(1, 3): ─, Point2D(2, 2): ─⎬\n",
       "⎩               2                 2                 2                 2⎭"
      ]
     },
     "execution_count": 51,
     "metadata": {},
     "output_type": "execute_result"
    }
   ],
   "source": [
    "reg.angles # Retângulo"
   ]
  },
  {
   "cell_type": "code",
   "execution_count": 52,
   "metadata": {},
   "outputs": [
    {
     "data": {
      "text/latex": [
       "$\\displaystyle \\left[ Point2D\\left(2, 2\\right), \\  Point2D\\left(1, 3\\right), \\  Point2D\\left(0, 2\\right), \\  Point2D\\left(1, 1\\right)\\right]$"
      ],
      "text/plain": [
       "[Point2D(2, 2), Point2D(1, 3), Point2D(0, 2), Point2D(1, 1)]"
      ]
     },
     "execution_count": 52,
     "metadata": {},
     "output_type": "execute_result"
    }
   ],
   "source": [
    "reg.vertices # Vértices"
   ]
  },
  {
   "cell_type": "markdown",
   "metadata": {},
   "source": [
    "Para finalizar com a Geometria, é importante relembrar que é possível fazer tudo isso com valores simbólicos. Por exemplo, um quadrado em função de um lado $x$:"
   ]
  },
  {
   "cell_type": "code",
   "execution_count": 53,
   "metadata": {},
   "outputs": [
    {
     "data": {
      "text/latex": [
       "$\\displaystyle Polygon\\left(Point2D\\left(\\frac{x}{2}, \\frac{x}{2}\\right), Point2D\\left(- \\frac{x}{2}, \\frac{x}{2}\\right), Point2D\\left(- \\frac{x}{2}, - \\frac{x}{2}\\right), Point2D\\left(\\frac{x}{2}, - \\frac{x}{2}\\right)\\right)$"
      ],
      "text/plain": [
       "Polygon(Point2D(x/2, x/2), Point2D(-x/2, x/2), Point2D(-x/2, -x/2), Point2D(x/2, -x/2))"
      ]
     },
     "execution_count": 53,
     "metadata": {},
     "output_type": "execute_result"
    }
   ],
   "source": [
    "sim_quad = Polygon(Point(x/2, x/2), Point(-x/2, x/2),Point(-x/2, -x/2),Point(x/2, -x/2))\n",
    "sim_quad"
   ]
  },
  {
   "cell_type": "code",
   "execution_count": 54,
   "metadata": {},
   "outputs": [
    {
     "data": {
      "text/latex": [
       "$\\displaystyle x^{2}$"
      ],
      "text/plain": [
       " 2\n",
       "x "
      ]
     },
     "execution_count": 54,
     "metadata": {},
     "output_type": "execute_result"
    }
   ],
   "source": [
    "sim_quad.area"
   ]
  },
  {
   "cell_type": "markdown",
   "metadata": {},
   "source": [
    "### 3D\n",
    "\n",
    "Para a terceira dimensão, podemos utilizar os Pontos com três coordenadas para gerar nossas formas."
   ]
  },
  {
   "cell_type": "code",
   "execution_count": 55,
   "metadata": {},
   "outputs": [
    {
     "data": {
      "text/latex": [
       "$\\displaystyle Line3D\\left(Point3D\\left(1, 2, 3\\right), Point3D\\left(-2, 3, 4\\right)\\right)$"
      ],
      "text/plain": [
       "Line3D(Point3D(1, 2, 3), Point3D(-2, 3, 4))"
      ]
     },
     "execution_count": 55,
     "metadata": {},
     "output_type": "execute_result"
    }
   ],
   "source": [
    "M = Point(1, 2, 3)\n",
    "N = Point(-2, 3, 4)\n",
    "P = Point(5, -8, 10)\n",
    "Line(M,N)"
   ]
  },
  {
   "cell_type": "code",
   "execution_count": 56,
   "metadata": {},
   "outputs": [
    {
     "data": {
      "text/latex": [
       "$\\displaystyle \\left( x + 3 y - 7, \\  x + 3 z - 10\\right)$"
      ],
      "text/plain": [
       "(x + 3⋅y - 7, x + 3⋅z - 10)"
      ]
     },
     "execution_count": 56,
     "metadata": {},
     "output_type": "execute_result"
    }
   ],
   "source": [
    "Line(M,N).equation()"
   ]
  },
  {
   "cell_type": "code",
   "execution_count": 57,
   "metadata": {},
   "outputs": [
    {
     "data": {
      "text/latex": [
       "$\\displaystyle Plane\\left(Point3D\\left(1, 2, 3\\right), \\left( 17, \\  25, \\  26\\right)\\right)$"
      ],
      "text/plain": [
       "Plane(Point3D(1, 2, 3), (17, 25, 26))"
      ]
     },
     "execution_count": 57,
     "metadata": {},
     "output_type": "execute_result"
    }
   ],
   "source": [
    "Plane(M,N,P) # Plano"
   ]
  },
  {
   "cell_type": "code",
   "execution_count": 58,
   "metadata": {},
   "outputs": [
    {
     "data": {
      "text/latex": [
       "$\\displaystyle 17 x + 25 y + 26 z - 145$"
      ],
      "text/plain": [
       "17⋅x + 25⋅y + 26⋅z - 145"
      ]
     },
     "execution_count": 58,
     "metadata": {},
     "output_type": "execute_result"
    }
   ],
   "source": [
    "Plane(M,N,P).equation()"
   ]
  },
  {
   "cell_type": "markdown",
   "metadata": {},
   "source": [
    "## Reações em Vigas (Mecânica)\n",
    "\n",
    "Nós podemos analisar as tensões em vigas utilizando o `sympy.physics.continuum_mechanics`. Caso você procure aplicar carregamento em uma viga e então avaliar as reações e seus gráficos, certamente isso vai te auxiliar.\n",
    "\n",
    "Veja um exemplo (no caso, para fazer sentido, leva os mesmos valores de um exemplo da documentação):"
   ]
  },
  {
   "cell_type": "code",
   "execution_count": 84,
   "metadata": {},
   "outputs": [
    {
     "data": {
      "text/latex": [
       "$\\displaystyle R_{1} {\\left\\langle x \\right\\rangle}^{-1} + R_{1} {\\left\\langle x - 10 \\right\\rangle}^{-1} + R_{2} {\\left\\langle x - 30 \\right\\rangle}^{-1} + 90 {\\left\\langle x - 5 \\right\\rangle}^{0} - 90 {\\left\\langle x - 23 \\right\\rangle}^{0} + 10 {\\left\\langle x - 30 \\right\\rangle}^{1} - 200 {\\left\\langle x - 50 \\right\\rangle}^{0} - 10 {\\left\\langle x - 50 \\right\\rangle}^{1}$"
      ],
      "text/plain": [
       "      -1              -1              -1             0              0         \n",
       "R₁⋅<x>   + R₁⋅<x - 10>   + R₂⋅<x - 30>   + 90⋅<x - 5>  - 90⋅<x - 23>  + 10⋅<x \n",
       "\n",
       "     1               0              1\n",
       "- 30>  - 200⋅<x - 50>  - 10⋅<x - 50> "
      ]
     },
     "execution_count": 84,
     "metadata": {},
     "output_type": "execute_result"
    }
   ],
   "source": [
    "from sympy.physics.continuum_mechanics.beam import Beam\n",
    "E, I = symbols('E I') ## Símbolos para o Módulo de Elasticidade e o Momento de Inércia\n",
    "R1, R2 = symbols('R1 R2') ## Símbolos para as forças\n",
    "b = Beam(50, 20, 30) ## Criando a viga (comprimento, E, I)\n",
    "b.apply_load(R1, 0, -1) ## Aplicando carregamentos (intensidade, início, ordem)\n",
    "###\n",
    "### Momentos, order = -2\n",
    "### Forças Pontuais, order =-1\n",
    "### Forças distribuídas linearmente, order = 0\n",
    "### Veja os outros na documentação\n",
    "###\n",
    "b.apply_load(R1, 10, -1)\n",
    "b.apply_load(R2, 30, -1)\n",
    "b.apply_load(90, 5, 0, 23)\n",
    "b.apply_load(10, 30, 1, 50)\n",
    "b.load ## Carregamento"
   ]
  },
  {
   "cell_type": "code",
   "execution_count": 81,
   "metadata": {},
   "outputs": [
    {
     "data": {
      "text/latex": [
       "$\\displaystyle - M_{0} {\\left\\langle x \\right\\rangle}^{-1} - R_{0} {\\left\\langle x \\right\\rangle}^{0} - R_{20} {\\left\\langle x - 20 \\right\\rangle}^{0} - R_{50} {\\left\\langle x - 50 \\right\\rangle}^{0} - \\frac{224 {\\left\\langle x \\right\\rangle}^{0}}{15} - 90 {\\left\\langle x - 5 \\right\\rangle}^{1} - \\frac{224 {\\left\\langle x - 10 \\right\\rangle}^{0}}{15} + 90 {\\left\\langle x - 23 \\right\\rangle}^{1} + \\frac{54748 {\\left\\langle x - 30 \\right\\rangle}^{0}}{15} - 5 {\\left\\langle x - 30 \\right\\rangle}^{2} + 200 {\\left\\langle x - 50 \\right\\rangle}^{1} + 5 {\\left\\langle x - 50 \\right\\rangle}^{2}$"
      ],
      "text/plain": [
       "                                                              0               \n",
       "        -1         0               0               0   224⋅<x>              1 \n",
       "- M₀⋅<x>   - R₀⋅<x>  - R₂₀⋅<x - 20>  - R₅₀⋅<x - 50>  - ──────── - 90⋅<x - 5>  \n",
       "                                                          15                  \n",
       "\n",
       "              0                                0                              \n",
       "  224⋅<x - 10>               1   54748⋅<x - 30>              2               1\n",
       "- ───────────── + 90⋅<x - 23>  + ─────────────── - 5⋅<x - 30>  + 200⋅<x - 50> \n",
       "        15                              15                                    \n",
       "\n",
       "              \n",
       "             2\n",
       " + 5⋅<x - 50> \n",
       "              "
      ]
     },
     "execution_count": 81,
     "metadata": {},
     "output_type": "execute_result"
    }
   ],
   "source": [
    "b.shear_force() ## Força Cortante"
   ]
  },
  {
   "cell_type": "code",
   "execution_count": 82,
   "metadata": {},
   "outputs": [
    {
     "data": {
      "text/latex": [
       "$\\displaystyle - M_{0} {\\left\\langle x \\right\\rangle}^{0} - R_{0} {\\left\\langle x \\right\\rangle}^{1} - R_{20} {\\left\\langle x - 20 \\right\\rangle}^{1} - R_{50} {\\left\\langle x - 50 \\right\\rangle}^{1} - \\frac{224 {\\left\\langle x \\right\\rangle}^{1}}{15} - 45 {\\left\\langle x - 5 \\right\\rangle}^{2} - \\frac{224 {\\left\\langle x - 10 \\right\\rangle}^{1}}{15} + 45 {\\left\\langle x - 23 \\right\\rangle}^{2} + \\frac{54748 {\\left\\langle x - 30 \\right\\rangle}^{1}}{15} - \\frac{5 {\\left\\langle x - 30 \\right\\rangle}^{3}}{3} + 100 {\\left\\langle x - 50 \\right\\rangle}^{2} + \\frac{5 {\\left\\langle x - 50 \\right\\rangle}^{3}}{3}$"
      ],
      "text/plain": [
       "                                                             1                \n",
       "        0         1               1               1   224⋅<x>              2  \n",
       "- M₀⋅<x>  - R₀⋅<x>  - R₂₀⋅<x - 20>  - R₅₀⋅<x - 50>  - ──────── - 45⋅<x - 5>  -\n",
       "                                                         15                   \n",
       "\n",
       "             1                                1             3                 \n",
       " 224⋅<x - 10>               2   54748⋅<x - 30>    5⋅<x - 30>                2 \n",
       " ───────────── + 45⋅<x - 23>  + ─────────────── - ─────────── + 100⋅<x - 50>  \n",
       "       15                              15              3                      \n",
       "\n",
       "            3\n",
       "  5⋅<x - 50> \n",
       "+ ───────────\n",
       "       3     "
      ]
     },
     "execution_count": 82,
     "metadata": {},
     "output_type": "execute_result"
    }
   ],
   "source": [
    "b.bending_moment() ## Momento Fletor"
   ]
  },
  {
   "cell_type": "code",
   "execution_count": 86,
   "metadata": {},
   "outputs": [
    {
     "data": {
      "image/png": "[encoded data removed]",
      "text/plain": [
       "<Figure size 432x288 with 1 Axes>"
      ]
     },
     "metadata": {
      "filenames": {
       "image/png": "/home/adame/Documentos/Git/cursosympy/_build/jupyter_execute/chapters/6_73_0.png"
      },
      "needs_background": "light"
     },
     "output_type": "display_data"
    }
   ],
   "source": [
    "p = b.draw()\n",
    "p.show() ## Ilustração Gráfica"
   ]
  },
  {
   "cell_type": "code",
   "execution_count": 85,
   "metadata": {},
   "outputs": [
    {
     "data": {
      "image/png": "[encoded data removed]",
      "text/plain": [
       "<Figure size 432x288 with 1 Axes>"
      ]
     },
     "metadata": {
      "filenames": {
       "image/png": "/home/adame/Documentos/Git/cursosympy/_build/jupyter_execute/chapters/6_74_0.png"
      },
      "needs_background": "light"
     },
     "output_type": "display_data"
    },
    {
     "data": {
      "text/plain": [
       "<sympy.plotting.plot.Plot at 0x7f9576b37cd0>"
      ]
     },
     "execution_count": 85,
     "metadata": {},
     "output_type": "execute_result"
    }
   ],
   "source": [
    "b.solve_for_reaction_loads(R1, R2) ## Solucionando\n",
    "b.plot_bending_moment() ## Plot Momento Fletor"
   ]
  },
  {
   "cell_type": "code",
   "execution_count": 87,
   "metadata": {},
   "outputs": [
    {
     "data": {
      "image/png": "[encoded data removed]",
      "text/plain": [
       "<Figure size 432x288 with 1 Axes>"
      ]
     },
     "metadata": {
      "filenames": {
       "image/png": "/home/adame/Documentos/Git/cursosympy/_build/jupyter_execute/chapters/6_75_0.png"
      },
      "needs_background": "light"
     },
     "output_type": "display_data"
    },
    {
     "data": {
      "text/plain": [
       "<sympy.plotting.plot.Plot at 0x7f9576c90d50>"
      ]
     },
     "execution_count": 87,
     "metadata": {},
     "output_type": "execute_result"
    }
   ],
   "source": [
    "b.plot_shear_force() ## Plotando Força Cortante"
   ]
  },
  {
   "cell_type": "code",
   "execution_count": 88,
   "metadata": {},
   "outputs": [
    {
     "data": {
      "text/latex": [
       "$\\displaystyle M_{0} {\\left\\langle x \\right\\rangle}^{-2} + R_{0} {\\left\\langle x \\right\\rangle}^{-1} + R_{20} {\\left\\langle x - 20 \\right\\rangle}^{-1} + R_{50} {\\left\\langle x - 50 \\right\\rangle}^{-1} + \\frac{224 {\\left\\langle x \\right\\rangle}^{-1}}{15} + 90 {\\left\\langle x - 5 \\right\\rangle}^{0} + \\frac{224 {\\left\\langle x - 10 \\right\\rangle}^{-1}}{15} - 90 {\\left\\langle x - 23 \\right\\rangle}^{0} - \\frac{54748 {\\left\\langle x - 30 \\right\\rangle}^{-1}}{15} + 10 {\\left\\langle x - 30 \\right\\rangle}^{1} - 200 {\\left\\langle x - 50 \\right\\rangle}^{0} - 10 {\\left\\langle x - 50 \\right\\rangle}^{1}$"
      ],
      "text/plain": [
       "                                                               -1             \n",
       "      -2         -1               -1               -1   224⋅<x>               \n",
       "M₀⋅<x>   + R₀⋅<x>   + R₂₀⋅<x - 20>   + R₅₀⋅<x - 50>   + ───────── + 90⋅<x - 5>\n",
       "                                                            15                \n",
       "\n",
       "                -1                                -1                          \n",
       "0   224⋅<x - 10>                0   54748⋅<x - 30>                1           \n",
       "  + ────────────── - 90⋅<x - 23>  - ──────────────── + 10⋅<x - 30>  - 200⋅<x -\n",
       "          15                               15                                 \n",
       "\n",
       "                    \n",
       "    0              1\n",
       " 50>  - 10⋅<x - 50> \n",
       "                    "
      ]
     },
     "execution_count": 88,
     "metadata": {},
     "output_type": "execute_result"
    }
   ],
   "source": [
    "b.apply_support(50, 'pin') ## Criando apoios\n",
    "b.apply_support(0, 'fixed')\n",
    "b.apply_support(20, 'roller')\n",
    "b.load"
   ]
  },
  {
   "cell_type": "code",
   "execution_count": 89,
   "metadata": {},
   "outputs": [
    {
     "data": {
      "image/png": "[encoded data removed]",
      "text/plain": [
       "<Figure size 432x288 with 1 Axes>"
      ]
     },
     "metadata": {
      "filenames": {
       "image/png": "/home/adame/Documentos/Git/cursosympy/_build/jupyter_execute/chapters/6_77_0.png"
      },
      "needs_background": "light"
     },
     "output_type": "display_data"
    }
   ],
   "source": [
    "p = b.draw()\n",
    "p.show()"
   ]
  }
 ],
 "metadata": {
  "kernelspec": {
   "display_name": "Python 3",
   "language": "python",
   "name": "python3"
  },
  "language_info": {
   "codemirror_mode": {
    "name": "ipython",
    "version": 3
   },
   "file_extension": ".py",
   "mimetype": "text/x-python",
   "name": "python",
   "nbconvert_exporter": "python",
   "pygments_lexer": "ipython3",
   "version": "3.7.10"
  }
 },
 "nbformat": 4,
 "nbformat_minor": 4
}