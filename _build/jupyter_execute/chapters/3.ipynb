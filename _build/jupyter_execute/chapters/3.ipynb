{
 "cells": [
  {
   "cell_type": "markdown",
   "metadata": {},
   "source": [
    "# Primeiros Passos com o Sympy\n",
    "\n",
    "## Instalação\n",
    "\n",
    "Você possivelmente deve estar se perguntando como instalar o `Sympy`. Se você já utilizou algum outro módulo em Python, possivelmente imaginou em instalá-lo utilizando o `pip` (software que pedimos que garantisse sua sua instalação no capítulo 0).\n",
    "\n",
    "Contudo, se você utiliza está utilizando notebooks com o Anaconda (nossa recomendação para esse módulo), o `Sympy` já está instalado, basta carregá-lo.\n",
    "\n",
    "Caso esteja desenvolvendo em outro ambiente, uma forma de instalar é com o pip, por exemplo:\n",
    "\n",
    "```bash\n",
    "pip install sympy\n",
    "```\n",
    "\n",
    "## Carregando o Módulo\n",
    "\n",
    "Para utilizar os comandos do `Sympy` de forma nativa em nossos scripts, precisamos importá-lo globalmente. Para isso utilizamos as palavras-chave `import` e `from`. Isso não foi abordado no capítulo anterior devido a sua complexidade, mas essa é uma forma de importar módulos em Python.\n",
    "\n",
    "Portanto, basta criar e executar a seguinte _chunk_:"
   ]
  },
  {
   "cell_type": "code",
   "execution_count": 1,
   "metadata": {},
   "outputs": [],
   "source": [
    "from sympy import *\n",
    "init_printing(use_unicode=True, use_latex='mathjax') # Para imprimir LaTeX"
   ]
  },
  {
   "cell_type": "markdown",
   "metadata": {},
   "source": [
    "O `*` significa que estamos importando o módulo por completo."
   ]
  },
  {
   "cell_type": "markdown",
   "metadata": {},
   "source": [
    "## Trabalhando com expressões matemáticas\n",
    "\n",
    "Como o `Sympy` tem como objetivo o cálculo simbólico, tudo é baseado a partir dos simbólos. Ou seja, as nossas querídas variáveis (como $x$, $y$, e $z$) sendo interpretadas com suas propriedades matemáticas. \n",
    "\n",
    "Portanto, para utilizá-las, precisamos criar seus símbolos. Por enquanto, vamos utilizar somente o $x$. Então, para o `x` do Python significar a variável $x$ fazemos:"
   ]
  },
  {
   "cell_type": "code",
   "execution_count": 2,
   "metadata": {},
   "outputs": [
    {
     "data": {
      "text/latex": [
       "$\\displaystyle x$"
      ],
      "text/plain": [
       "x"
      ]
     },
     "execution_count": 2,
     "metadata": {},
     "output_type": "execute_result"
    }
   ],
   "source": [
    "x = symbols('x')\n",
    "x"
   ]
  },
  {
   "cell_type": "markdown",
   "metadata": {},
   "source": [
    "Note que nossa saída matemática será processada por um compilador $\\LaTeX$ para facilitar a leitura.\n",
    "\n",
    "No caso, você pode utilizar `x` como um número, e as expressões aparecerão normalmente (sem igualdade)."
   ]
  },
  {
   "cell_type": "code",
   "execution_count": 3,
   "metadata": {},
   "outputs": [
    {
     "data": {
      "text/latex": [
       "$\\displaystyle x^{2} - 4 x + 3$"
      ],
      "text/plain": [
       " 2          \n",
       "x  - 4⋅x + 3"
      ]
     },
     "execution_count": 3,
     "metadata": {},
     "output_type": "execute_result"
    }
   ],
   "source": [
    "x**2 - 4*x + 3"
   ]
  },
  {
   "cell_type": "markdown",
   "metadata": {},
   "source": [
    "Caso você queira a solução de uma expressão que seja igual a 0 (ou suas raízes, em outras palavras), em respeito a uma variável, você pode usar a função `solve()`. Ela recebe dois parâmetros obrigatórios, sua expressão e a variável que você quer a solução."
   ]
  },
  {
   "cell_type": "code",
   "execution_count": 4,
   "metadata": {},
   "outputs": [
    {
     "data": {
      "text/latex": [
       "$\\displaystyle \\left[ 1, \\  3\\right]$"
      ],
      "text/plain": [
       "[1, 3]"
      ]
     },
     "execution_count": 4,
     "metadata": {},
     "output_type": "execute_result"
    }
   ],
   "source": [
    "solve(x**2 - 4*x + 3, x)"
   ]
  },
  {
   "cell_type": "code",
   "execution_count": 5,
   "metadata": {},
   "outputs": [
    {
     "data": {
      "text/latex": [
       "$\\displaystyle \\left[ 0, \\  4\\right]$"
      ],
      "text/plain": [
       "[0, 4]"
      ]
     },
     "execution_count": 5,
     "metadata": {},
     "output_type": "execute_result"
    }
   ],
   "source": [
    "solve(sqrt(x) - (x/2),x)"
   ]
  },
  {
   "cell_type": "markdown",
   "metadata": {},
   "source": [
    "Inclusive, caso queira uma resposta como costumamos escrever no papel, ou seja, em forma de conjunto e suas condições, podemos utilizar o `solveset()`. A maior diferença é que ele pode receber o conjunto numérico onde você quer trabalhar através do parâmetro `domain`. Na maioria das vezes podemos utilizar `domain=S.Reals` ou `domain=S.Complexes`."
   ]
  },
  {
   "cell_type": "code",
   "execution_count": 195,
   "metadata": {},
   "outputs": [
    {
     "data": {
      "text/latex": [
       "$\\displaystyle \\emptyset$"
      ],
      "text/plain": [
       "∅"
      ]
     },
     "execution_count": 195,
     "metadata": {},
     "output_type": "execute_result"
    }
   ],
   "source": [
    "solveset(x**2 - 4*x  +20,x, domain=S.Reals)"
   ]
  },
  {
   "cell_type": "code",
   "execution_count": 196,
   "metadata": {},
   "outputs": [
    {
     "data": {
      "text/latex": [
       "$\\displaystyle \\left\\{2 - 4 i, 2 + 4 i\\right\\}$"
      ],
      "text/plain": [
       "{2 - 4⋅ⅈ, 2 + 4⋅ⅈ}"
      ]
     },
     "execution_count": 196,
     "metadata": {},
     "output_type": "execute_result"
    }
   ],
   "source": [
    "solveset(x**2 - 4*x  +20,x, domain=S.Complexes)"
   ]
  },
  {
   "cell_type": "code",
   "execution_count": 209,
   "metadata": {},
   "outputs": [
    {
     "data": {
      "text/latex": [
       "$\\displaystyle \\left\\{2 n \\pi\\; |\\; n \\in \\mathbb{Z}\\right\\} \\cup \\left\\{2 n \\pi + \\pi\\; |\\; n \\in \\mathbb{Z}\\right\\}$"
      ],
      "text/plain": [
       "{2⋅n⋅π | n ∊ ℤ} ∪ {2⋅n⋅π + π | n ∊ ℤ}"
      ]
     },
     "execution_count": 209,
     "metadata": {},
     "output_type": "execute_result"
    }
   ],
   "source": [
    "solveset(tan(x), x, domain=S.Reals)"
   ]
  },
  {
   "cell_type": "markdown",
   "metadata": {},
   "source": [
    "Vamos criar uma variável para armazenar essa primeira expressão para mostrar outros exemplos"
   ]
  },
  {
   "cell_type": "code",
   "execution_count": 6,
   "metadata": {},
   "outputs": [],
   "source": [
    "expr = x**2 - 4*x + 3"
   ]
  },
  {
   "cell_type": "markdown",
   "metadata": {},
   "source": [
    "Podemos achar valores utilizando o método `subs()`. Novamente, devemos especficiar a variável."
   ]
  },
  {
   "cell_type": "code",
   "execution_count": 7,
   "metadata": {},
   "outputs": [
    {
     "data": {
      "text/latex": [
       "$\\displaystyle -1$"
      ],
      "text/plain": [
       "-1"
      ]
     },
     "execution_count": 7,
     "metadata": {},
     "output_type": "execute_result"
    }
   ],
   "source": [
    "expr.subs(x,2) # Se y = expr, esse é o valor de y quando x = 2."
   ]
  },
  {
   "cell_type": "code",
   "execution_count": 8,
   "metadata": {},
   "outputs": [
    {
     "data": {
      "text/latex": [
       "$\\displaystyle 0$"
      ],
      "text/plain": [
       "0"
      ]
     },
     "execution_count": 8,
     "metadata": {},
     "output_type": "execute_result"
    }
   ],
   "source": [
    "expr.subs(x,1)"
   ]
  },
  {
   "cell_type": "markdown",
   "metadata": {},
   "source": [
    "Se tivermos uma expressão numérica não-inteira e quisermos achar a solução em um ponto flutuante (`float`), podemos usar o método `evalf()`."
   ]
  },
  {
   "cell_type": "code",
   "execution_count": 9,
   "metadata": {},
   "outputs": [
    {
     "data": {
      "text/latex": [
       "$\\displaystyle 2 \\sqrt{2}$"
      ],
      "text/plain": [
       "2⋅√2"
      ]
     },
     "execution_count": 9,
     "metadata": {},
     "output_type": "execute_result"
    }
   ],
   "source": [
    "my_sqrt = sqrt(8)\n",
    "my_sqrt"
   ]
  },
  {
   "cell_type": "code",
   "execution_count": 10,
   "metadata": {},
   "outputs": [
    {
     "data": {
      "text/latex": [
       "$\\displaystyle 2.82842712474619$"
      ],
      "text/plain": [
       "2.82842712474619"
      ]
     },
     "execution_count": 10,
     "metadata": {},
     "output_type": "execute_result"
    }
   ],
   "source": [
    "my_sqrt.evalf()"
   ]
  },
  {
   "cell_type": "markdown",
   "metadata": {},
   "source": [
    "Como viu acima, possivelmente há uma função do `SymPy` que represente uma operação ou função matemática. Por exemplo, temos `sqrt()`, `log()`, `exp()`, `sin()` e etc. Quando sentir necessidade de utilizar uma dessa, tente antes de consultar a documentação. Caso não consiga \"adivinhar\", faça uma consulta que, com toda certeza, haverá uma função que te atenderá."
   ]
  },
  {
   "cell_type": "markdown",
   "metadata": {},
   "source": [
    "Existem algumas funções que \"fazem Álgebra\" por si só. Veja alguns exemplos:"
   ]
  },
  {
   "cell_type": "code",
   "execution_count": 11,
   "metadata": {},
   "outputs": [
    {
     "data": {
      "text/latex": [
       "$\\displaystyle x + 1$"
      ],
      "text/plain": [
       "x + 1"
      ]
     },
     "execution_count": 11,
     "metadata": {},
     "output_type": "execute_result"
    }
   ],
   "source": [
    "# Simplifica\n",
    "simplify((x**2 + x)/x) "
   ]
  },
  {
   "cell_type": "code",
   "execution_count": 12,
   "metadata": {},
   "outputs": [
    {
     "data": {
      "text/latex": [
       "$\\displaystyle \\frac{x - 1}{x}$"
      ],
      "text/plain": [
       "x - 1\n",
       "─────\n",
       "  x  "
      ]
     },
     "execution_count": 12,
     "metadata": {},
     "output_type": "execute_result"
    }
   ],
   "source": [
    "# Fatora\n",
    "factor(1-1/x)"
   ]
  },
  {
   "cell_type": "code",
   "execution_count": 13,
   "metadata": {},
   "outputs": [
    {
     "data": {
      "text/latex": [
       "$\\displaystyle x^{6} + 9 x^{5} + 27 x^{4} + 27 x^{3}$"
      ],
      "text/plain": [
       " 6      5       4       3\n",
       "x  + 9⋅x  + 27⋅x  + 27⋅x "
      ]
     },
     "execution_count": 13,
     "metadata": {},
     "output_type": "execute_result"
    }
   ],
   "source": [
    "# Expande\n",
    "expand((x**2 + 3*x)**3)"
   ]
  },
  {
   "cell_type": "code",
   "execution_count": 14,
   "metadata": {},
   "outputs": [
    {
     "data": {
      "text/latex": [
       "$\\displaystyle x^{3} - x^{2} + 5 x - 18$"
      ],
      "text/plain": [
       " 3    2           \n",
       "x  - x  + 5⋅x - 18"
      ]
     },
     "execution_count": 14,
     "metadata": {},
     "output_type": "execute_result"
    }
   ],
   "source": [
    "# Agrupa potências de uma variável (que vai como segundo parâmetro)\n",
    "collect(x**2 + 4*x - 2*x**2 + x -20 + x**3 + 2, x)"
   ]
  },
  {
   "cell_type": "code",
   "execution_count": 15,
   "metadata": {},
   "outputs": [
    {
     "data": {
      "text/latex": [
       "$\\displaystyle - \\frac{11}{3 \\left(x + 3\\right)} + \\frac{14}{3 x} - \\frac{6}{x^{2}}$"
      ],
      "text/plain": [
       "      11       14   6 \n",
       "- ───────── + ─── - ──\n",
       "  3⋅(x + 3)   3⋅x    2\n",
       "                    x "
      ]
     },
     "execution_count": 15,
     "metadata": {},
     "output_type": "execute_result"
    }
   ],
   "source": [
    "# Separa fração em frações parciais\n",
    "apart((x**2 + 8*x-18)/(x**3 + 3*x**2))"
   ]
  },
  {
   "cell_type": "markdown",
   "metadata": {},
   "source": [
    "Além desses principais, ainda há `trigsimp()` e `expand_trig()` que simplificam e expandem funções trigonométricas (a partir das identidades de adição de arco). E outras que fazem o mesmo para potências, logaritmos e outros tipos de funções. Nesse caso, acho que vale a pena dar uma olhada na documentação. Elas todas são bem parecidas.\n",
    "\n",
    "Finalizando esse tópico inicial, temos como substituir uma função em termos de outra. Por exemplo:"
   ]
  },
  {
   "cell_type": "code",
   "execution_count": 16,
   "metadata": {},
   "outputs": [
    {
     "data": {
      "text/latex": [
       "$\\displaystyle \\cos{\\left(x - \\frac{\\pi}{2} \\right)}$"
      ],
      "text/plain": [
       "   ⎛    π⎞\n",
       "cos⎜x - ─⎟\n",
       "   ⎝    2⎠"
      ]
     },
     "execution_count": 16,
     "metadata": {},
     "output_type": "execute_result"
    }
   ],
   "source": [
    "sin(x).rewrite(cos)"
   ]
  },
  {
   "cell_type": "code",
   "execution_count": 17,
   "metadata": {},
   "outputs": [
    {
     "data": {
      "text/latex": [
       "$\\displaystyle e^{3 \\log{\\left(x \\right)}}$"
      ],
      "text/plain": [
       " 3⋅log(x)\n",
       "ℯ        "
      ]
     },
     "execution_count": 17,
     "metadata": {},
     "output_type": "execute_result"
    }
   ],
   "source": [
    "(x**3).rewrite(exp)"
   ]
  },
  {
   "cell_type": "markdown",
   "metadata": {},
   "source": [
    "### Equações\n",
    "\n",
    "Ok, nós vimos como utilizar expressões. Mas, como tratamos equações? Como vimos no capítulo anterior `=` significa atribuição e `==` é uma operação booleana (ou seja, recebemos `True` ou `False`).\n",
    "\n",
    "Para equações criamos uma classe `Eq()`. Não se preocupe com a nomenclatura, é só uma forma de criar um objeto do tipo `Eq`. Para criar esse objeto, passamos dois argumentos: cada lado da equação, respectivamente. Veja:"
   ]
  },
  {
   "cell_type": "code",
   "execution_count": 18,
   "metadata": {},
   "outputs": [
    {
     "data": {
      "text/latex": [
       "$\\displaystyle x^{2} = 2$"
      ],
      "text/plain": [
       " 2    \n",
       "x  = 2"
      ]
     },
     "execution_count": 18,
     "metadata": {},
     "output_type": "execute_result"
    }
   ],
   "source": [
    "eq = Eq(x**2, 2)\n",
    "eq"
   ]
  },
  {
   "cell_type": "markdown",
   "metadata": {},
   "source": [
    "Podemos utilizar o mesmo método para encontrar suas raízes."
   ]
  },
  {
   "cell_type": "code",
   "execution_count": 19,
   "metadata": {},
   "outputs": [
    {
     "data": {
      "text/latex": [
       "$\\displaystyle \\left[ - \\sqrt{2}, \\  \\sqrt{2}\\right]$"
      ],
      "text/plain": [
       "[-√2, √2]"
      ]
     },
     "execution_count": 19,
     "metadata": {},
     "output_type": "execute_result"
    }
   ],
   "source": [
    "solve(eq,x)"
   ]
  },
  {
   "cell_type": "markdown",
   "metadata": {},
   "source": [
    "### Igualdade\n",
    "\n",
    "Como verificar igualdade entre duas expressões? O `==` só servirá para expressões identicas (não somente em valor, mas também nos termos expressos). Para isso, utilizamos o método `equals()`. Veja: "
   ]
  },
  {
   "cell_type": "code",
   "execution_count": 20,
   "metadata": {},
   "outputs": [],
   "source": [
    "expr_1 = sin(x)**2"
   ]
  },
  {
   "cell_type": "code",
   "execution_count": 21,
   "metadata": {},
   "outputs": [],
   "source": [
    "expr_2 = .5*(1 -cos(2*x))"
   ]
  },
  {
   "cell_type": "markdown",
   "metadata": {},
   "source": [
    "Como veremos abaixo, pelo `==` as expressões seriam diferentes."
   ]
  },
  {
   "cell_type": "code",
   "execution_count": 22,
   "metadata": {},
   "outputs": [
    {
     "data": {
      "text/plain": [
       "False"
      ]
     },
     "execution_count": 22,
     "metadata": {},
     "output_type": "execute_result"
    }
   ],
   "source": [
    "expr_1 == expr_2"
   ]
  },
  {
   "cell_type": "markdown",
   "metadata": {},
   "source": [
    "Vejamos pelo método `equals()`:"
   ]
  },
  {
   "cell_type": "code",
   "execution_count": 23,
   "metadata": {},
   "outputs": [
    {
     "data": {
      "text/plain": [
       "True"
      ]
     },
     "execution_count": 23,
     "metadata": {},
     "output_type": "execute_result"
    }
   ],
   "source": [
    "expr_1.equals(expr_2)"
   ]
  },
  {
   "cell_type": "markdown",
   "metadata": {},
   "source": [
    "Podemos visualizar a igualdade da seguinte forma:"
   ]
  },
  {
   "cell_type": "code",
   "execution_count": 24,
   "metadata": {},
   "outputs": [
    {
     "data": {
      "text/latex": [
       "$\\displaystyle \\sin^{2}{\\left(x \\right)} = 0.5 - 0.5 \\cos{\\left(2 x \\right)}$"
      ],
      "text/plain": [
       "   2                        \n",
       "sin (x) = 0.5 - 0.5⋅cos(2⋅x)"
      ]
     },
     "execution_count": 24,
     "metadata": {},
     "output_type": "execute_result"
    }
   ],
   "source": [
    "Eq(expr_1,expr_2)"
   ]
  },
  {
   "cell_type": "markdown",
   "metadata": {},
   "source": [
    "### Sistemas de Equações\n",
    "\n",
    "Podemos, também utilizando `solve()` encontrar as soluções de um sistema de equações. Basta passar uma lista com as equações como parâmetro."
   ]
  },
  {
   "cell_type": "code",
   "execution_count": 210,
   "metadata": {},
   "outputs": [
    {
     "data": {
      "text/latex": [
       "$\\displaystyle \\left\\{ x : 25, \\  y : \\frac{55}{3}\\right\\}$"
      ],
      "text/plain": [
       "{x: 25, y: 55/3}"
      ]
     },
     "execution_count": 210,
     "metadata": {},
     "output_type": "execute_result"
    }
   ],
   "source": [
    "y, z = symbols('y z') # Criando o y simbólico\n",
    "Eqs = []\n",
    "Eqs.append(Eq(3*x - 3*y, 20))\n",
    "Eqs.append(Eq(-7*x + 9*y, -10))\n",
    "solve(Eqs, x, y)"
   ]
  },
  {
   "cell_type": "markdown",
   "metadata": {},
   "source": [
    "Caso esteja tentando resolver um sistema linear (como o acima), é possível utilizar o `linsolve()`."
   ]
  },
  {
   "cell_type": "code",
   "execution_count": 176,
   "metadata": {},
   "outputs": [
    {
     "data": {
      "text/latex": [
       "$\\displaystyle \\left\\{\\left( 25, \\  \\frac{55}{3}\\right)\\right\\}$"
      ],
      "text/plain": [
       "{(25, 55/3)}"
      ]
     },
     "execution_count": 176,
     "metadata": {},
     "output_type": "execute_result"
    }
   ],
   "source": [
    "linsolve(Eqs, x, y)"
   ]
  },
  {
   "cell_type": "code",
   "execution_count": 215,
   "metadata": {},
   "outputs": [
    {
     "data": {
      "text/latex": [
       "$\\displaystyle \\left\\{\\left( \\frac{175}{9}, \\  \\frac{445}{27}, \\  \\frac{50}{9}\\right)\\right\\}$"
      ],
      "text/plain": [
       "⎧⎛       445      ⎞⎫\n",
       "⎨⎜175/9, ───, 50/9⎟⎬\n",
       "⎩⎝        27      ⎠⎭"
      ]
     },
     "execution_count": 215,
     "metadata": {},
     "output_type": "execute_result"
    }
   ],
   "source": [
    "Eqs = []\n",
    "Eqs.append(Eq(3*x - 3*y + 2*z, 20))\n",
    "Eqs.append(Eq(-7*x + 9*y -4*z, -10))\n",
    "Eqs.append(Eq(-7*x + 9*y + 5*z, 40))\n",
    "linsolve(Eqs, x, y,z)"
   ]
  },
  {
   "cell_type": "code",
   "execution_count": 221,
   "metadata": {},
   "outputs": [
    {
     "data": {
      "text/latex": [
       "$\\displaystyle \\left\\{\\left( -3, \\  -3\\right), \\left( 3, \\  3\\right)\\right\\}$"
      ],
      "text/plain": [
       "{(-3, -3), (3, 3)}"
      ]
     },
     "execution_count": 221,
     "metadata": {},
     "output_type": "execute_result"
    }
   ],
   "source": [
    "Eqs = []\n",
    "Eqs.append(Eq(x**2 + y**2, 18)) #  Elipse de centro (0,0) e R^2 = 18\n",
    "Eqs.append(Eq(x, y)) # Reta identidade\n",
    "nonlinsolve(Eqs, x, y) # Sistema não-linear (solve também serve). No nosso caso, 2 pontos de intersecção."
   ]
  },
  {
   "cell_type": "markdown",
   "metadata": {},
   "source": [
    "## Exercícios\n",
    "\n",
    "Utilizando o que aprendeu nesse capítulo, tente resolver os seguintes exercícios:\n",
    "\n",
    "1. Encontre as raízes de cada uma das expressões abaixo. Depois encontre um par $(x,y)$ para cada:\n",
    "\n",
    "$$x^3 - 8x^2 + 4x + 3 $$\n",
    "\n",
    "$$\\sin(x) + 2\\cos(x)$$\n",
    "\n",
    "$$\\log\\left|\\dfrac{x^2 - x}{2}\\right|$$\n",
    "\n",
    "$$e^{-x^3 + 5x^2 -x} -1$$\n",
    "\n",
    "2. Encontre as soluções das equações abaixo:\n",
    "\n",
    "$$x^4 - 4x^3 + x^2 - 30 = -x^2 + x - 40$$\n",
    "\n",
    "$$2^{x^2 -x} = 3^x$$\n",
    "\n",
    "$$\\log\\left|x^3 - 2x^2 +x\\right| = \\log\\left|x^2 + 6x\\right|$$\n",
    "\n",
    "3. Verifique se as igualdades são verdadeiras:\n",
    "\n",
    "$$\\Gamma\\left(\\dfrac{3}{2}\\right) = \\dfrac{\\sqrt{\\pi}}{2}$$\n",
    "\n",
    "$$\\sin(2x^2) - \\cos(x^2 +x) = \\sin{\\left(x \\right)} \\sin{\\left(x^{2} \\right)} + 2 \\sin{\\left(x^{2} \\right)} \\cos{\\left(x^{2} \\right)} - \\cos{\\left(x \\right)} \\cos{\\left(x^{2} \\right)}$$\n",
    "\n",
    "$$(x^2 -3x)(2x^4 + x^3 - x)(-4x^2)= 8 x^{8} + 20 x^{7} + 12 x^{6} + 4 x^{5} - 12 x^{4}$$\n",
    "\n",
    "4. Encontre as soluções do sistema:\n",
    "\n",
    "$$\\begin{cases}4x - 3y + 2z = 60\\\\ (x - 10)^2 + y^2 + z^2 = 72\\\\ 2x + 9y +z = 20 \\end{cases}$$"
   ]
  }
 ],
 "metadata": {
  "kernelspec": {
   "display_name": "Python 3",
   "language": "python",
   "name": "python3"
  },
  "language_info": {
   "codemirror_mode": {
    "name": "ipython",
    "version": 3
   },
   "file_extension": ".py",
   "mimetype": "text/x-python",
   "name": "python",
   "nbconvert_exporter": "python",
   "pygments_lexer": "ipython3",
   "version": "3.7.6"
  }
 },
 "nbformat": 4,
 "nbformat_minor": 4
}