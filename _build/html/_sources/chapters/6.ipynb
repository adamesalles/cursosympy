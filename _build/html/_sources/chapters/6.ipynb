{
 "cells": [
  {
   "cell_type": "markdown",
   "metadata": {},
   "source": [
    "# Extras\n",
    "\n",
    "Como a principal intenção do curso é prepará-los para o uso de `SymPy` nas disciplinas que envolvem Cálculo, ao finalizar o capítulo anterior você deve estar pronto para resolver seus problemas utilizando esse módulo. Contudo, eu acredito que há muito a se falar sobre esse módulo. E, portanto, esse capítulo fará uma abordagem rápida sobre algumas coisas que são possíveis com ele.\n",
    "\n",
    "## Geometria\n",
    "\n",
    "Isso mesmo, nós podemos resolver problemas de Geometria tanto de forma simbólica, como de forma numérica. A ideia principal não é ficar criando plots com o sistema completo, mas sim trabalhar matemáticamente (indo para o lado da Geometria Analítica). \n",
    "\n",
    "Antes de começarmos essa seção e as próximas, faremos as devidas importações e definições:"
   ]
  },
  {
   "cell_type": "code",
   "execution_count": 1,
   "metadata": {},
   "outputs": [],
   "source": [
    "from sympy import *\n",
    "from sympy.geometry import * # Importante garantir que foi importado corretamente\n",
    "x, y, z = symbols('x y z')\n",
    "init_printing(use_unicode=True, use_latex='mathjax')"
   ]
  },
  {
   "cell_type": "markdown",
   "metadata": {},
   "source": [
    "### 2D\n",
    "\n",
    "Começando pela geometria em 2D, podemos seguir o processo de criar os pontos, as linhas (a partir dos pontos) e as formas 2D a partir dos segmentos. É bem simples e intuitivo, veja:"
   ]
  },
  {
   "cell_type": "code",
   "execution_count": 2,
   "metadata": {},
   "outputs": [],
   "source": [
    "O = Point(0,0)\n",
    "A = Point(1,2)\n",
    "B = Point(3,-4)\n",
    "C = Point(-2, 3)"
   ]
  },
  {
   "cell_type": "markdown",
   "metadata": {},
   "source": [
    "Você pode fazer as operações padrões entre pontos normalmente. "
   ]
  },
  {
   "cell_type": "code",
   "execution_count": 3,
   "metadata": {},
   "outputs": [
    {
     "data": {
      "text/latex": [
       "$\\displaystyle Point2D\\left(2, -6\\right)$"
      ],
      "text/plain": [
       "Point2D(2, -6)"
      ]
     },
     "execution_count": 3,
     "metadata": {},
     "output_type": "execute_result"
    }
   ],
   "source": [
    "B - A ## AB"
   ]
  },
  {
   "cell_type": "markdown",
   "metadata": {},
   "source": [
    "Contudo, o indicado é utilizar as classes, que já terão suas propriedades a fácil acesso."
   ]
  },
  {
   "cell_type": "code",
   "execution_count": 4,
   "metadata": {},
   "outputs": [
    {
     "data": {
      "image/svg+xml": [
       "<svg xmlns=\"http://www.w3.org/2000/svg\"\n",
       "            xmlns:xlink=\"http://www.w3.org/1999/xlink\"\n",
       "            width=\"100.0\" height=\"100.0\" viewBox=\"0.400000000000000 -4.60000000000000 3.20000000000000 7.20000000000000\"\n",
       "            preserveAspectRatio=\"xMinYMin meet\">\n",
       "            <defs>\n",
       "                <marker id=\"markerCircle\" markerWidth=\"8\" markerHeight=\"8\"\n",
       "                    refx=\"5\" refy=\"5\" markerUnits=\"strokeWidth\">\n",
       "                    <circle cx=\"5\" cy=\"5\" r=\"1.5\" style=\"stroke: none; fill:#000000;\"/>\n",
       "                </marker>\n",
       "                <marker id=\"markerArrow\" markerWidth=\"13\" markerHeight=\"13\" refx=\"2\" refy=\"4\"\n",
       "                       orient=\"auto\" markerUnits=\"strokeWidth\">\n",
       "                    <path d=\"M2,2 L2,6 L6,4\" style=\"fill: #000000;\" />\n",
       "                </marker>\n",
       "                <marker id=\"markerReverseArrow\" markerWidth=\"13\" markerHeight=\"13\" refx=\"6\" refy=\"4\"\n",
       "                       orient=\"auto\" markerUnits=\"strokeWidth\">\n",
       "                    <path d=\"M6,2 L6,6 L2,4\" style=\"fill: #000000;\" />\n",
       "                </marker>\n",
       "            </defs><g transform=\"matrix(1,0,0,-1,0,-2.00000000000000)\"><path fill-rule=\"evenodd\" fill=\"#66cc99\" stroke=\"#555555\" stroke-width=\"0.144000000000000\" opacity=\"0.6\" d=\"M 1.00000000000000,2.00000000000000 L 3.00000000000000,-4.00000000000000\" /></g></svg>"
      ],
      "text/latex": [
       "$\\displaystyle Segment2D\\left(Point2D\\left(1, 2\\right), Point2D\\left(3, -4\\right)\\right)$"
      ],
      "text/plain": [
       "Segment2D(Point2D(1, 2), Point2D(3, -4))"
      ]
     },
     "execution_count": 4,
     "metadata": {},
     "output_type": "execute_result"
    }
   ],
   "source": [
    "Segment(A,B) ## AB Simbólicamente"
   ]
  },
  {
   "cell_type": "code",
   "execution_count": 5,
   "metadata": {},
   "outputs": [
    {
     "data": {
      "text/latex": [
       "$\\displaystyle - \\frac{1}{3}$"
      ],
      "text/plain": [
       "-1/3"
      ]
     },
     "execution_count": 5,
     "metadata": {},
     "output_type": "execute_result"
    }
   ],
   "source": [
    "AC = Segment(A,C)\n",
    "AC.slope ## inclinação"
   ]
  },
  {
   "cell_type": "code",
   "execution_count": 6,
   "metadata": {},
   "outputs": [
    {
     "data": {
      "text/latex": [
       "$\\displaystyle \\sqrt{10}$"
      ],
      "text/plain": [
       "√10"
      ]
     },
     "execution_count": 6,
     "metadata": {},
     "output_type": "execute_result"
    }
   ],
   "source": [
    "AC.length ## comprimento"
   ]
  },
  {
   "cell_type": "code",
   "execution_count": 7,
   "metadata": {},
   "outputs": [
    {
     "data": {
      "text/latex": [
       "$\\displaystyle Point2D\\left(- \\frac{1}{2}, \\frac{5}{2}\\right)$"
      ],
      "text/plain": [
       "Point2D(-1/2, 5/2)"
      ]
     },
     "execution_count": 7,
     "metadata": {},
     "output_type": "execute_result"
    }
   ],
   "source": [
    "AC.midpoint ## ponto médio"
   ]
  },
  {
   "cell_type": "code",
   "execution_count": 8,
   "metadata": {},
   "outputs": [
    {
     "data": {
      "text/latex": [
       "$\\displaystyle \\text{True}$"
      ],
      "text/plain": [
       "True"
      ]
     },
     "execution_count": 8,
     "metadata": {},
     "output_type": "execute_result"
    }
   ],
   "source": [
    "AC.contains(A) ## Contém A?"
   ]
  },
  {
   "cell_type": "code",
   "execution_count": 9,
   "metadata": {},
   "outputs": [
    {
     "data": {
      "text/latex": [
       "$\\displaystyle 2 \\sqrt{10}$"
      ],
      "text/plain": [
       "2⋅√10"
      ]
     },
     "execution_count": 9,
     "metadata": {},
     "output_type": "execute_result"
    }
   ],
   "source": [
    "AC.distance(B) ## Menor distância ao ponto B"
   ]
  },
  {
   "cell_type": "markdown",
   "metadata": {},
   "source": [
    "Nós podemos criar linhas também"
   ]
  },
  {
   "cell_type": "code",
   "execution_count": 10,
   "metadata": {},
   "outputs": [
    {
     "data": {
      "image/svg+xml": [
       "<svg xmlns=\"http://www.w3.org/2000/svg\"\n",
       "            xmlns:xlink=\"http://www.w3.org/1999/xlink\"\n",
       "            width=\"100.0\" height=\"100.0\" viewBox=\"0.400000000000000 -4.60000000000000 3.20000000000000 7.20000000000000\"\n",
       "            preserveAspectRatio=\"xMinYMin meet\">\n",
       "            <defs>\n",
       "                <marker id=\"markerCircle\" markerWidth=\"8\" markerHeight=\"8\"\n",
       "                    refx=\"5\" refy=\"5\" markerUnits=\"strokeWidth\">\n",
       "                    <circle cx=\"5\" cy=\"5\" r=\"1.5\" style=\"stroke: none; fill:#000000;\"/>\n",
       "                </marker>\n",
       "                <marker id=\"markerArrow\" markerWidth=\"13\" markerHeight=\"13\" refx=\"2\" refy=\"4\"\n",
       "                       orient=\"auto\" markerUnits=\"strokeWidth\">\n",
       "                    <path d=\"M2,2 L2,6 L6,4\" style=\"fill: #000000;\" />\n",
       "                </marker>\n",
       "                <marker id=\"markerReverseArrow\" markerWidth=\"13\" markerHeight=\"13\" refx=\"6\" refy=\"4\"\n",
       "                       orient=\"auto\" markerUnits=\"strokeWidth\">\n",
       "                    <path d=\"M6,2 L6,6 L2,4\" style=\"fill: #000000;\" />\n",
       "                </marker>\n",
       "            </defs><g transform=\"matrix(1,0,0,-1,0,-2.00000000000000)\"><path fill-rule=\"evenodd\" fill=\"#66cc99\" stroke=\"#555555\" stroke-width=\"0.144000000000000\" opacity=\"0.6\" d=\"M 1.00000000000000,2.00000000000000 L 3.00000000000000,-4.00000000000000\" marker-start=\"url(#markerReverseArrow)\" marker-end=\"url(#markerArrow)\"/></g></svg>"
      ],
      "text/latex": [
       "$\\displaystyle Line2D\\left(Point2D\\left(1, 2\\right), Point2D\\left(3, -4\\right)\\right)$"
      ],
      "text/plain": [
       "Line2D(Point2D(1, 2), Point2D(3, -4))"
      ]
     },
     "execution_count": 10,
     "metadata": {},
     "output_type": "execute_result"
    }
   ],
   "source": [
    "Line(A,B)"
   ]
  },
  {
   "cell_type": "code",
   "execution_count": 11,
   "metadata": {},
   "outputs": [
    {
     "data": {
      "text/latex": [
       "$\\displaystyle 6 x + 2 y - 10$"
      ],
      "text/plain": [
       "6⋅x + 2⋅y - 10"
      ]
     },
     "execution_count": 11,
     "metadata": {},
     "output_type": "execute_result"
    }
   ],
   "source": [
    "l1 = Line(A,B)\n",
    "l1.equation() ## Equação da reta = 0"
   ]
  },
  {
   "cell_type": "code",
   "execution_count": 12,
   "metadata": {},
   "outputs": [
    {
     "data": {
      "text/latex": [
       "$\\displaystyle \\left( 6, \\  2, \\  -10\\right)$"
      ],
      "text/plain": [
       "(6, 2, -10)"
      ]
     },
     "execution_count": 12,
     "metadata": {},
     "output_type": "execute_result"
    }
   ],
   "source": [
    "l1.coefficients ## Coeficientes da reta"
   ]
  },
  {
   "cell_type": "markdown",
   "metadata": {},
   "source": [
    "Podemos criar uma reta ao dar um ponto inicial e uma inclinação, lembrando que: $y - y_0 = m(x-x_0)$"
   ]
  },
  {
   "cell_type": "code",
   "execution_count": 13,
   "metadata": {},
   "outputs": [
    {
     "data": {
      "text/latex": [
       "$\\displaystyle - 3 x + y - 9$"
      ],
      "text/plain": [
       "-3⋅x + y - 9"
      ]
     },
     "execution_count": 13,
     "metadata": {},
     "output_type": "execute_result"
    }
   ],
   "source": [
    "l2 = Line(C, slope = 3)\n",
    "l2.equation()"
   ]
  },
  {
   "cell_type": "code",
   "execution_count": 14,
   "metadata": {},
   "outputs": [
    {
     "data": {
      "text/latex": [
       "$\\displaystyle - x - 3 y + 7$"
      ],
      "text/plain": [
       "-x - 3⋅y + 7"
      ]
     },
     "execution_count": 14,
     "metadata": {},
     "output_type": "execute_result"
    }
   ],
   "source": [
    "l3 = l2.perpendicular_line(A) ## Retorna uma reta perpendicular que passa pelo ponto dado\n",
    "l3.equation()"
   ]
  },
  {
   "cell_type": "code",
   "execution_count": 15,
   "metadata": {},
   "outputs": [
    {
     "data": {
      "text/latex": [
       "$\\displaystyle - \\frac{1}{3}$"
      ],
      "text/plain": [
       "-1/3"
      ]
     },
     "execution_count": 15,
     "metadata": {},
     "output_type": "execute_result"
    }
   ],
   "source": [
    "l3.slope # -m^-1"
   ]
  },
  {
   "cell_type": "markdown",
   "metadata": {},
   "source": [
    "E nós podemos ver a intersecção entre duas entidades geométricas."
   ]
  },
  {
   "cell_type": "code",
   "execution_count": 16,
   "metadata": {},
   "outputs": [
    {
     "data": {
      "text/latex": [
       "$\\displaystyle \\left[ Point2D\\left(-2, 3\\right)\\right]$"
      ],
      "text/plain": [
       "[Point2D(-2, 3)]"
      ]
     },
     "execution_count": 16,
     "metadata": {},
     "output_type": "execute_result"
    }
   ],
   "source": [
    "intersection(l2,l3)"
   ]
  },
  {
   "cell_type": "code",
   "execution_count": 17,
   "metadata": {},
   "outputs": [
    {
     "data": {
      "text/latex": [
       "$\\displaystyle \\left[ Point2D\\left(1, 2\\right)\\right]$"
      ],
      "text/plain": [
       "[Point2D(1, 2)]"
      ]
     },
     "execution_count": 17,
     "metadata": {},
     "output_type": "execute_result"
    }
   ],
   "source": [
    "intersection(l1, l3) # Ponto A"
   ]
  },
  {
   "cell_type": "markdown",
   "metadata": {},
   "source": [
    "Para plotar, de modo geral, fazemos o uso do que aprendemos no último capítulo, a função `plot_implicit`."
   ]
  },
  {
   "cell_type": "code",
   "execution_count": 18,
   "metadata": {},
   "outputs": [
    {
     "data": {
      "image/png": "[encoded data removed]",
      "text/plain": [
       "<Figure size 432x288 with 1 Axes>"
      ]
     },
     "metadata": {
      "needs_background": "light"
     },
     "output_type": "display_data"
    },
    {
     "data": {
      "text/plain": [
       "<sympy.plotting.plot.Plot at 0x7f0748fd47d0>"
      ]
     },
     "execution_count": 18,
     "metadata": {},
     "output_type": "execute_result"
    }
   ],
   "source": [
    "plot_implicit(l1.equation()) "
   ]
  },
  {
   "cell_type": "markdown",
   "metadata": {},
   "source": [
    "Podemos criar figuras geométricas e encontrar suas áreas e verficiar intersecções. Veja os exemplos:"
   ]
  },
  {
   "cell_type": "code",
   "execution_count": 19,
   "metadata": {},
   "outputs": [
    {
     "data": {
      "image/svg+xml": [
       "<svg xmlns=\"http://www.w3.org/2000/svg\"\n",
       "            xmlns:xlink=\"http://www.w3.org/1999/xlink\"\n",
       "            width=\"100.0\" height=\"100.0\" viewBox=\"-2.70000000000000 -4.70000000000000 6.40000000000000 8.40000000000000\"\n",
       "            preserveAspectRatio=\"xMinYMin meet\">\n",
       "            <defs>\n",
       "                <marker id=\"markerCircle\" markerWidth=\"8\" markerHeight=\"8\"\n",
       "                    refx=\"5\" refy=\"5\" markerUnits=\"strokeWidth\">\n",
       "                    <circle cx=\"5\" cy=\"5\" r=\"1.5\" style=\"stroke: none; fill:#000000;\"/>\n",
       "                </marker>\n",
       "                <marker id=\"markerArrow\" markerWidth=\"13\" markerHeight=\"13\" refx=\"2\" refy=\"4\"\n",
       "                       orient=\"auto\" markerUnits=\"strokeWidth\">\n",
       "                    <path d=\"M2,2 L2,6 L6,4\" style=\"fill: #000000;\" />\n",
       "                </marker>\n",
       "                <marker id=\"markerReverseArrow\" markerWidth=\"13\" markerHeight=\"13\" refx=\"6\" refy=\"4\"\n",
       "                       orient=\"auto\" markerUnits=\"strokeWidth\">\n",
       "                    <path d=\"M6,2 L6,6 L2,4\" style=\"fill: #000000;\" />\n",
       "                </marker>\n",
       "            </defs><g transform=\"matrix(1,0,0,-1,0,-1.00000000000000)\"><path fill-rule=\"evenodd\" fill=\"#66cc99\" stroke=\"#555555\" stroke-width=\"0.168000000000000\" opacity=\"0.6\" d=\"M 1.00000000000000,2.00000000000000 L 3.00000000000000,-4.00000000000000 L -2.00000000000000,3.00000000000000 z\" /></g></svg>"
      ],
      "text/latex": [
       "$\\displaystyle Triangle\\left(Point2D\\left(1, 2\\right), Point2D\\left(3, -4\\right), Point2D\\left(-2, 3\\right)\\right)$"
      ],
      "text/plain": [
       "Triangle(Point2D(1, 2), Point2D(3, -4), Point2D(-2, 3))"
      ]
     },
     "execution_count": 19,
     "metadata": {},
     "output_type": "execute_result"
    }
   ],
   "source": [
    "trig = Triangle(A,B,C) # Cria um Triângulo\n",
    "trig"
   ]
  },
  {
   "cell_type": "code",
   "execution_count": 20,
   "metadata": {},
   "outputs": [
    {
     "data": {
      "text/latex": [
       "$\\displaystyle -8$"
      ],
      "text/plain": [
       "-8"
      ]
     },
     "execution_count": 20,
     "metadata": {},
     "output_type": "execute_result"
    }
   ],
   "source": [
    "trig.area ## Não utiliza valores absolutos"
   ]
  },
  {
   "cell_type": "code",
   "execution_count": 21,
   "metadata": {},
   "outputs": [
    {
     "data": {
      "text/latex": [
       "$\\displaystyle 8$"
      ],
      "text/plain": [
       "8"
      ]
     },
     "execution_count": 21,
     "metadata": {},
     "output_type": "execute_result"
    }
   ],
   "source": [
    "abs(trig.area) ## Correto"
   ]
  },
  {
   "cell_type": "code",
   "execution_count": 22,
   "metadata": {},
   "outputs": [
    {
     "data": {
      "text/latex": [
       "$\\displaystyle \\sqrt{74} + 3 \\sqrt{10}$"
      ],
      "text/plain": [
       "√74 + 3⋅√10"
      ]
     },
     "execution_count": 22,
     "metadata": {},
     "output_type": "execute_result"
    }
   ],
   "source": [
    "trig.perimeter ## Perímetro"
   ]
  },
  {
   "cell_type": "code",
   "execution_count": 23,
   "metadata": {},
   "outputs": [
    {
     "data": {
      "text/latex": [
       "$\\displaystyle Point2D\\left(\\frac{25}{4}, \\frac{23}{4}\\right)$"
      ],
      "text/plain": [
       "Point2D(25/4, 23/4)"
      ]
     },
     "execution_count": 23,
     "metadata": {},
     "output_type": "execute_result"
    }
   ],
   "source": [
    "trig.orthocenter ## Centro Ortogonal"
   ]
  },
  {
   "cell_type": "code",
   "execution_count": 24,
   "metadata": {},
   "outputs": [
    {
     "data": {
      "text/latex": [
       "$\\displaystyle Point2D\\left(- \\frac{17}{8}, - \\frac{19}{8}\\right)$"
      ],
      "text/plain": [
       "Point2D(-17/8, -19/8)"
      ]
     },
     "execution_count": 24,
     "metadata": {},
     "output_type": "execute_result"
    }
   ],
   "source": [
    "trig.circumcenter ## Circuncentro"
   ]
  },
  {
   "cell_type": "code",
   "execution_count": 25,
   "metadata": {},
   "outputs": [
    {
     "data": {
      "text/latex": [
       "$\\displaystyle \\left\\{ Point2D\\left(-2, 3\\right) : Segment2D\\left(Point2D\\left(-2, 3\\right), Point2D\\left(\\frac{2}{5}, \\frac{19}{5}\\right)\\right), \\  Point2D\\left(1, 2\\right) : Segment2D\\left(Point2D\\left(1, 2\\right), Point2D\\left(- \\frac{19}{37}, \\frac{34}{37}\\right)\\right), \\  Point2D\\left(3, -4\\right) : Segment2D\\left(Point2D\\left(3, -4\\right), Point2D\\left(\\frac{23}{5}, \\frac{4}{5}\\right)\\right)\\right\\}$"
      ],
      "text/plain": [
       "{Point2D(-2, 3): Segment2D(Point2D(-2, 3), Point2D(2/5, 19/5)), Point2D(1, 2):\n",
       " Segment2D(Point2D(1, 2), Point2D(-19/37, 34/37)), Point2D(3, -4): Segment2D(P\n",
       "oint2D(3, -4), Point2D(23/5, 4/5))}"
      ]
     },
     "execution_count": 25,
     "metadata": {},
     "output_type": "execute_result"
    }
   ],
   "source": [
    "trig.altitudes ## Alturas"
   ]
  },
  {
   "cell_type": "code",
   "execution_count": 26,
   "metadata": {},
   "outputs": [
    {
     "data": {
      "image/svg+xml": [
       "<svg xmlns=\"http://www.w3.org/2000/svg\"\n",
       "            xmlns:xlink=\"http://www.w3.org/1999/xlink\"\n",
       "            width=\"100.0\" height=\"100.0\" viewBox=\"1.00834142513773 0.239325998212708 -1.41521234154002 2.12281851231003\"\n",
       "            preserveAspectRatio=\"xMinYMin meet\">\n",
       "            <defs>\n",
       "                <marker id=\"markerCircle\" markerWidth=\"8\" markerHeight=\"8\"\n",
       "                    refx=\"5\" refy=\"5\" markerUnits=\"strokeWidth\">\n",
       "                    <circle cx=\"5\" cy=\"5\" r=\"1.5\" style=\"stroke: none; fill:#000000;\"/>\n",
       "                </marker>\n",
       "                <marker id=\"markerArrow\" markerWidth=\"13\" markerHeight=\"13\" refx=\"2\" refy=\"4\"\n",
       "                       orient=\"auto\" markerUnits=\"strokeWidth\">\n",
       "                    <path d=\"M2,2 L2,6 L6,4\" style=\"fill: #000000;\" />\n",
       "                </marker>\n",
       "                <marker id=\"markerReverseArrow\" markerWidth=\"13\" markerHeight=\"13\" refx=\"6\" refy=\"4\"\n",
       "                       orient=\"auto\" markerUnits=\"strokeWidth\">\n",
       "                    <path d=\"M6,2 L6,6 L2,4\" style=\"fill: #000000;\" />\n",
       "                </marker>\n",
       "            </defs><g transform=\"matrix(1,0,0,-1,0,2.60147050873544)\"><ellipse fill=\"#66cc99\" stroke=\"#555555\" stroke-width=\"0.0424563702462005\" opacity=\"0.6\" cx=\"0.300735254367722\" cy=\"1.30073525436772\" rx=\"-0.884507713462511\" ry=\"0.884507713462511\"/></g></svg>"
      ],
      "text/latex": [
       "$\\displaystyle Circle\\left(Point2D\\left(\\frac{- \\sqrt{10} + \\sqrt{74}}{\\sqrt{74} + 3 \\sqrt{10}}, \\frac{2 \\left(\\sqrt{10} + \\sqrt{74}\\right)}{\\sqrt{74} + 3 \\sqrt{10}}\\right), - \\frac{16}{\\sqrt{74} + 3 \\sqrt{10}}\\right)$"
      ],
      "text/plain": [
       "Circle(Point2D((-sqrt(10) + sqrt(74))/(sqrt(74) + 3*sqrt(10)), 2*(sqrt(10) + sqrt(74))/(sqrt(74) + 3*sqrt(10))), -16/(sqrt(74) + 3*sqrt(10)))"
      ]
     },
     "execution_count": 26,
     "metadata": {},
     "output_type": "execute_result"
    }
   ],
   "source": [
    "trig.incircle ## Círculo interno"
   ]
  },
  {
   "cell_type": "code",
   "execution_count": 27,
   "metadata": {},
   "outputs": [
    {
     "data": {
      "text/latex": [
       "$\\displaystyle \\left(x - \\frac{- \\sqrt{10} + \\sqrt{74}}{\\sqrt{74} + 3 \\sqrt{10}}\\right)^{2} + \\left(y - \\frac{2 \\left(\\sqrt{10} + \\sqrt{74}\\right)}{\\sqrt{74} + 3 \\sqrt{10}}\\right)^{2} - \\frac{256}{\\left(\\sqrt{74} + 3 \\sqrt{10}\\right)^{2}}$"
      ],
      "text/plain": [
       "                 2                      2                 \n",
       "⎛     -√10 + √74⎞    ⎛    2⋅(√10 + √74)⎞         256      \n",
       "⎜x - ───────────⎟  + ⎜y - ─────────────⎟  - ──────────────\n",
       "⎝    √74 + 3⋅√10⎠    ⎝     √74 + 3⋅√10 ⎠                 2\n",
       "                                            (√74 + 3⋅√10) "
      ]
     },
     "execution_count": 27,
     "metadata": {},
     "output_type": "execute_result"
    }
   ],
   "source": [
    "trig.incircle.equation()"
   ]
  },
  {
   "cell_type": "code",
   "execution_count": 28,
   "metadata": {},
   "outputs": [
    {
     "data": {
      "text/latex": [
       "$\\displaystyle \\left\\{ Point2D\\left(-2, 3\\right) : Segment2D\\left(Point2D\\left(-2, 3\\right), Point2D\\left(\\frac{11}{16} + \\frac{\\sqrt{185}}{16}, \\frac{47}{16} - \\frac{3 \\sqrt{185}}{16}\\right)\\right), \\  Point2D\\left(1, 2\\right) : Segment2D\\left(Point2D\\left(1, 2\\right), Point2D\\left(- \\frac{1}{3}, \\frac{2}{3}\\right)\\right), \\  Point2D\\left(3, -4\\right) : Segment2D\\left(Point2D\\left(3, -4\\right), Point2D\\left(\\frac{77}{17} - \\frac{6 \\sqrt{185}}{17}, \\frac{14}{17} + \\frac{2 \\sqrt{185}}{17}\\right)\\right)\\right\\}$"
      ],
      "text/plain": [
       "{Point2D(-2, 3): Segment2D(Point2D(-2, 3), Point2D(11/16 + sqrt(185)/16, 47/16\n",
       " - 3*sqrt(185)/16)), Point2D(1, 2): Segment2D(Point2D(1, 2), Point2D(-1/3, 2/3\n",
       ")), Point2D(3, -4): Segment2D(Point2D(3, -4), Point2D(77/17 - 6*sqrt(185)/17, \n",
       "14/17 + 2*sqrt(185)/17))}"
      ]
     },
     "execution_count": 28,
     "metadata": {},
     "output_type": "execute_result"
    }
   ],
   "source": [
    "trig.bisectors() ## Bissetrizes"
   ]
  },
  {
   "cell_type": "code",
   "execution_count": 29,
   "metadata": {},
   "outputs": [
    {
     "data": {
      "image/svg+xml": [
       "<svg xmlns=\"http://www.w3.org/2000/svg\"\n",
       "            xmlns:xlink=\"http://www.w3.org/1999/xlink\"\n",
       "            width=\"100.0\" height=\"100.0\" viewBox=\"-0.466666666666667 0.533333333333333 1.60000000000000 1.60000000000000\"\n",
       "            preserveAspectRatio=\"xMinYMin meet\">\n",
       "            <defs>\n",
       "                <marker id=\"markerCircle\" markerWidth=\"8\" markerHeight=\"8\"\n",
       "                    refx=\"5\" refy=\"5\" markerUnits=\"strokeWidth\">\n",
       "                    <circle cx=\"5\" cy=\"5\" r=\"1.5\" style=\"stroke: none; fill:#000000;\"/>\n",
       "                </marker>\n",
       "                <marker id=\"markerArrow\" markerWidth=\"13\" markerHeight=\"13\" refx=\"2\" refy=\"4\"\n",
       "                       orient=\"auto\" markerUnits=\"strokeWidth\">\n",
       "                    <path d=\"M2,2 L2,6 L6,4\" style=\"fill: #000000;\" />\n",
       "                </marker>\n",
       "                <marker id=\"markerReverseArrow\" markerWidth=\"13\" markerHeight=\"13\" refx=\"6\" refy=\"4\"\n",
       "                       orient=\"auto\" markerUnits=\"strokeWidth\">\n",
       "                    <path d=\"M6,2 L6,6 L2,4\" style=\"fill: #000000;\" />\n",
       "                </marker>\n",
       "            </defs><g transform=\"matrix(1,0,0,-1,0,2.66666666666667)\"><path fill-rule=\"evenodd\" fill=\"#66cc99\" stroke=\"#555555\" stroke-width=\"0.0320000000000000\" opacity=\"0.6\" d=\"M 1.00000000000000,2.00000000000000 L -0.333333333333333,0.666666666666667\" /></g></svg>"
      ],
      "text/latex": [
       "$\\displaystyle Segment2D\\left(Point2D\\left(1, 2\\right), Point2D\\left(- \\frac{1}{3}, \\frac{2}{3}\\right)\\right)$"
      ],
      "text/plain": [
       "Segment2D(Point2D(1, 2), Point2D(-1/3, 2/3))"
      ]
     },
     "execution_count": 29,
     "metadata": {},
     "output_type": "execute_result"
    }
   ],
   "source": [
    "trig.bisectors()[A] ## Bissetriz que passa no ponto A"
   ]
  },
  {
   "cell_type": "code",
   "execution_count": 30,
   "metadata": {},
   "outputs": [
    {
     "data": {
      "text/plain": [
       "False"
      ]
     },
     "execution_count": 30,
     "metadata": {},
     "output_type": "execute_result"
    }
   ],
   "source": [
    "trig.is_right() ## É triângulo retângulo?"
   ]
  },
  {
   "cell_type": "code",
   "execution_count": 31,
   "metadata": {},
   "outputs": [
    {
     "data": {
      "text/plain": [
       "True"
      ]
     },
     "execution_count": 31,
     "metadata": {},
     "output_type": "execute_result"
    }
   ],
   "source": [
    "trig.is_scalene() ## É triângulo escaleno?"
   ]
  },
  {
   "cell_type": "code",
   "execution_count": 32,
   "metadata": {},
   "outputs": [
    {
     "data": {
      "text/latex": [
       "$\\displaystyle \\left(x - 1\\right)^{2} + \\left(y - 2\\right)^{2} - 9$"
      ],
      "text/plain": [
       "       2          2    \n",
       "(x - 1)  + (y - 2)  - 9"
      ]
     },
     "execution_count": 32,
     "metadata": {},
     "output_type": "execute_result"
    }
   ],
   "source": [
    "circ = Circle(A, 3) ## Centro e Raio\n",
    "circ.equation()"
   ]
  },
  {
   "cell_type": "code",
   "execution_count": 33,
   "metadata": {},
   "outputs": [
    {
     "data": {
      "text/latex": [
       "$\\displaystyle 6 \\pi$"
      ],
      "text/plain": [
       "6⋅π"
      ]
     },
     "execution_count": 33,
     "metadata": {},
     "output_type": "execute_result"
    }
   ],
   "source": [
    "circ.circumference"
   ]
  },
  {
   "cell_type": "code",
   "execution_count": 34,
   "metadata": {},
   "outputs": [
    {
     "data": {
      "text/latex": [
       "$\\displaystyle 9 \\pi$"
      ],
      "text/plain": [
       "9⋅π"
      ]
     },
     "execution_count": 34,
     "metadata": {},
     "output_type": "execute_result"
    }
   ],
   "source": [
    "circ.area"
   ]
  },
  {
   "cell_type": "code",
   "execution_count": 35,
   "metadata": {},
   "outputs": [
    {
     "data": {
      "text/latex": [
       "$\\displaystyle \\left[ Point2D\\left(- \\frac{19}{37} + \\frac{5 \\sqrt{410}}{74}, \\frac{34}{37} - \\frac{7 \\sqrt{410}}{74}\\right), \\  Point2D\\left(1 - \\frac{9 \\sqrt{10}}{10}, \\frac{3 \\sqrt{10}}{10} + 2\\right), \\  Point2D\\left(\\frac{3 \\sqrt{10}}{10} + 1, 2 - \\frac{9 \\sqrt{10}}{10}\\right), \\  Point2D\\left(- \\frac{5 \\sqrt{410}}{74} - \\frac{19}{37}, \\frac{34}{37} + \\frac{7 \\sqrt{410}}{74}\\right)\\right]$"
      ],
      "text/plain": [
       "[Point2D(-19/37 + 5*sqrt(410)/74, 34/37 - 7*sqrt(410)/74), Point2D(1 - 9*sqrt(\n",
       "10)/10, 3*sqrt(10)/10 + 2), Point2D(3*sqrt(10)/10 + 1, 2 - 9*sqrt(10)/10), Poi\n",
       "nt2D(-5*sqrt(410)/74 - 19/37, 34/37 + 7*sqrt(410)/74)]"
      ]
     },
     "execution_count": 35,
     "metadata": {},
     "output_type": "execute_result"
    }
   ],
   "source": [
    "intersection(trig,circ)"
   ]
  },
  {
   "cell_type": "code",
   "execution_count": 36,
   "metadata": {},
   "outputs": [
    {
     "data": {
      "text/latex": [
       "$\\displaystyle \\left(\\frac{x}{3} - 1\\right)^{2} + \\left(\\frac{y}{2} + 2\\right)^{2} - 1$"
      ],
      "text/plain": [
       "       2          2    \n",
       "⎛x    ⎞    ⎛y    ⎞     \n",
       "⎜─ - 1⎟  + ⎜─ + 2⎟  - 1\n",
       "⎝3    ⎠    ⎝2    ⎠     "
      ]
     },
     "execution_count": 36,
     "metadata": {},
     "output_type": "execute_result"
    }
   ],
   "source": [
    "elips = Ellipse(B, 3, 2) ## Centro, Raio Horizontal, Raio Vertical\n",
    "elips.equation()"
   ]
  },
  {
   "cell_type": "code",
   "execution_count": 37,
   "metadata": {},
   "outputs": [
    {
     "data": {
      "text/latex": [
       "$\\displaystyle 12 E\\left(\\frac{5}{9}\\right)$"
      ],
      "text/plain": [
       "12⋅E(5/9)"
      ]
     },
     "execution_count": 37,
     "metadata": {},
     "output_type": "execute_result"
    }
   ],
   "source": [
    "elips.circumference ## Não há formulas"
   ]
  },
  {
   "cell_type": "code",
   "execution_count": 38,
   "metadata": {},
   "outputs": [
    {
     "data": {
      "text/latex": [
       "$\\displaystyle 15.8654395892906$"
      ],
      "text/plain": [
       "15.8654395892906"
      ]
     },
     "execution_count": 38,
     "metadata": {},
     "output_type": "execute_result"
    }
   ],
   "source": [
    "elips.circumference.evalf() ## Valor numérico"
   ]
  },
  {
   "cell_type": "code",
   "execution_count": 39,
   "metadata": {},
   "outputs": [
    {
     "data": {
      "text/latex": [
       "$\\displaystyle 6 \\pi$"
      ],
      "text/plain": [
       "6⋅π"
      ]
     },
     "execution_count": 39,
     "metadata": {},
     "output_type": "execute_result"
    }
   ],
   "source": [
    "elips.area"
   ]
  },
  {
   "cell_type": "code",
   "execution_count": 40,
   "metadata": {},
   "outputs": [
    {
     "data": {
      "text/latex": [
       "$\\displaystyle \\frac{\\sqrt{5}}{3}$"
      ],
      "text/plain": [
       "√5\n",
       "──\n",
       "3 "
      ]
     },
     "execution_count": 40,
     "metadata": {},
     "output_type": "execute_result"
    }
   ],
   "source": [
    "elips.eccentricity"
   ]
  },
  {
   "cell_type": "code",
   "execution_count": 41,
   "metadata": {},
   "outputs": [
    {
     "data": {
      "text/latex": [
       "$\\displaystyle \\left( Point2D\\left(3 - \\sqrt{5}, -4\\right), \\  Point2D\\left(\\sqrt{5} + 3, -4\\right)\\right)$"
      ],
      "text/plain": [
       "(Point2D(3 - sqrt(5), -4), Point2D(sqrt(5) + 3, -4))"
      ]
     },
     "execution_count": 41,
     "metadata": {},
     "output_type": "execute_result"
    }
   ],
   "source": [
    "elips.foci ## Focos"
   ]
  },
  {
   "cell_type": "code",
   "execution_count": 42,
   "metadata": {},
   "outputs": [
    {
     "data": {
      "text/latex": [
       "$\\displaystyle \\sqrt{5}$"
      ],
      "text/plain": [
       "√5"
      ]
     },
     "execution_count": 42,
     "metadata": {},
     "output_type": "execute_result"
    }
   ],
   "source": [
    "elips.focus_distance ## Distância Focal"
   ]
  },
  {
   "cell_type": "code",
   "execution_count": 43,
   "metadata": {},
   "outputs": [
    {
     "data": {
      "image/svg+xml": [
       "<svg xmlns=\"http://www.w3.org/2000/svg\"\n",
       "            xmlns:xlink=\"http://www.w3.org/1999/xlink\"\n",
       "            width=\"100.0\" height=\"100.0\" viewBox=\"-2.70000000000000 -4.70000000000000 6.40000000000000 8.40000000000000\"\n",
       "            preserveAspectRatio=\"xMinYMin meet\">\n",
       "            <defs>\n",
       "                <marker id=\"markerCircle\" markerWidth=\"8\" markerHeight=\"8\"\n",
       "                    refx=\"5\" refy=\"5\" markerUnits=\"strokeWidth\">\n",
       "                    <circle cx=\"5\" cy=\"5\" r=\"1.5\" style=\"stroke: none; fill:#000000;\"/>\n",
       "                </marker>\n",
       "                <marker id=\"markerArrow\" markerWidth=\"13\" markerHeight=\"13\" refx=\"2\" refy=\"4\"\n",
       "                       orient=\"auto\" markerUnits=\"strokeWidth\">\n",
       "                    <path d=\"M2,2 L2,6 L6,4\" style=\"fill: #000000;\" />\n",
       "                </marker>\n",
       "                <marker id=\"markerReverseArrow\" markerWidth=\"13\" markerHeight=\"13\" refx=\"6\" refy=\"4\"\n",
       "                       orient=\"auto\" markerUnits=\"strokeWidth\">\n",
       "                    <path d=\"M6,2 L6,6 L2,4\" style=\"fill: #000000;\" />\n",
       "                </marker>\n",
       "            </defs><g transform=\"matrix(1,0,0,-1,0,-1.00000000000000)\"><path fill-rule=\"evenodd\" fill=\"#66cc99\" stroke=\"#555555\" stroke-width=\"0.168000000000000\" opacity=\"0.6\" d=\"M 0,0 L 1.00000000000000,2.00000000000000 L 3.00000000000000,-4.00000000000000 L -2.00000000000000,3.00000000000000 z\" /></g></svg>"
      ],
      "text/latex": [
       "$\\displaystyle Polygon\\left(Point2D\\left(0, 0\\right), Point2D\\left(1, 2\\right), Point2D\\left(3, -4\\right), Point2D\\left(-2, 3\\right)\\right)$"
      ],
      "text/plain": [
       "Polygon(Point2D(0, 0), Point2D(1, 2), Point2D(3, -4), Point2D(-2, 3))"
      ]
     },
     "execution_count": 43,
     "metadata": {},
     "output_type": "execute_result"
    }
   ],
   "source": [
    "quad = Polygon(O,A,B,C)\n",
    "quad"
   ]
  },
  {
   "cell_type": "code",
   "execution_count": 44,
   "metadata": {},
   "outputs": [
    {
     "data": {
      "text/latex": [
       "$\\displaystyle - \\frac{9}{2}$"
      ],
      "text/plain": [
       "-9/2"
      ]
     },
     "execution_count": 44,
     "metadata": {},
     "output_type": "execute_result"
    }
   ],
   "source": [
    "quad.area"
   ]
  },
  {
   "cell_type": "code",
   "execution_count": 45,
   "metadata": {},
   "outputs": [
    {
     "data": {
      "text/latex": [
       "$\\displaystyle \\left\\{ Point2D\\left(-2, 3\\right) : \\operatorname{acos}{\\left(\\frac{31 \\sqrt{962}}{962} \\right)}, \\  Point2D\\left(0, 0\\right) : \\operatorname{acos}{\\left(\\frac{4 \\sqrt{65}}{65} \\right)}, \\  Point2D\\left(1, 2\\right) : \\frac{7 \\pi}{4}, \\  Point2D\\left(3, -4\\right) : - \\operatorname{acos}{\\left(\\frac{13 \\sqrt{185}}{185} \\right)} + 2 \\pi\\right\\}$"
      ],
      "text/plain": [
       "⎧                    ⎛31⋅√962⎞                     ⎛4⋅√65⎞                 7⋅π\n",
       "⎨Point2D(-2, 3): acos⎜───────⎟, Point2D(0, 0): acos⎜─────⎟, Point2D(1, 2): ───\n",
       "⎩                    ⎝  962  ⎠                     ⎝  65 ⎠                  4 \n",
       "\n",
       "                        ⎛13⋅√185⎞      ⎫\n",
       ", Point2D(3, -4): - acos⎜───────⎟ + 2⋅π⎬\n",
       "                        ⎝  185  ⎠      ⎭"
      ]
     },
     "execution_count": 45,
     "metadata": {},
     "output_type": "execute_result"
    }
   ],
   "source": [
    "quad.angles"
   ]
  },
  {
   "cell_type": "code",
   "execution_count": 46,
   "metadata": {},
   "outputs": [
    {
     "data": {
      "text/latex": [
       "$\\displaystyle \\frac{7 \\pi}{4}$"
      ],
      "text/plain": [
       "7⋅π\n",
       "───\n",
       " 4 "
      ]
     },
     "execution_count": 46,
     "metadata": {},
     "output_type": "execute_result"
    }
   ],
   "source": [
    "quad.angles[A] ## No ponto A"
   ]
  },
  {
   "cell_type": "code",
   "execution_count": 51,
   "metadata": {},
   "outputs": [
    {
     "data": {
      "text/latex": [
       "$\\displaystyle 315$"
      ],
      "text/plain": [
       "315"
      ]
     },
     "execution_count": 51,
     "metadata": {},
     "output_type": "execute_result"
    }
   ],
   "source": [
    "from sympy.physics.units import degree ## Importação das unidades\n",
    "quad.angles[A]/degree.scale_factor ## Transforma em Graus"
   ]
  }
 ],
 "metadata": {
  "kernelspec": {
   "display_name": "Python 3",
   "language": "python",
   "name": "python3"
  },
  "language_info": {
   "codemirror_mode": {
    "name": "ipython",
    "version": 3
   },
   "file_extension": ".py",
   "mimetype": "text/x-python",
   "name": "python",
   "nbconvert_exporter": "python",
   "pygments_lexer": "ipython3",
   "version": "3.7.10"
  }
 },
 "nbformat": 4,
 "nbformat_minor": 4
}
