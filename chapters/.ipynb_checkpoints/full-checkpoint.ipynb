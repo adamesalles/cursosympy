{
 "cells": [
  {
   "cell_type": "markdown",
   "metadata": {},
   "source": [
    "# Conhecendo e Preparando o Ambiente\n",
    "\n",
    "## Introdução\n",
    "\n",
    "Esse curso busca capacitar seus estudantes no tocante à biblioteca Sympy, do Python. Portanto, há a necessidade do conhecimento do próprio Python base. Com isso, o curso foi dividido em uma ordem lógica de aprendizagem para que o aluno consiga aprender continuamente, sem grandes \"degraus\" entre os assuntos. O capítulo 1 é uma introdução ao Python base, o que é suficiente para esse curso.\n",
    "\n",
    "Neste capítulo, temos como objetivo fazer a instalação e configuração do nosso ambiente de desenvolvimento. Se você já é desenvolvedor Python, não acredito que seja necessária sua mudança ao ambiente que será indicado a esse curso. Mas, caso seja iniciante, recomendo que siga as instruções.\n",
    "\n",
    "## Escolhendo um Ambiente\n",
    "\n",
    "Há duas opções para seguir esse curso: \n",
    "\n",
    "1. Na forma de Notebooks\n",
    "2. Na forma de Scripts\n",
    "\n",
    "No curso, serão utilizado notebooks. Mais especificamente, Jupyter Notebooks, através do ambiente JupyterHub. Mas, não se preocupe, ambas as opções serão eficientes. Embora a utilização do Sympy seja regularmente associada ao desenvolvimento em Jupyter.\n",
    "\n",
    "Na primeira opção, você só terá que instalar um pacote que virá com tudo incluso (IDE, Pacotes, etc.), e sua programação será mais parecida como um caderno. Onde você pode escrever, colocar imagens, matemática, e separar o código em blocos. Contudo, ele é mais pesado e menos flexível.\n",
    "\n",
    "Na segunda opção, você terá um ambiente mais semelhante à programação tradicional. Linha após linha e comentários. Você terá que instalar o Python puro, versionar/atualizar seus módulos manualmente (o que é mais trabalhoso, mas dá mais autonomia) e utilizar um Editor de Código/IDE.\n",
    "\n",
    "Caso não tenha entendido o que fora explicado acima, acredito que, nesse momento inicial, a primeira opção é a melhor para você. Contudo, ela não te ajudará a migrar para outra linguagem de programação no futuro, caso queira ou seja necessário. (Isso não é um problema, ao meu ver).\n",
    "\n",
    "## Instalando o Ambiente (1ª Opção)\n",
    "\n",
    "### Windows\n",
    "\n",
    "No Windows, a instalação é bem simples, utilizaremos o Anaconda. Para isso, baixe o [instalador do Anaconda](https://www.anaconda.com/download/#windows). \n",
    "\n",
    "Prossiga a instalação normalmente. Contudo, preste atenção às duas caixas de marcação (checkboxes) que perguntam sobre adicionar o Anaconda ao PATH e torná-lo padrão. Ambas as opções devem estar marcadas. \n",
    "\n",
    "Se ele oferecer a instalação de algum outro IDE (como o PyCharm), você pode negar.\n",
    "\n",
    "### Linux\n",
    "\n",
    "A instalação no Linux é um pouco mais complicada. Mas, se você utiliza Linux, possivelmente consegue instalar com certa facilidade.\n",
    "\n",
    "Verifique as dependências da sua distribuição nesse link: <https://docs.anaconda.com/anaconda/install/linux/>\n",
    "\n",
    "E depois siga a instalação com o [instalador para Linux](https://www.anaconda.com/download/#linux). Ele é um instalador em Bash, então recomendo que utilize os comandos prescritos no site do Anaconda.\n",
    "\n",
    "## Instalando o Ambiente (2ª Opção)\n",
    "\n",
    "Como dito na seção anterior, para essa opção temos que instalar 2 programas, além dos pacotes separadamente.\n",
    "\n",
    "### Windows\n",
    "\n",
    "No Windows, você terá que baixar e instalar o Python que está disponível nesse link: <https://www.python.org/downloads/>\n",
    "\n",
    "A instalação é bem simples, você só deve se certificar que ele será adicionado ao PATH e que o `pip` será instalado. (São duas caixinhas de marcar que devem aparecer)\n",
    "\n",
    "Para testar se a instalação deu certo, abra um prompt de comando (basta inserir ou cmd ou powershell no menu de pesquisa) e digite:\n",
    "\n",
    "```bash\n",
    "py --version\n",
    "```\n",
    "\n",
    "Deve aparecer a versão do Python que você instalou. Caso isso não ocorra, repita o procedimento e veja se fez tudo corretamente.\n",
    "\n",
    "Também confirme se o pip foi instalado corretamente:\n",
    "\n",
    "```bash\n",
    "pip --version\n",
    "```\n",
    "\n",
    "Após isso, você deve escolher um editor. A minha recomendação é o [Visual Studio Code](https://code.visualstudio.com/). \n",
    "\n",
    "Mas você pode utilizar outros como o [Atom](https://atom.io/) ou [PyCharm](https://www.jetbrains.com/pt-br/pycharm/download/).\n",
    "\n",
    "A instalação de todos é bem simples. Ao abri-los, certifique-se se é necessário instalar uma extensão para suporte ao Python. Caso for, instale-a.\n",
    "\n",
    "### Linux\n",
    "\n",
    "No Linux, a imensa maioria das distribuições já vêm com o Python instalado e disponível. A única diferença é que algumas adotam o nome `python3` e outras somente `python`.\n",
    "\n",
    "Para isso, teste no terminal:\n",
    "\n",
    "```bash\n",
    "python --version\n",
    "python3 --version\n",
    "```\n",
    "\n",
    "E comece a usar o que tem a versão mais atual.\n",
    "\n",
    "Também certifique-se se você tem o `pip` instalado\n",
    "\n",
    "```bash\n",
    "pip --version\n",
    "pip3 --version\n",
    "```\n",
    "\n",
    "Caso não tenha, veja como instalá-lo em sua distribuição.\n",
    "\n",
    "Assim como no Windows, você deve instalar um editor. As minhas recomendações são as mesmas para o Windows. Ou seja, primeiramente o [Visual Studio Code](https://code.visualstudio.com/). E depois ou o [Atom](https://atom.io/) ou o [PyCharm](https://www.jetbrains.com/pt-br/pycharm/download/).\n",
    "\n",
    "Todos têm versão para Linux e a instalação deve ser até mais simples que para windows. No caso do Visual Studio Code, recomendo que utilize a versão flatpak ou snap.\n",
    "\n",
    "## Como acompanhar as explicações do curso\n",
    "\n",
    "O nosso curso será baseado em Jupyter Notebooks, uma forma de programar em blocos. Esses blocos podem ser tanto de código como de texto.\n",
    "\n",
    "No caso, a primeira opção de ambiente lhe entregará um ambiente muito parecido com o que eu utilizei para escrever os meus Notebooks. Para a segunda, acredito que será mais difícil. Principalmente, pela ausência de alguns pacotes e softwares que vêm com o Anaconda. Mas, decidi incluí-la, pois há pessoas que precisam somente de uma consulta rápida, e possivelmente já têm seu ambiente de desenvolvimento, sendo em Anaconda ou não.\n",
    "\n",
    "Então, para a primeira opção, você deverá abrir o \"Anaconda Navigator\". Esse software servirá como gerenciador de pacotes e dos serviços. \n",
    "\n",
    "Como dito anteriormente, utilizaremos Jupyter Notebooks. Então basta clicar em \"Launch\" no card do Jupyter Notebook.\n",
    "\n",
    "Ele abrirá um navegador de arquivos no navegador, semelhante a um site. Basta escolher uma pasta onde gostaria de criar seus notebooks, e criá-los a partir do botão \"New\" e então escolha o _Python 3_.\n",
    "\n",
    "O curso não tem como foco específico ensinar o uso desse ambiente, uma vez que ele é bem simples. Basicamente, você deverá criar blocos (que costumamos chamar de _chunks_) de forma a organizar o entendimento e a saída do seu código. Ao escolher a opção \"Code\" para seu bloco, você deverá escrever códigos Python nele. No caso de \"Markdown\", você deverá escrever texto de acordo com a sintaxe da linguagem de marcação Markdown. \n",
    "\n",
    "Essa sintaxe é bem simples, dê uma olhada nessa \"tabela de cola\": <https://github.com/luong-komorebi/Markdown-Tutorial/blob/master/README_pt-BR.md>\n",
    "\n",
    "Para qualquer tipo de bloco, basta segurar a tecla Ctrl e apertar Enter para compilá-lo.\n"
   ]
  },
  {
   "cell_type": "markdown",
   "metadata": {},
   "source": [
    "## Exercícios\n",
    "\n",
    "1. Crie um chunk de markdown e escreva um título com o texto \"Olá mundo em Python\".\n",
    "2. Abaixo desse chunk, crie outro com o código `print('Olá mundo')`."
   ]
  },
  {
   "cell_type": "markdown",
   "metadata": {},
   "source": [
    "## Próximos passos\n",
    "\n",
    "Embora esse capítulo não tenha tido um bloco sequer de código, acredito que agora estão preparados para aprender os básicos de Python"
   ]
  },
  {
   "cell_type": "markdown",
   "metadata": {},
   "source": [
    "# Básicos da Programação em Python\n",
    "\n",
    "## Sobre o Python\n",
    "\n",
    "Não é por acaso que a linguagem de programação Python tem se tornado cada vez mais popular. Além do seu uso na computação, que ganhou um novo _hype_ por conta da Inteligência Artificial, a linguagem é uma ótima forma de introduzir uma pessoa à programação, de modo geral.\n",
    "\n",
    "A linguagem apresenta diversas facilidades em sua sintaxe, que não somente contibuem para a facilidade da escrita, mas também contribuem para o entendimento e documentação do código. \n",
    "\n",
    "Novamente, para não fugir do escopo do curso, não acredito que seja necessário listar as especificações técnicas da linguagem. Acredito que há somente alguns conceitos simples que são necessários para o uso da linguagem.\n",
    "\n",
    "- O Python é uma linguagem interpretada.\n",
    "\n",
    "Ou seja, o software gerado pelo código é o próprio código interpretado durante a execução\n",
    "\n",
    "- O Python interpretará linha após linha, do início ao fim do script (chunk, para nós).\n",
    "\n",
    "Para novatos em programação, isso deve ser fácil de aceitar. Mas pessoas com certa experiência podem questionar essa afirmação. Nesse caso, estou me referindo a forma que vamos utilizar a linguagem no curso e até onde iremos com as estruturas de programação da linguagem.\n",
    "\n",
    "- O Python diferencia letras maíusculas de minúsculas.\n",
    "\n",
    "Isso é chamado de \"sensitive case\". Tome cuidado ao reproduzir os exemplos e ao programar, de modo geral.\n",
    "\n",
    "- O Python reconhece espaços vazios.\n",
    "\n",
    "Isso é utilizado para definir o escopo dessa linha de código. Não se preocupe caso não tenha entendido, é mais simples do que aparenta ser. Isso basicamente é pra mostrar o \"quão dentro\" uma linha está de uma estrutura. Abordaremos isso mais tarde.\n",
    "\n",
    "- Texto precedido por `#` não são interpretadas\n",
    "\n",
    "Tudo que vier após um `#` em uma linha é chamado de comentário. Ele não é compilado e utilizaremos para comentar o código.\n",
    "\n",
    "## Definindo variáveis\n",
    "\n",
    "Uma variável é uma forma de armazenar certo valor e reutilizá-lo. Se quiser fazer uma comparação com a Matemática, apenas enxergue ele como um $x_0$ não um $x$ somente. Ou seja, ele vai ter um valor específico que pode mudar. Não necessáriamente ele seria \"todos os valores ao mesmo tempo\" como uma variável na matemática.\n",
    "\n",
    "Por exemplo, vamos criar a variável `name` que vai armazenar meu nome."
   ]
  },
  {
   "cell_type": "code",
   "execution_count": 1,
   "metadata": {},
   "outputs": [],
   "source": [
    "name = \"Eduardo\""
   ]
  },
  {
   "cell_type": "markdown",
   "metadata": {},
   "source": [
    "Agora, eu posso utilizar name em qualquer lugar do meu código. No caso, se eu mudar o valor de name, todo lugar onde name está terá seu valor trocado.\n",
    "\n",
    "Por exemplo:"
   ]
  },
  {
   "cell_type": "code",
   "execution_count": 2,
   "metadata": {},
   "outputs": [
    {
     "data": {
      "text/plain": [
       "'Eduardo'"
      ]
     },
     "execution_count": 2,
     "metadata": {},
     "output_type": "execute_result"
    }
   ],
   "source": [
    "name = \"Eduardo\"\n",
    "name"
   ]
  },
  {
   "cell_type": "code",
   "execution_count": 3,
   "metadata": {},
   "outputs": [
    {
     "data": {
      "text/plain": [
       "'Adame'"
      ]
     },
     "execution_count": 3,
     "metadata": {},
     "output_type": "execute_result"
    }
   ],
   "source": [
    "name = \"Adame\"\n",
    "name"
   ]
  },
  {
   "cell_type": "markdown",
   "metadata": {},
   "source": [
    "Para ficar mais claro, podemos ver algo como:"
   ]
  },
  {
   "cell_type": "code",
   "execution_count": 4,
   "metadata": {},
   "outputs": [
    {
     "data": {
      "text/plain": [
       "'Adame'"
      ]
     },
     "execution_count": 4,
     "metadata": {},
     "output_type": "execute_result"
    }
   ],
   "source": [
    "name = \"Eduardo\"\n",
    "name = \"Adame\"\n",
    "name"
   ]
  },
  {
   "cell_type": "markdown",
   "metadata": {},
   "source": [
    "Como pôde ver no _chunk_ acima, embora eu tenha atribuído o valor `\"Eduardo\"` ao `name` na primeira linha, o valor dele foi sobrescrito pela linha seguinte. \n",
    "\n",
    "## Tipos de Variáveis\n",
    "\n",
    "Acredito que deve ter notado que colocamos o valor entre `\" \"`. Por quê?\n",
    "\n",
    "Isso tem a ver com o tipo do valor. No Python, os tipos são dinamicamente interpretados através de sua sintaxe. E, nesse caso, nós inserimos uma `string`, que é utilizada para armazenar texto.\n",
    "\n",
    "Vamos falar sobre os principais tipos de variáveis que já vêm com o Python e como defini-las.\n",
    "\n",
    "### Inteiros\n",
    "\n",
    "Os inteiros são simplesmente definidos ao igualar uma variável a um número que pertença ao conjunto dos números inteiros, seja positivo ou negativo.\n",
    "\n"
   ]
  },
  {
   "cell_type": "code",
   "execution_count": 5,
   "metadata": {},
   "outputs": [
    {
     "data": {
      "text/plain": [
       "2"
      ]
     },
     "execution_count": 5,
     "metadata": {},
     "output_type": "execute_result"
    }
   ],
   "source": [
    "my_integer = 2\n",
    "my_integer"
   ]
  },
  {
   "cell_type": "markdown",
   "metadata": {},
   "source": [
    "### Floats\n",
    "\n",
    "Os floats, diferentemente dos inteiros, podem ser qualquer número real. Utilizamos ponto (`.`) para separar as casas decimais.\n"
   ]
  },
  {
   "cell_type": "code",
   "execution_count": 6,
   "metadata": {},
   "outputs": [
    {
     "data": {
      "text/plain": [
       "2.5"
      ]
     },
     "execution_count": 6,
     "metadata": {},
     "output_type": "execute_result"
    }
   ],
   "source": [
    "my_float = 2.5\n",
    "my_float"
   ]
  },
  {
   "cell_type": "markdown",
   "metadata": {},
   "source": [
    "### Strings\n",
    "\n",
    "Como dito anteriormente, strings são utilizados para textos. Basta envolver seu texto em aspas (`\" \"`) ou (`' '`). Para o Python, tanto faz se elas são simples ou duplas."
   ]
  },
  {
   "cell_type": "code",
   "execution_count": 7,
   "metadata": {},
   "outputs": [
    {
     "data": {
      "text/plain": [
       "'Textos são bem úteis, não acha?'"
      ]
     },
     "execution_count": 7,
     "metadata": {},
     "output_type": "execute_result"
    }
   ],
   "source": [
    "my_string = \"Textos são bem úteis, não acha?\"\n",
    "my_string"
   ]
  },
  {
   "cell_type": "markdown",
   "metadata": {},
   "source": [
    "### Booleanos\n",
    "\n",
    "Esse tipo de valor é utilizado para condições. Eles podem ser \"Falso\" (`False`) ou \"Verdadeiro\" (`True`). Preste atenção no sensitive case."
   ]
  },
  {
   "cell_type": "code",
   "execution_count": 8,
   "metadata": {},
   "outputs": [
    {
     "data": {
      "text/plain": [
       "(True, False)"
      ]
     },
     "execution_count": 8,
     "metadata": {},
     "output_type": "execute_result"
    }
   ],
   "source": [
    "do_i_like_math = True\n",
    "do_i_like_rlang = False\n",
    "do_i_like_math, do_i_like_rlang"
   ]
  },
  {
   "cell_type": "markdown",
   "metadata": {},
   "source": [
    "### Listas\n",
    "\n",
    "Nós utilizamos listas para agrupar outros valores. Uma lista pode armazenar qualquer tipo e em qualquer quantidade. Inclusive podemos fazer listas de listas."
   ]
  },
  {
   "cell_type": "code",
   "execution_count": 9,
   "metadata": {},
   "outputs": [
    {
     "data": {
      "text/plain": [
       "['Eduardo', 'Marcos', 'Ruan', 'João']"
      ]
     },
     "execution_count": 9,
     "metadata": {},
     "output_type": "execute_result"
    }
   ],
   "source": [
    "names = [\"Eduardo\", \"Marcos\", \"Ruan\", \"João\"]\n",
    "names"
   ]
  },
  {
   "cell_type": "code",
   "execution_count": 10,
   "metadata": {},
   "outputs": [
    {
     "data": {
      "text/plain": [
       "['Eduardo', 18, 1.78]"
      ]
     },
     "execution_count": 10,
     "metadata": {},
     "output_type": "execute_result"
    }
   ],
   "source": [
    "my_id = [\"Eduardo\", 18, 1.78]\n",
    "my_id"
   ]
  },
  {
   "cell_type": "markdown",
   "metadata": {},
   "source": [
    "Para acessar um valor em específico na lista utilizamos `[]` com o índice desse valor. A lista começa a contagem em 0. Veremos algumas outras coisas necessárias para o uso de listas posteriormente."
   ]
  },
  {
   "cell_type": "code",
   "execution_count": 11,
   "metadata": {},
   "outputs": [
    {
     "data": {
      "text/plain": [
       "'Marcos'"
      ]
     },
     "execution_count": 11,
     "metadata": {},
     "output_type": "execute_result"
    }
   ],
   "source": [
    "names[1] # \"Eduardo\" é o 0"
   ]
  },
  {
   "cell_type": "code",
   "execution_count": 12,
   "metadata": {},
   "outputs": [
    {
     "data": {
      "text/plain": [
       "1.78"
      ]
     },
     "execution_count": 12,
     "metadata": {},
     "output_type": "execute_result"
    }
   ],
   "source": [
    "my_id[2]"
   ]
  },
  {
   "cell_type": "markdown",
   "metadata": {},
   "source": [
    "## Operações\n",
    "\n",
    "Os operadores e as operações para cada tipo são diferentes. Principalmente quando ocorrem entre dois tipos diferentes. Os principais para cada um deles são:\n",
    "\n",
    "### Aritmética \n",
    "\n",
    "Com `int` e `float` é possível utilizar os operadores comuns da Matemática. Quando ocorre entre eles, o resultado será um `float`.\n",
    "\n",
    "Os principais operadores são:\n",
    "\n",
    " - `+`/`-` para adição/sutração.\n",
    " - `*`/`/` para multiplicação/divisão.\n",
    " - `**` para potenciação.\n",
    " - `%` para módulo (resto).\n",
    "\n",
    "Para alguns exemplos, como esse, não criarei variáveis, mas é possível criar para qualquer operação."
   ]
  },
  {
   "cell_type": "code",
   "execution_count": 13,
   "metadata": {},
   "outputs": [
    {
     "data": {
      "text/plain": [
       "47"
      ]
     },
     "execution_count": 13,
     "metadata": {},
     "output_type": "execute_result"
    }
   ],
   "source": [
    "5 + 2 + 4 * 10 "
   ]
  },
  {
   "cell_type": "code",
   "execution_count": 14,
   "metadata": {},
   "outputs": [
    {
     "data": {
      "text/plain": [
       "1.4142135623730951"
      ]
     },
     "execution_count": 14,
     "metadata": {},
     "output_type": "execute_result"
    }
   ],
   "source": [
    "2 ** (1/2) # Raíz de 2"
   ]
  },
  {
   "cell_type": "markdown",
   "metadata": {},
   "source": [
    "Você também pode utilizar esses operadores em cima de uma variável. Por exemplo, você tem uma variável e quer acrescer 2 nela."
   ]
  },
  {
   "cell_type": "code",
   "execution_count": 15,
   "metadata": {},
   "outputs": [
    {
     "data": {
      "text/plain": [
       "16"
      ]
     },
     "execution_count": 15,
     "metadata": {},
     "output_type": "execute_result"
    }
   ],
   "source": [
    "my_num = 14\n",
    "my_num = my_num + 2\n",
    "my_num"
   ]
  },
  {
   "cell_type": "markdown",
   "metadata": {},
   "source": [
    "O exemplo acima é bem convincente e, certamente, bem útil. Mas há uma forma reduzida desse tipo de expressão."
   ]
  },
  {
   "cell_type": "code",
   "execution_count": 16,
   "metadata": {},
   "outputs": [
    {
     "data": {
      "text/plain": [
       "16"
      ]
     },
     "execution_count": 16,
     "metadata": {},
     "output_type": "execute_result"
    }
   ],
   "source": [
    "my_num = 14\n",
    "my_num += 2\n",
    "my_num"
   ]
  },
  {
   "cell_type": "markdown",
   "metadata": {},
   "source": [
    "Esse tipo de \"operador\" pode ser criado ao unir um desses operadores listados acima com o símbolo de `=`."
   ]
  },
  {
   "cell_type": "code",
   "execution_count": 17,
   "metadata": {},
   "outputs": [
    {
     "data": {
      "text/plain": [
       "20"
      ]
     },
     "execution_count": 17,
     "metadata": {},
     "output_type": "execute_result"
    }
   ],
   "source": [
    "my_num = 2\n",
    "my_num *= 10\n",
    "my_num"
   ]
  },
  {
   "cell_type": "markdown",
   "metadata": {},
   "source": [
    "### Booleanas\n",
    "\n",
    "As operações booleanas são expressões que retornam ou `True` ou `False`, são utilizadas para condições.\n",
    "\n",
    "No Python, costumamos escrever por extenso a maioria das condições.\n",
    "\n",
    "- `and` para operação \"e\"\n",
    "- `or` para operação \"ou\"\n",
    "- `not` para operação de negação (inverte o valor)\n",
    "- `>`/`>=` maior/maior ou igual\n",
    "- `<`/`<=` menor/menor ou igual\n",
    "- `==` igual\n",
    "- `in`confere está em uma lista\n",
    "\n",
    "Exemplos:"
   ]
  },
  {
   "cell_type": "code",
   "execution_count": 18,
   "metadata": {},
   "outputs": [
    {
     "data": {
      "text/plain": [
       "True"
      ]
     },
     "execution_count": 18,
     "metadata": {},
     "output_type": "execute_result"
    }
   ],
   "source": [
    "30 > 15"
   ]
  },
  {
   "cell_type": "code",
   "execution_count": 19,
   "metadata": {},
   "outputs": [
    {
     "data": {
      "text/plain": [
       "False"
      ]
     },
     "execution_count": 19,
     "metadata": {},
     "output_type": "execute_result"
    }
   ],
   "source": [
    "30 < 15"
   ]
  },
  {
   "cell_type": "code",
   "execution_count": 20,
   "metadata": {},
   "outputs": [
    {
     "data": {
      "text/plain": [
       "True"
      ]
     },
     "execution_count": 20,
     "metadata": {},
     "output_type": "execute_result"
    }
   ],
   "source": [
    "14 == 14"
   ]
  },
  {
   "cell_type": "code",
   "execution_count": 21,
   "metadata": {},
   "outputs": [
    {
     "data": {
      "text/plain": [
       "False"
      ]
     },
     "execution_count": 21,
     "metadata": {},
     "output_type": "execute_result"
    }
   ],
   "source": [
    "30 < 15 and 14 == 14"
   ]
  },
  {
   "cell_type": "code",
   "execution_count": 22,
   "metadata": {},
   "outputs": [
    {
     "data": {
      "text/plain": [
       "True"
      ]
     },
     "execution_count": 22,
     "metadata": {},
     "output_type": "execute_result"
    }
   ],
   "source": [
    "30 <= 15 or 14 == 14"
   ]
  },
  {
   "cell_type": "code",
   "execution_count": 23,
   "metadata": {},
   "outputs": [
    {
     "data": {
      "text/plain": [
       "True"
      ]
     },
     "execution_count": 23,
     "metadata": {},
     "output_type": "execute_result"
    }
   ],
   "source": [
    "14==14 and not 30 < 15"
   ]
  },
  {
   "cell_type": "code",
   "execution_count": 24,
   "metadata": {},
   "outputs": [
    {
     "data": {
      "text/plain": [
       "True"
      ]
     },
     "execution_count": 24,
     "metadata": {},
     "output_type": "execute_result"
    }
   ],
   "source": [
    "lst = [1,2]\n",
    "2 in lst"
   ]
  },
  {
   "cell_type": "code",
   "execution_count": 25,
   "metadata": {},
   "outputs": [
    {
     "data": {
      "text/plain": [
       "False"
      ]
     },
     "execution_count": 25,
     "metadata": {},
     "output_type": "execute_result"
    }
   ],
   "source": [
    "True and False"
   ]
  },
  {
   "cell_type": "code",
   "execution_count": 26,
   "metadata": {},
   "outputs": [
    {
     "data": {
      "text/plain": [
       "True"
      ]
     },
     "execution_count": 26,
     "metadata": {},
     "output_type": "execute_result"
    }
   ],
   "source": [
    "False or not False"
   ]
  },
  {
   "cell_type": "markdown",
   "metadata": {},
   "source": [
    "### Strings\n",
    "\n",
    "Podemos formatar strings e fazer algumas operações com elas\n",
    "\n",
    "- `+` para concatenação\n",
    "- `*` para concatenação repetidas vezes\n",
    "\n",
    "Exemplos:"
   ]
  },
  {
   "cell_type": "code",
   "execution_count": 27,
   "metadata": {},
   "outputs": [
    {
     "data": {
      "text/plain": [
       "'Eduardo Adame'"
      ]
     },
     "execution_count": 27,
     "metadata": {},
     "output_type": "execute_result"
    }
   ],
   "source": [
    "'Eduardo ' + 'Adame'"
   ]
  },
  {
   "cell_type": "code",
   "execution_count": 28,
   "metadata": {},
   "outputs": [
    {
     "data": {
      "text/plain": [
       "'dudu'"
      ]
     },
     "execution_count": 28,
     "metadata": {},
     "output_type": "execute_result"
    }
   ],
   "source": [
    "'du'*2"
   ]
  },
  {
   "cell_type": "markdown",
   "metadata": {},
   "source": [
    "#### Strings formatadas\n",
    "\n",
    "As strings formatadas são um modo de inserir variáveis em strings. Adicionamos um `f` antes das áspas e colocamos a variável entre chaves `{}`.\n",
    "\n",
    "Exemplo:"
   ]
  },
  {
   "cell_type": "code",
   "execution_count": 29,
   "metadata": {},
   "outputs": [
    {
     "data": {
      "text/plain": [
       "'Meu nome é Eduardo Adame e tenho 18 anos'"
      ]
     },
     "execution_count": 29,
     "metadata": {},
     "output_type": "execute_result"
    }
   ],
   "source": [
    "nome = 'Eduardo'\n",
    "sobrenome = 'Adame'\n",
    "idade = 18\n",
    "f'Meu nome é {nome} {sobrenome} e tenho {idade} anos'"
   ]
  },
  {
   "cell_type": "markdown",
   "metadata": {},
   "source": [
    "## Conversão de Tipos\n",
    "\n",
    "Basta utilizar a função (veremos mais tarde funções em específico) que tem o nome do tipo. \n",
    "\n",
    "- `int()` para converter para `inteiro`\n",
    "- `str()` para converter para `string`\n",
    "- `bool()` para converter para `booleano`\n",
    "- `float()` para converter para `float`"
   ]
  },
  {
   "cell_type": "code",
   "execution_count": 30,
   "metadata": {},
   "outputs": [
    {
     "data": {
      "text/plain": [
       "10"
      ]
     },
     "execution_count": 30,
     "metadata": {},
     "output_type": "execute_result"
    }
   ],
   "source": [
    "int('10')"
   ]
  },
  {
   "cell_type": "code",
   "execution_count": 31,
   "metadata": {},
   "outputs": [
    {
     "data": {
      "text/plain": [
       "20"
      ]
     },
     "execution_count": 31,
     "metadata": {},
     "output_type": "execute_result"
    }
   ],
   "source": [
    "int(20.0)"
   ]
  },
  {
   "cell_type": "code",
   "execution_count": 32,
   "metadata": {},
   "outputs": [
    {
     "data": {
      "text/plain": [
       "12.23"
      ]
     },
     "execution_count": 32,
     "metadata": {},
     "output_type": "execute_result"
    }
   ],
   "source": [
    "float('12.23')"
   ]
  },
  {
   "cell_type": "code",
   "execution_count": 33,
   "metadata": {},
   "outputs": [
    {
     "data": {
      "text/plain": [
       "'30.2'"
      ]
     },
     "execution_count": 33,
     "metadata": {},
     "output_type": "execute_result"
    }
   ],
   "source": [
    "str(30.2)"
   ]
  },
  {
   "cell_type": "code",
   "execution_count": 34,
   "metadata": {},
   "outputs": [
    {
     "data": {
      "text/plain": [
       "False"
      ]
     },
     "execution_count": 34,
     "metadata": {},
     "output_type": "execute_result"
    }
   ],
   "source": [
    "bool(0)"
   ]
  },
  {
   "cell_type": "code",
   "execution_count": 35,
   "metadata": {},
   "outputs": [
    {
     "data": {
      "text/plain": [
       "True"
      ]
     },
     "execution_count": 35,
     "metadata": {},
     "output_type": "execute_result"
    }
   ],
   "source": [
    "bool(1) #ou qualquer outro número diferente de 0"
   ]
  },
  {
   "cell_type": "code",
   "execution_count": 36,
   "metadata": {},
   "outputs": [
    {
     "data": {
      "text/plain": [
       "False"
      ]
     },
     "execution_count": 36,
     "metadata": {},
     "output_type": "execute_result"
    }
   ],
   "source": [
    "bool('')"
   ]
  },
  {
   "cell_type": "code",
   "execution_count": 37,
   "metadata": {},
   "outputs": [
    {
     "data": {
      "text/plain": [
       "True"
      ]
     },
     "execution_count": 37,
     "metadata": {},
     "output_type": "execute_result"
    }
   ],
   "source": [
    "bool('a') #ou qualquer string não vazia"
   ]
  },
  {
   "cell_type": "markdown",
   "metadata": {},
   "source": [
    "## Recebendo entrada do usuário\n",
    "\n",
    "Para isso, utilizamos a função `input()`, que recebe uma `string` como parâmetro para a mensagem impressa, e retorna a entrada como uma `string` (devemos converter, se necessário). Para imprimir uma mensagem utilizamos `print()` que imprime qualquer coisa que for passada, costuma-se utilizar as operações vistas anteriormente.\n",
    "\n",
    "Exemplo:"
   ]
  },
  {
   "cell_type": "code",
   "execution_count": 38,
   "metadata": {},
   "outputs": [
    {
     "name": "stdin",
     "output_type": "stream",
     "text": [
      "Insira um número:  10\n"
     ]
    },
    {
     "data": {
      "text/plain": [
       "'1010'"
      ]
     },
     "execution_count": 38,
     "metadata": {},
     "output_type": "execute_result"
    }
   ],
   "source": [
    "number = input('Insira um número: ')\n",
    "number * 2"
   ]
  },
  {
   "cell_type": "markdown",
   "metadata": {},
   "source": [
    "Por que ao invés de `20` recebemos `'1010'`? Porque `10` foi recebido como `'10'`, ou seja, uma `string`.\n",
    "\n",
    "Logo, o exemplo correto seria:"
   ]
  },
  {
   "cell_type": "code",
   "execution_count": 39,
   "metadata": {},
   "outputs": [
    {
     "name": "stdin",
     "output_type": "stream",
     "text": [
      "Insira um número:  10\n"
     ]
    },
    {
     "data": {
      "text/plain": [
       "20.0"
      ]
     },
     "execution_count": 39,
     "metadata": {},
     "output_type": "execute_result"
    }
   ],
   "source": [
    "number = float(input('Insira um número: ')) #float para aceitar qualquer número\n",
    "number * 2"
   ]
  },
  {
   "cell_type": "markdown",
   "metadata": {},
   "source": [
    "## Condições\n",
    "\n",
    "Em Python, como na maioria das linguagens de programação podemos utilizar estruturas condicionais para interpretar certas linhas de código somente se certa condição for atendida.\n",
    "\n",
    "No caso, aqui faremos o uso das palavras-chave `if`, `else` e `elif`.\n",
    "\n",
    "A partir de agora, veremos que os espaços em branco são importantes para denotar se certa linha está dentro de uma estrutura.\n",
    "\n",
    "### If"
   ]
  },
  {
   "cell_type": "code",
   "execution_count": 40,
   "metadata": {},
   "outputs": [
    {
     "data": {
      "text/plain": [
       "'Eduardo'"
      ]
     },
     "execution_count": 40,
     "metadata": {},
     "output_type": "execute_result"
    }
   ],
   "source": [
    "word = \"Renato\"\n",
    "if 2 > 1:\n",
    "    word = \"Eduardo\"\n",
    "word"
   ]
  },
  {
   "cell_type": "markdown",
   "metadata": {},
   "source": [
    "Como visto acima, o if verificou se o booleano (resultado da operação) era verdadeiro. Como era, executou a linha que definia o novo valor para `word`. Caso fosse falso teríamos o seguinte resultado:"
   ]
  },
  {
   "cell_type": "code",
   "execution_count": 41,
   "metadata": {},
   "outputs": [
    {
     "data": {
      "text/plain": [
       "'Renato'"
      ]
     },
     "execution_count": 41,
     "metadata": {},
     "output_type": "execute_result"
    }
   ],
   "source": [
    "word = \"Renato\"\n",
    "if 1 > 2:\n",
    "    word = \"Eduardo\"\n",
    "word"
   ]
  },
  {
   "cell_type": "markdown",
   "metadata": {},
   "source": [
    "Agora, se quisermos fazer algo se tal condição for real (como vimos acima) mas, se caso contrário, fazer outra ação? Utilizaremos o `else`."
   ]
  },
  {
   "cell_type": "code",
   "execution_count": 42,
   "metadata": {},
   "outputs": [
    {
     "data": {
      "text/plain": [
       "'Flávio'"
      ]
     },
     "execution_count": 42,
     "metadata": {},
     "output_type": "execute_result"
    }
   ],
   "source": [
    "word = \"Renato\"\n",
    "if 1>2:\n",
    "    word = \"Eduardo\"\n",
    "else:\n",
    "    word = \"Flávio\"\n",
    "word"
   ]
  },
  {
   "cell_type": "markdown",
   "metadata": {},
   "source": [
    "A estrutura acima é muito simples e frequentemente utilizada. Ela executa o primeiro bloco caso a condição for verdadeira, caso contrário, executa a segunda.\n",
    "\n",
    "Mas se quisermos criar condições intermediárias (ou específicas) utilizamos o `elif`. Ele significa algo como: \"Se o anterior for falso, verifica se essa outra condição é verdadeira antes de ir pro `else`\"."
   ]
  },
  {
   "cell_type": "code",
   "execution_count": 43,
   "metadata": {},
   "outputs": [
    {
     "name": "stdout",
     "output_type": "stream",
     "text": [
      "2 está!\n"
     ]
    }
   ],
   "source": [
    "lst = [0,1,2]\n",
    "\n",
    "if 3 in lst:\n",
    "    print(\"3 está!\") # Em notebooks o print é desnecessário, mas esse é um exemplo geral.\n",
    "elif 2 in lst:\n",
    "    print(\"2 está!\")\n",
    "else:\n",
    "    print(\"3 e 2 não estão!\")\n"
   ]
  },
  {
   "cell_type": "markdown",
   "metadata": {},
   "source": [
    "## Métodos\n",
    "\n",
    "Métodos são funções chamadas a partir de um objeto de um tipo específico. Novamente, não precisa se preocupar caso não tenha entendido, é mais fácil do que aparenta.\n",
    "\n",
    "Esses métodos são acessados através de `.`. E cada tipo terá os seus, ou seja, `str` tem seus próprios métodos, assim como `list` tem seus próprios.\n",
    "\n",
    "Não é viável tratar cada um deles aqui, mas é interessante que sempre busque pela documentação quando sentir necessidade. Por exemplo, aqui estão [todos os métodos de `list`.](https://docs.python.org/3/tutorial/datastructures.html)\n",
    "\n",
    "Alguns exemplos:"
   ]
  },
  {
   "cell_type": "code",
   "execution_count": 44,
   "metadata": {},
   "outputs": [
    {
     "data": {
      "text/plain": [
       "'EDUARDO'"
      ]
     },
     "execution_count": 44,
     "metadata": {},
     "output_type": "execute_result"
    }
   ],
   "source": [
    "# Todas as letras maiúsculas em uma string\n",
    "word = \"eDuArdO\"\n",
    "word = word.upper()\n",
    "word"
   ]
  },
  {
   "cell_type": "code",
   "execution_count": 45,
   "metadata": {},
   "outputs": [
    {
     "data": {
      "text/plain": [
       "'eduardo'"
      ]
     },
     "execution_count": 45,
     "metadata": {},
     "output_type": "execute_result"
    }
   ],
   "source": [
    "# Todas as letras minúsculas em uma string\n",
    "word = \"eDuArdO\"\n",
    "word = word.lower()\n",
    "word"
   ]
  },
  {
   "cell_type": "code",
   "execution_count": 46,
   "metadata": {},
   "outputs": [
    {
     "data": {
      "text/plain": [
       "'Eduardo Adame'"
      ]
     },
     "execution_count": 46,
     "metadata": {},
     "output_type": "execute_result"
    }
   ],
   "source": [
    "# Somente a primeira letra maiúscula em uma string\n",
    "word = \"eDuArdO adaME\"\n",
    "word = word.title()\n",
    "word"
   ]
  },
  {
   "cell_type": "markdown",
   "metadata": {},
   "source": [
    "Esses métodos de strings são muito úteis em condições. Note que `'eduardo'` é diferente de `'Eduardo'`. Outros exemplos são mais úteis para limpeza de dados e/ou correção, como o abaixo."
   ]
  },
  {
   "cell_type": "code",
   "execution_count": 47,
   "metadata": {},
   "outputs": [
    {
     "data": {
      "text/plain": [
       "'Penso, portanto existo'"
      ]
     },
     "execution_count": 47,
     "metadata": {},
     "output_type": "execute_result"
    }
   ],
   "source": [
    "# Substitui todas ocorrências de uma substring\n",
    "phrase = \"Penso, logo existo\"\n",
    "phrase = phrase.replace('logo', 'portanto')\n",
    "phrase"
   ]
  },
  {
   "cell_type": "markdown",
   "metadata": {},
   "source": [
    "Para listas, os seus métodos são suas principais \"operações\"."
   ]
  },
  {
   "cell_type": "code",
   "execution_count": 48,
   "metadata": {},
   "outputs": [
    {
     "data": {
      "text/plain": [
       "[0, 2, 4, 6]"
      ]
     },
     "execution_count": 48,
     "metadata": {},
     "output_type": "execute_result"
    }
   ],
   "source": [
    "lst = [0,2,4]\n",
    "# Adiciona um item a uma lista\n",
    "lst.append(6)\n",
    "lst # Note que ele altera a variável diretamente"
   ]
  },
  {
   "cell_type": "code",
   "execution_count": 49,
   "metadata": {},
   "outputs": [
    {
     "data": {
      "text/plain": [
       "[0, 4, 6]"
      ]
     },
     "execution_count": 49,
     "metadata": {},
     "output_type": "execute_result"
    }
   ],
   "source": [
    "if 2 in lst: # Forma de evitar erros\n",
    "    lst.remove(2) # Remove um item da lista\n",
    "lst"
   ]
  },
  {
   "cell_type": "code",
   "execution_count": 50,
   "metadata": {},
   "outputs": [
    {
     "data": {
      "text/plain": [
       "[0, 4]"
      ]
     },
     "execution_count": 50,
     "metadata": {},
     "output_type": "execute_result"
    }
   ],
   "source": [
    "# Remover um item pelo seu índice\n",
    "lst.pop(2)\n",
    "lst"
   ]
  },
  {
   "cell_type": "code",
   "execution_count": 51,
   "metadata": {},
   "outputs": [
    {
     "data": {
      "text/plain": [
       "[0, 4, 2, 6]"
      ]
     },
     "execution_count": 51,
     "metadata": {},
     "output_type": "execute_result"
    }
   ],
   "source": [
    "# Extende a lista com outra (semelhante a uma soma)\n",
    "lst.extend([2,6])\n",
    "lst"
   ]
  },
  {
   "cell_type": "code",
   "execution_count": 52,
   "metadata": {},
   "outputs": [
    {
     "data": {
      "text/plain": [
       "[]"
      ]
     },
     "execution_count": 52,
     "metadata": {},
     "output_type": "execute_result"
    }
   ],
   "source": [
    "# Limpa a lista\n",
    "lst.clear()\n",
    "lst"
   ]
  },
  {
   "cell_type": "markdown",
   "metadata": {},
   "source": [
    "## Estruturas de Repetição\n",
    "\n",
    "Esse tipo de estrutura, como diz o seu nome, é utilizada para repetir certo bloco de código. No caso, há duas formas de criar esse tipo de _loop_. \n",
    "\n",
    " - `while`: Repete o bloco enquanto certa condição verdadeira\n",
    " - `for`: Repete o bloco para cada item em uma lista\n",
    " \n",
    " Nesse ponto do curso gostaria de fazer uma menção sobre uma decisão que tomei quanto ao método de ensino. Utilizar listas não é a unica forma de agrupar elementos, por exemplo, existem os `sets` e as `tuples`. Contudo, todos eles são iteráveis. Ou seja, podemos navegar por seus elementos. Portanto, tudo que se refere a iterabilidade da lista, também serve para esses outros tipos (que pretendo falar posteriomente).\n",
    " \n",
    "Exemplos:"
   ]
  },
  {
   "cell_type": "code",
   "execution_count": 61,
   "metadata": {},
   "outputs": [
    {
     "name": "stdin",
     "output_type": "stream",
     "text": [
      "Digite um inteiro:  2\n",
      "Digite um inteiro:  3\n",
      "Digite um inteiro:  4\n",
      "Digite um inteiro:  8\n",
      "Digite um inteiro:  7\n"
     ]
    },
    {
     "name": "stdout",
     "output_type": "stream",
     "text": [
      "Loop encerrado!\n"
     ]
    }
   ],
   "source": [
    "entry = int(input('Digite um inteiro: '))\n",
    "while entry != 7: # Verifica se a entrada é igual a 7.\n",
    "    entry = int(input('Digite um inteiro: '))\n",
    "print(\"Loop encerrado!\")"
   ]
  },
  {
   "cell_type": "markdown",
   "metadata": {},
   "source": [
    "Tome cuidado com loops infinitos! A estrutura `while` é bem propícia a isso."
   ]
  },
  {
   "cell_type": "code",
   "execution_count": 54,
   "metadata": {},
   "outputs": [
    {
     "name": "stdout",
     "output_type": "stream",
     "text": [
      "0\n",
      "4\n",
      "16\n",
      "36\n"
     ]
    }
   ],
   "source": [
    "lst = [0,2,4,6]\n",
    "for item in lst: # Para cada item da lista\n",
    "    print(item ** 2) # Imprima o dobro do item"
   ]
  },
  {
   "cell_type": "markdown",
   "metadata": {},
   "source": [
    "É possível criar coisas muito poderozas com o for, inclusive na visualização de dados (em texto)."
   ]
  },
  {
   "cell_type": "code",
   "execution_count": 55,
   "metadata": {},
   "outputs": [
    {
     "name": "stdout",
     "output_type": "stream",
     "text": [
      "O número 0 é par, e seu quadrado é 0\n",
      "O número 2 é par, e seu quadrado é 4\n",
      "O número 3 é ímpar, e seu quadrado é 9\n",
      "O número 5 é ímpar, e seu quadrado é 25\n",
      "O número 6 é par, e seu quadrado é 36\n"
     ]
    }
   ],
   "source": [
    "lst = [0,2,3,5,6]\n",
    "for item in lst: # Para cada item da lista\n",
    "    sq = item **2\n",
    "    if item % 2 == 0: # Checa se o número é divisível por 2 (par)\n",
    "        is_even = \"par\"\n",
    "    else:\n",
    "        is_even = \"ímpar\"\n",
    "    print(f'O número {item} é {is_even}, e seu quadrado é {sq}') # Imprima o dobro do item"
   ]
  },
  {
   "cell_type": "markdown",
   "metadata": {},
   "source": [
    "## Funções\n",
    "\n",
    "Funções são blocos de código que podem ser reutilizados. Elas podem ser definidas de duas formas:\n",
    "\n",
    "- Utilizando `def`\n",
    "- Utilizando `lambda` (chamadas funções anônimas)\n",
    "\n",
    "O uso mais comum, entretanto, é utilizando o `def`.\n",
    "\n",
    "Exemplo:"
   ]
  },
  {
   "cell_type": "code",
   "execution_count": 64,
   "metadata": {},
   "outputs": [
    {
     "data": {
      "text/plain": [
       "7921"
      ]
     },
     "execution_count": 64,
     "metadata": {},
     "output_type": "execute_result"
    }
   ],
   "source": [
    "def square(x):\n",
    "    return x**2\n",
    "\n",
    "square(89)"
   ]
  },
  {
   "cell_type": "markdown",
   "metadata": {},
   "source": [
    "Note que, ao utilizar `def`, nós criamos um bloco. Nós devemos nomear uma função e colocar entre parênteses seus parâmetros (ou deixá-lo vazio). É possível definir valores padrões para certos parâmetros. As variáveis criadas dentro do bloco só existirão dentro dele (inclusive sobrescrevendo temporariamente uma variável global). \n",
    "\n",
    "O termo return se refere a linha que define o valor retornado por essa função. Quando utilizamos notebooks, o Jupyter imprime o retorno da última linha, por isso não utilizamos print. Mas, utilizando esse exemplo, se estivéssemos no desenvolvimento regular, seria algo como `print(square(89))`.\n",
    "\n",
    "Alguns exemplos com `def`:"
   ]
  },
  {
   "cell_type": "code",
   "execution_count": 65,
   "metadata": {},
   "outputs": [
    {
     "data": {
      "text/plain": [
       "3"
      ]
     },
     "execution_count": 65,
     "metadata": {},
     "output_type": "execute_result"
    }
   ],
   "source": [
    "def count_even(lst):\n",
    "    count = 0\n",
    "    for item in lst:\n",
    "        if item % 2 == 0:\n",
    "            count += 1\n",
    "    return count\n",
    "\n",
    "count_even([1,2,4,5,8])"
   ]
  },
  {
   "cell_type": "code",
   "execution_count": 69,
   "metadata": {},
   "outputs": [
    {
     "data": {
      "text/plain": [
       "(99, 0.5)"
      ]
     },
     "execution_count": 69,
     "metadata": {},
     "output_type": "execute_result"
    }
   ],
   "source": [
    "# Como utilizar variáveis globais\n",
    "\n",
    "breads = 100\n",
    "currency = 0\n",
    "def sell():\n",
    "    global breads, currency # Crie as variáveis com a palavra-chave global\n",
    "    breads -=1\n",
    "    currency += .5\n",
    "    \n",
    "sell()\n",
    "\n",
    "breads,currency"
   ]
  },
  {
   "cell_type": "code",
   "execution_count": 89,
   "metadata": {},
   "outputs": [
    {
     "name": "stdout",
     "output_type": "stream",
     "text": [
      " Nome: Eduardo \n",
      " Idade: 18\n"
     ]
    }
   ],
   "source": [
    "def print_id(name, age, course = ''):\n",
    "    result = f' Nome: {name} \\n Idade: {age}' # \\n para quebrar a linha\n",
    "    if course:\n",
    "        result += f' \\n Curso: {course}'\n",
    "    return print(result) # Necessário para \\n funcionar\n",
    "\n",
    "print_id('Eduardo', 18)"
   ]
  },
  {
   "cell_type": "code",
   "execution_count": 87,
   "metadata": {},
   "outputs": [
    {
     "name": "stdout",
     "output_type": "stream",
     "text": [
      " Nome: Eduardo \n",
      " Idade: 18 \n",
      " Curso: Ciência de Dados\n"
     ]
    }
   ],
   "source": [
    "print_id('Eduardo', 18, 'Ciência de Dados')"
   ]
  },
  {
   "cell_type": "markdown",
   "metadata": {},
   "source": [
    "Para funções de linha única, o `lambda` pode ser uma opção melhor. Ou quando uma função recebe outra como parâmetro. Muitos cursos não abordam esse tipo de função, mas acredito que passar rapidamente por ela pode ser bom.\n",
    "\n",
    "Anteriormente definimos a função `square()`, podemos definir uma função que faz o mesmo trabalho da seguinte forma:"
   ]
  },
  {
   "cell_type": "code",
   "execution_count": 88,
   "metadata": {},
   "outputs": [
    {
     "data": {
      "text/plain": [
       "7921"
      ]
     },
     "execution_count": 88,
     "metadata": {},
     "output_type": "execute_result"
    }
   ],
   "source": [
    "sqr_anon =  lambda x: x**2\n",
    "\n",
    "sqr_anon(89) # É invocada da mesma forma."
   ]
  },
  {
   "cell_type": "markdown",
   "metadata": {},
   "source": [
    "Nesse caso, a criamos como se fosse um valor atribuído. O que está entre `lambda` e `:` são os parâmetros e o que está depois dos `:` é o retorno. Nós perderemos o poder de criar o parâmetro opcional como em `def`, mas podemos fazer algo parecido com `print_id()`."
   ]
  },
  {
   "cell_type": "code",
   "execution_count": 90,
   "metadata": {},
   "outputs": [
    {
     "name": "stdout",
     "output_type": "stream",
     "text": [
      " Nome: Eduardo \n",
      " Idade: 18\n"
     ]
    }
   ],
   "source": [
    "id_anon = lambda name, age: f' Nome: {name} \\n Idade: {age}' # Decidi deixar o print de fora.\n",
    "print(id_anon('Eduardo', 18))"
   ]
  },
  {
   "cell_type": "markdown",
   "metadata": {},
   "source": [
    "## Exercícios\n",
    "\n",
    "Agora você sabe mais que o suficiente para utilizar o `sympy`. Para verificar que absorveu o aprendido aqui, tente resolver os seguintes exercícios:\n",
    "\n",
    "1. Crie uma função que recebe dois números (floats) e retorna o menor elevado pelo maior.\n",
    "2. Crie uma função que recebe duas listas, uma com o ponto inicial e outra com o ponto final `[x,y]`, e calcule a distância entre eles.\n",
    "3. Crie uma função que recebe números (floats) de quantidade indefinida (pesquise sobre `*args`) e retorne a soma deles.\n",
    "4. Crie um loop que faz o mesmo que a função acima, contudo, ele deverá encontrar o valor total quando o usuário inserir `'s'`.\n",
    "5. Crie uma função que calcula as raízes reais de uma equação do segundo grau a partir dos coeficientes `a`, `b`, `c`."
   ]
  },
  {
   "cell_type": "markdown",
   "metadata": {},
   "source": [
    "# Primeiros Passos com o Sympy\n",
    "\n",
    "## Instalação\n",
    "\n",
    "Você possivelmente deve estar se perguntando como instalar o `Sympy`. Se você já utilizou algum outro módulo em Python, possivelmente imaginou em instalá-lo utilizando o `pip` (software que pedimos que garantisse sua sua instalação no capítulo 0).\n",
    "\n",
    "Contudo, se você utiliza está utilizando notebooks com o Anaconda (nossa recomendação para esse módulo), o `Sympy` já está instalado, basta carregá-lo.\n",
    "\n",
    "Caso esteja desenvolvendo em outro ambiente, uma forma de instalar é com o pip, por exemplo:\n",
    "\n",
    "```bash\n",
    "pip install sympy\n",
    "```\n",
    "\n",
    "## Carregando o Módulo\n",
    "\n",
    "Para utilizar os comandos do `Sympy` de forma nativa em nossos scripts, precisamos importá-lo globalmente. Para isso utilizamos as palavras-chave `import` e `from`. Isso não foi abordado no capítulo anterior devido a sua complexidade, mas essa é uma forma de importar módulos em Python.\n",
    "\n",
    "Portanto, basta criar e executar a seguinte _chunk_:"
   ]
  },
  {
   "cell_type": "code",
   "execution_count": 1,
   "metadata": {},
   "outputs": [],
   "source": [
    "from sympy import *\n",
    "init_printing(use_unicode=True, use_latex='mathjax') # Para imprimir LaTeX"
   ]
  },
  {
   "cell_type": "markdown",
   "metadata": {},
   "source": [
    "O `*` significa que estamos importando o módulo por completo."
   ]
  },
  {
   "cell_type": "markdown",
   "metadata": {},
   "source": [
    "## Trabalhando com expressões matemáticas\n",
    "\n",
    "Como o `Sympy` tem como objetivo o cálculo simbólico, tudo é baseado a partir dos simbólos. Ou seja, as nossas querídas variáveis (como $x$, $y$, e $z$) sendo interpretadas com suas propriedades matemáticas. \n",
    "\n",
    "Portanto, para utilizá-las, precisamos criar seus símbolos. Por enquanto, vamos utilizar somente o $x$. Então, para o `x` do Python significar a variável $x$ fazemos:"
   ]
  },
  {
   "cell_type": "code",
   "execution_count": 2,
   "metadata": {},
   "outputs": [
    {
     "data": {
      "text/latex": [
       "$\\displaystyle x$"
      ],
      "text/plain": [
       "x"
      ]
     },
     "execution_count": 2,
     "metadata": {},
     "output_type": "execute_result"
    }
   ],
   "source": [
    "x = symbols('x')\n",
    "x"
   ]
  },
  {
   "cell_type": "markdown",
   "metadata": {},
   "source": [
    "Note que nossa saída matemática será processada por um compilador $\\LaTeX$ para facilitar a leitura.\n",
    "\n",
    "No caso, você pode utilizar `x` como um número, e as expressões aparecerão normalmente (sem igualdade)."
   ]
  },
  {
   "cell_type": "code",
   "execution_count": 3,
   "metadata": {},
   "outputs": [
    {
     "data": {
      "text/latex": [
       "$\\displaystyle x^{2} - 4 x + 3$"
      ],
      "text/plain": [
       " 2          \n",
       "x  - 4⋅x + 3"
      ]
     },
     "execution_count": 3,
     "metadata": {},
     "output_type": "execute_result"
    }
   ],
   "source": [
    "x**2 - 4*x + 3"
   ]
  },
  {
   "cell_type": "markdown",
   "metadata": {},
   "source": [
    "Caso você queira a solução de uma expressão que seja igual a 0 (ou suas raízes, em outras palavras), em respeito a uma variável, você pode usar a função `solve()`. Ela recebe dois parâmetros obrigatórios, sua expressão e a variável que você quer a solução."
   ]
  },
  {
   "cell_type": "code",
   "execution_count": 4,
   "metadata": {},
   "outputs": [
    {
     "data": {
      "text/latex": [
       "$\\displaystyle \\left[ 1, \\  3\\right]$"
      ],
      "text/plain": [
       "[1, 3]"
      ]
     },
     "execution_count": 4,
     "metadata": {},
     "output_type": "execute_result"
    }
   ],
   "source": [
    "solve(x**2 - 4*x + 3, x)"
   ]
  },
  {
   "cell_type": "code",
   "execution_count": 5,
   "metadata": {},
   "outputs": [
    {
     "data": {
      "text/latex": [
       "$\\displaystyle \\left[ 0, \\  4\\right]$"
      ],
      "text/plain": [
       "[0, 4]"
      ]
     },
     "execution_count": 5,
     "metadata": {},
     "output_type": "execute_result"
    }
   ],
   "source": [
    "solve(sqrt(x) - (x/2),x)"
   ]
  },
  {
   "cell_type": "markdown",
   "metadata": {},
   "source": [
    "Inclusive, caso queira uma resposta como costumamos escrever no papel, ou seja, em forma de conjunto e suas condições, podemos utilizar o `solveset()`. A maior diferença é que ele pode receber o conjunto numérico onde você quer trabalhar através do parâmetro `domain`. Na maioria das vezes podemos utilizar `domain=S.Reals` ou `domain=S.Complexes`."
   ]
  },
  {
   "cell_type": "code",
   "execution_count": 6,
   "metadata": {},
   "outputs": [
    {
     "data": {
      "text/latex": [
       "$\\displaystyle \\emptyset$"
      ],
      "text/plain": [
       "∅"
      ]
     },
     "execution_count": 6,
     "metadata": {},
     "output_type": "execute_result"
    }
   ],
   "source": [
    "solveset(x**2 - 4*x  +20,x, domain=S.Reals)"
   ]
  },
  {
   "cell_type": "code",
   "execution_count": 7,
   "metadata": {},
   "outputs": [
    {
     "data": {
      "text/latex": [
       "$\\displaystyle \\left\\{2 - 4 i, 2 + 4 i\\right\\}$"
      ],
      "text/plain": [
       "{2 - 4⋅ⅈ, 2 + 4⋅ⅈ}"
      ]
     },
     "execution_count": 7,
     "metadata": {},
     "output_type": "execute_result"
    }
   ],
   "source": [
    "solveset(x**2 - 4*x  +20,x, domain=S.Complexes)"
   ]
  },
  {
   "cell_type": "code",
   "execution_count": 8,
   "metadata": {},
   "outputs": [
    {
     "data": {
      "text/latex": [
       "$\\displaystyle \\left\\{2 n \\pi\\; |\\; n \\in \\mathbb{Z}\\right\\} \\cup \\left\\{2 n \\pi + \\pi\\; |\\; n \\in \\mathbb{Z}\\right\\}$"
      ],
      "text/plain": [
       "{2⋅n⋅π | n ∊ ℤ} ∪ {2⋅n⋅π + π | n ∊ ℤ}"
      ]
     },
     "execution_count": 8,
     "metadata": {},
     "output_type": "execute_result"
    }
   ],
   "source": [
    "solveset(tan(x), x, domain=S.Reals)"
   ]
  },
  {
   "cell_type": "markdown",
   "metadata": {},
   "source": [
    "Vamos criar uma variável para armazenar essa primeira expressão para mostrar outros exemplos"
   ]
  },
  {
   "cell_type": "code",
   "execution_count": 9,
   "metadata": {},
   "outputs": [],
   "source": [
    "expr = x**2 - 4*x + 3"
   ]
  },
  {
   "cell_type": "markdown",
   "metadata": {},
   "source": [
    "Podemos achar valores utilizando o método `subs()`. Novamente, devemos especficiar a variável."
   ]
  },
  {
   "cell_type": "code",
   "execution_count": 10,
   "metadata": {},
   "outputs": [
    {
     "data": {
      "text/latex": [
       "$\\displaystyle -1$"
      ],
      "text/plain": [
       "-1"
      ]
     },
     "execution_count": 10,
     "metadata": {},
     "output_type": "execute_result"
    }
   ],
   "source": [
    "expr.subs(x,2) # Se y = expr, esse é o valor de y quando x = 2."
   ]
  },
  {
   "cell_type": "code",
   "execution_count": 11,
   "metadata": {},
   "outputs": [
    {
     "data": {
      "text/latex": [
       "$\\displaystyle 0$"
      ],
      "text/plain": [
       "0"
      ]
     },
     "execution_count": 11,
     "metadata": {},
     "output_type": "execute_result"
    }
   ],
   "source": [
    "expr.subs(x,1)"
   ]
  },
  {
   "cell_type": "markdown",
   "metadata": {},
   "source": [
    "Se tivermos uma expressão numérica não-inteira e quisermos achar a solução em um ponto flutuante (`float`), podemos usar o método `evalf()`."
   ]
  },
  {
   "cell_type": "code",
   "execution_count": 12,
   "metadata": {},
   "outputs": [
    {
     "data": {
      "text/latex": [
       "$\\displaystyle 2 \\sqrt{2}$"
      ],
      "text/plain": [
       "2⋅√2"
      ]
     },
     "execution_count": 12,
     "metadata": {},
     "output_type": "execute_result"
    }
   ],
   "source": [
    "my_sqrt = sqrt(8)\n",
    "my_sqrt"
   ]
  },
  {
   "cell_type": "code",
   "execution_count": 13,
   "metadata": {},
   "outputs": [
    {
     "data": {
      "text/latex": [
       "$\\displaystyle 2.82842712474619$"
      ],
      "text/plain": [
       "2.82842712474619"
      ]
     },
     "execution_count": 13,
     "metadata": {},
     "output_type": "execute_result"
    }
   ],
   "source": [
    "my_sqrt.evalf()"
   ]
  },
  {
   "cell_type": "markdown",
   "metadata": {},
   "source": [
    "Como viu acima, possivelmente há uma função do `SymPy` que represente uma operação ou função matemática. Por exemplo, temos `sqrt()`, `log()`, `exp()`, `sin()` e etc. Quando sentir necessidade de utilizar uma dessa, tente antes de consultar a documentação. Caso não consiga \"adivinhar\", faça uma consulta que, com toda certeza, haverá uma função que te atenderá."
   ]
  },
  {
   "cell_type": "markdown",
   "metadata": {},
   "source": [
    "Existem algumas funções que \"fazem Álgebra\" por si só. Veja alguns exemplos:"
   ]
  },
  {
   "cell_type": "code",
   "execution_count": 14,
   "metadata": {},
   "outputs": [
    {
     "data": {
      "text/latex": [
       "$\\displaystyle x + 1$"
      ],
      "text/plain": [
       "x + 1"
      ]
     },
     "execution_count": 14,
     "metadata": {},
     "output_type": "execute_result"
    }
   ],
   "source": [
    "# Simplifica\n",
    "simplify((x**2 + x)/x) "
   ]
  },
  {
   "cell_type": "code",
   "execution_count": 15,
   "metadata": {},
   "outputs": [
    {
     "data": {
      "text/latex": [
       "$\\displaystyle \\frac{x - 1}{x}$"
      ],
      "text/plain": [
       "x - 1\n",
       "─────\n",
       "  x  "
      ]
     },
     "execution_count": 15,
     "metadata": {},
     "output_type": "execute_result"
    }
   ],
   "source": [
    "# Fatora\n",
    "factor(1-1/x)"
   ]
  },
  {
   "cell_type": "code",
   "execution_count": 16,
   "metadata": {},
   "outputs": [
    {
     "data": {
      "text/latex": [
       "$\\displaystyle x^{6} + 9 x^{5} + 27 x^{4} + 27 x^{3}$"
      ],
      "text/plain": [
       " 6      5       4       3\n",
       "x  + 9⋅x  + 27⋅x  + 27⋅x "
      ]
     },
     "execution_count": 16,
     "metadata": {},
     "output_type": "execute_result"
    }
   ],
   "source": [
    "# Expande\n",
    "expand((x**2 + 3*x)**3)"
   ]
  },
  {
   "cell_type": "code",
   "execution_count": 17,
   "metadata": {},
   "outputs": [
    {
     "data": {
      "text/latex": [
       "$\\displaystyle x^{3} - x^{2} + 5 x - 18$"
      ],
      "text/plain": [
       " 3    2           \n",
       "x  - x  + 5⋅x - 18"
      ]
     },
     "execution_count": 17,
     "metadata": {},
     "output_type": "execute_result"
    }
   ],
   "source": [
    "# Agrupa potências de uma variável (que vai como segundo parâmetro)\n",
    "collect(x**2 + 4*x - 2*x**2 + x -20 + x**3 + 2, x)"
   ]
  },
  {
   "cell_type": "code",
   "execution_count": 18,
   "metadata": {},
   "outputs": [
    {
     "data": {
      "text/latex": [
       "$\\displaystyle - \\frac{11}{3 \\left(x + 3\\right)} + \\frac{14}{3 x} - \\frac{6}{x^{2}}$"
      ],
      "text/plain": [
       "      11       14   6 \n",
       "- ───────── + ─── - ──\n",
       "  3⋅(x + 3)   3⋅x    2\n",
       "                    x "
      ]
     },
     "execution_count": 18,
     "metadata": {},
     "output_type": "execute_result"
    }
   ],
   "source": [
    "# Separa fração em frações parciais\n",
    "apart((x**2 + 8*x-18)/(x**3 + 3*x**2))"
   ]
  },
  {
   "cell_type": "markdown",
   "metadata": {},
   "source": [
    "Além desses principais, ainda há `trigsimp()` e `expand_trig()` que simplificam e expandem funções trigonométricas (a partir das identidades de adição de arco). E outras que fazem o mesmo para potências, logaritmos e outros tipos de funções. Nesse caso, acho que vale a pena dar uma olhada na documentação. Elas todas são bem parecidas.\n",
    "\n",
    "Finalizando esse tópico inicial, temos como substituir uma função em termos de outra. Por exemplo:"
   ]
  },
  {
   "cell_type": "code",
   "execution_count": 19,
   "metadata": {},
   "outputs": [
    {
     "data": {
      "text/latex": [
       "$\\displaystyle \\cos{\\left(x - \\frac{\\pi}{2} \\right)}$"
      ],
      "text/plain": [
       "   ⎛    π⎞\n",
       "cos⎜x - ─⎟\n",
       "   ⎝    2⎠"
      ]
     },
     "execution_count": 19,
     "metadata": {},
     "output_type": "execute_result"
    }
   ],
   "source": [
    "sin(x).rewrite(cos)"
   ]
  },
  {
   "cell_type": "code",
   "execution_count": 20,
   "metadata": {},
   "outputs": [
    {
     "data": {
      "text/latex": [
       "$\\displaystyle e^{3 \\log{\\left(x \\right)}}$"
      ],
      "text/plain": [
       " 3⋅log(x)\n",
       "ℯ        "
      ]
     },
     "execution_count": 20,
     "metadata": {},
     "output_type": "execute_result"
    }
   ],
   "source": [
    "(x**3).rewrite(exp)"
   ]
  },
  {
   "cell_type": "markdown",
   "metadata": {},
   "source": [
    "### Equações\n",
    "\n",
    "Ok, nós vimos como utilizar expressões. Mas, como tratamos equações? Como vimos no capítulo anterior `=` significa atribuição e `==` é uma operação booleana (ou seja, recebemos `True` ou `False`).\n",
    "\n",
    "Para equações criamos uma classe `Eq()`. Não se preocupe com a nomenclatura, é só uma forma de criar um objeto do tipo `Eq`. Para criar esse objeto, passamos dois argumentos: cada lado da equação, respectivamente. Veja:"
   ]
  },
  {
   "cell_type": "code",
   "execution_count": 21,
   "metadata": {},
   "outputs": [
    {
     "data": {
      "text/latex": [
       "$\\displaystyle x^{2} = 2$"
      ],
      "text/plain": [
       " 2    \n",
       "x  = 2"
      ]
     },
     "execution_count": 21,
     "metadata": {},
     "output_type": "execute_result"
    }
   ],
   "source": [
    "eq = Eq(x**2, 2)\n",
    "eq"
   ]
  },
  {
   "cell_type": "markdown",
   "metadata": {},
   "source": [
    "Podemos utilizar o mesmo método para encontrar suas raízes."
   ]
  },
  {
   "cell_type": "code",
   "execution_count": 22,
   "metadata": {},
   "outputs": [
    {
     "data": {
      "text/latex": [
       "$\\displaystyle \\left[ - \\sqrt{2}, \\  \\sqrt{2}\\right]$"
      ],
      "text/plain": [
       "[-√2, √2]"
      ]
     },
     "execution_count": 22,
     "metadata": {},
     "output_type": "execute_result"
    }
   ],
   "source": [
    "solve(eq,x)"
   ]
  },
  {
   "cell_type": "markdown",
   "metadata": {},
   "source": [
    "### Igualdade\n",
    "\n",
    "Como verificar igualdade entre duas expressões? O `==` só servirá para expressões identicas (não somente em valor, mas também nos termos expressos). Para isso, utilizamos o método `equals()`. Veja: "
   ]
  },
  {
   "cell_type": "code",
   "execution_count": 23,
   "metadata": {},
   "outputs": [],
   "source": [
    "expr_1 = sin(x)**2"
   ]
  },
  {
   "cell_type": "code",
   "execution_count": 24,
   "metadata": {},
   "outputs": [],
   "source": [
    "expr_2 = .5*(1 -cos(2*x))"
   ]
  },
  {
   "cell_type": "markdown",
   "metadata": {},
   "source": [
    "Como veremos abaixo, pelo `==` as expressões seriam diferentes."
   ]
  },
  {
   "cell_type": "code",
   "execution_count": 25,
   "metadata": {},
   "outputs": [
    {
     "data": {
      "text/plain": [
       "False"
      ]
     },
     "execution_count": 25,
     "metadata": {},
     "output_type": "execute_result"
    }
   ],
   "source": [
    "expr_1 == expr_2"
   ]
  },
  {
   "cell_type": "markdown",
   "metadata": {},
   "source": [
    "Vejamos pelo método `equals()`:"
   ]
  },
  {
   "cell_type": "code",
   "execution_count": 26,
   "metadata": {},
   "outputs": [
    {
     "data": {
      "text/plain": [
       "True"
      ]
     },
     "execution_count": 26,
     "metadata": {},
     "output_type": "execute_result"
    }
   ],
   "source": [
    "expr_1.equals(expr_2)"
   ]
  },
  {
   "cell_type": "markdown",
   "metadata": {},
   "source": [
    "Podemos visualizar a igualdade da seguinte forma:"
   ]
  },
  {
   "cell_type": "code",
   "execution_count": 27,
   "metadata": {},
   "outputs": [
    {
     "data": {
      "text/latex": [
       "$\\displaystyle \\sin^{2}{\\left(x \\right)} = 0.5 - 0.5 \\cos{\\left(2 x \\right)}$"
      ],
      "text/plain": [
       "   2                        \n",
       "sin (x) = 0.5 - 0.5⋅cos(2⋅x)"
      ]
     },
     "execution_count": 27,
     "metadata": {},
     "output_type": "execute_result"
    }
   ],
   "source": [
    "Eq(expr_1,expr_2)"
   ]
  },
  {
   "cell_type": "markdown",
   "metadata": {},
   "source": [
    "### Sistemas de Equações\n",
    "\n",
    "Podemos, também utilizando `solve()` encontrar as soluções de um sistema de equações. Basta passar uma lista com as equações como parâmetro."
   ]
  },
  {
   "cell_type": "code",
   "execution_count": 28,
   "metadata": {},
   "outputs": [
    {
     "data": {
      "text/latex": [
       "$\\displaystyle \\left\\{ x : 25, \\  y : \\frac{55}{3}\\right\\}$"
      ],
      "text/plain": [
       "{x: 25, y: 55/3}"
      ]
     },
     "execution_count": 28,
     "metadata": {},
     "output_type": "execute_result"
    }
   ],
   "source": [
    "y, z = symbols('y z') # Criando o y simbólico\n",
    "Eqs = []\n",
    "Eqs.append(Eq(3*x - 3*y, 20))\n",
    "Eqs.append(Eq(-7*x + 9*y, -10))\n",
    "solve(Eqs, x, y)"
   ]
  },
  {
   "cell_type": "markdown",
   "metadata": {},
   "source": [
    "Caso esteja tentando resolver um sistema linear (como o acima), é possível utilizar o `linsolve()`."
   ]
  },
  {
   "cell_type": "code",
   "execution_count": 29,
   "metadata": {},
   "outputs": [
    {
     "data": {
      "text/latex": [
       "$\\displaystyle \\left\\{\\left( 25, \\  \\frac{55}{3}\\right)\\right\\}$"
      ],
      "text/plain": [
       "{(25, 55/3)}"
      ]
     },
     "execution_count": 29,
     "metadata": {},
     "output_type": "execute_result"
    }
   ],
   "source": [
    "linsolve(Eqs, x, y)"
   ]
  },
  {
   "cell_type": "code",
   "execution_count": 30,
   "metadata": {},
   "outputs": [
    {
     "data": {
      "text/latex": [
       "$\\displaystyle \\left\\{\\left( \\frac{175}{9}, \\  \\frac{445}{27}, \\  \\frac{50}{9}\\right)\\right\\}$"
      ],
      "text/plain": [
       "⎧⎛       445      ⎞⎫\n",
       "⎨⎜175/9, ───, 50/9⎟⎬\n",
       "⎩⎝        27      ⎠⎭"
      ]
     },
     "execution_count": 30,
     "metadata": {},
     "output_type": "execute_result"
    }
   ],
   "source": [
    "Eqs = []\n",
    "Eqs.append(Eq(3*x - 3*y + 2*z, 20))\n",
    "Eqs.append(Eq(-7*x + 9*y -4*z, -10))\n",
    "Eqs.append(Eq(-7*x + 9*y + 5*z, 40))\n",
    "linsolve(Eqs, x, y,z)"
   ]
  },
  {
   "cell_type": "code",
   "execution_count": 31,
   "metadata": {},
   "outputs": [
    {
     "data": {
      "text/latex": [
       "$\\displaystyle \\left\\{\\left( -3, \\  -3\\right), \\left( 3, \\  3\\right)\\right\\}$"
      ],
      "text/plain": [
       "{(-3, -3), (3, 3)}"
      ]
     },
     "execution_count": 31,
     "metadata": {},
     "output_type": "execute_result"
    }
   ],
   "source": [
    "Eqs = []\n",
    "Eqs.append(Eq(x**2 + y**2, 18)) #  Elipse de centro (0,0) e R^2 = 18\n",
    "Eqs.append(Eq(x, y)) # Reta identidade\n",
    "nonlinsolve(Eqs, x, y) # Sistema não-linear (solve também serve). No nosso caso, 2 pontos de intersecção."
   ]
  },
  {
   "cell_type": "markdown",
   "metadata": {},
   "source": [
    "## Matrizes\n",
    "\n",
    "É bem trivial trabalhar com matrizes no Sympy. De modo geral, basta criar um objeto a partir da classe `Matrix`. E passamos uma lista de listas, sendo cada uma das listas uma linha. Veja:"
   ]
  },
  {
   "cell_type": "code",
   "execution_count": 32,
   "metadata": {},
   "outputs": [
    {
     "data": {
      "text/latex": [
       "$\\displaystyle \\left[\\begin{matrix}1 & 2 & 3\\\\2 & 3 & 1\\end{matrix}\\right]$"
      ],
      "text/plain": [
       "⎡1  2  3⎤\n",
       "⎢       ⎥\n",
       "⎣2  3  1⎦"
      ]
     },
     "execution_count": 32,
     "metadata": {},
     "output_type": "execute_result"
    }
   ],
   "source": [
    "Matrix([[1,2,3],[2,3,1]])"
   ]
  },
  {
   "cell_type": "markdown",
   "metadata": {},
   "source": [
    "E podemos manipulá-las normalmente, com as operações comuns. Além disso, há algumas outras operações especiais."
   ]
  },
  {
   "cell_type": "code",
   "execution_count": 33,
   "metadata": {},
   "outputs": [
    {
     "data": {
      "text/latex": [
       "$\\displaystyle \\left( \\left[\\begin{matrix}1 & 2 & 3\\\\2 & 3 & 1\\end{matrix}\\right], \\  \\left[\\begin{matrix}3 & 2\\\\2 & 2\\\\1 & 4\\end{matrix}\\right]\\right)$"
      ],
      "text/plain": [
       "⎛           ⎡3  2⎤⎞\n",
       "⎜⎡1  2  3⎤  ⎢    ⎥⎟\n",
       "⎜⎢       ⎥, ⎢2  2⎥⎟\n",
       "⎜⎣2  3  1⎦  ⎢    ⎥⎟\n",
       "⎝           ⎣1  4⎦⎠"
      ]
     },
     "execution_count": 33,
     "metadata": {},
     "output_type": "execute_result"
    }
   ],
   "source": [
    "A = Matrix([[1,2,3],[2,3,1]])\n",
    "B = Matrix([[3,2], [2,2], [1,4]])\n",
    "A, B"
   ]
  },
  {
   "cell_type": "code",
   "execution_count": 34,
   "metadata": {},
   "outputs": [
    {
     "data": {
      "text/latex": [
       "$\\displaystyle \\left[\\begin{matrix}10 & 18\\\\13 & 14\\end{matrix}\\right]$"
      ],
      "text/plain": [
       "⎡10  18⎤\n",
       "⎢      ⎥\n",
       "⎣13  14⎦"
      ]
     },
     "execution_count": 34,
     "metadata": {},
     "output_type": "execute_result"
    }
   ],
   "source": [
    "A * B # Multiplicação"
   ]
  },
  {
   "cell_type": "code",
   "execution_count": 35,
   "metadata": {},
   "outputs": [
    {
     "data": {
      "text/latex": [
       "$\\displaystyle \\left[\\begin{matrix}3 & 2 & 1\\\\2 & 2 & 4\\end{matrix}\\right]$"
      ],
      "text/plain": [
       "⎡3  2  1⎤\n",
       "⎢       ⎥\n",
       "⎣2  2  4⎦"
      ]
     },
     "execution_count": 35,
     "metadata": {},
     "output_type": "execute_result"
    }
   ],
   "source": [
    "B.T # Transpor"
   ]
  },
  {
   "cell_type": "code",
   "execution_count": 36,
   "metadata": {},
   "outputs": [
    {
     "data": {
      "text/latex": [
       "$\\displaystyle \\left[\\begin{matrix}4 & 4 & 4\\\\4 & 5 & 5\\end{matrix}\\right]$"
      ],
      "text/plain": [
       "⎡4  4  4⎤\n",
       "⎢       ⎥\n",
       "⎣4  5  5⎦"
      ]
     },
     "execution_count": 36,
     "metadata": {},
     "output_type": "execute_result"
    }
   ],
   "source": [
    "A + B.T # Soma"
   ]
  },
  {
   "cell_type": "code",
   "execution_count": 37,
   "metadata": {},
   "outputs": [
    {
     "data": {
      "text/latex": [
       "$\\displaystyle \\left[\\begin{matrix}2 & 3 & 1\\end{matrix}\\right]$"
      ],
      "text/plain": [
       "[2  3  1]"
      ]
     },
     "execution_count": 37,
     "metadata": {},
     "output_type": "execute_result"
    }
   ],
   "source": [
    "A.row(1) # Começa em 0"
   ]
  },
  {
   "cell_type": "code",
   "execution_count": 38,
   "metadata": {},
   "outputs": [
    {
     "data": {
      "text/latex": [
       "$\\displaystyle \\left[\\begin{matrix}3\\\\2\\\\1\\end{matrix}\\right]$"
      ],
      "text/plain": [
       "⎡3⎤\n",
       "⎢ ⎥\n",
       "⎢2⎥\n",
       "⎢ ⎥\n",
       "⎣1⎦"
      ]
     },
     "execution_count": 38,
     "metadata": {},
     "output_type": "execute_result"
    }
   ],
   "source": [
    "B.col(0) # Também começa em 0"
   ]
  },
  {
   "cell_type": "code",
   "execution_count": 39,
   "metadata": {},
   "outputs": [
    {
     "data": {
      "text/latex": [
       "$\\displaystyle \\left[\\begin{matrix}3 & 2 & 2\\\\2 & 2 & 3\\\\1 & 4 & 2\\end{matrix}\\right]$"
      ],
      "text/plain": [
       "⎡3  2  2⎤\n",
       "⎢       ⎥\n",
       "⎢2  2  3⎥\n",
       "⎢       ⎥\n",
       "⎣1  4  2⎦"
      ]
     },
     "execution_count": 39,
     "metadata": {},
     "output_type": "execute_result"
    }
   ],
   "source": [
    "B = B.col_insert(2,Matrix([2,3,2])) # Insere Coluna\n",
    "B"
   ]
  },
  {
   "cell_type": "code",
   "execution_count": 40,
   "metadata": {},
   "outputs": [
    {
     "data": {
      "text/latex": [
       "$\\displaystyle \\left[\\begin{matrix}\\frac{4}{7} & - \\frac{2}{7} & - \\frac{1}{7}\\\\\\frac{1}{14} & - \\frac{2}{7} & \\frac{5}{14}\\\\- \\frac{3}{7} & \\frac{5}{7} & - \\frac{1}{7}\\end{matrix}\\right]$"
      ],
      "text/plain": [
       "⎡4/7   -2/7  -1/7⎤\n",
       "⎢                ⎥\n",
       "⎢1/14  -2/7  5/14⎥\n",
       "⎢                ⎥\n",
       "⎣-3/7  5/7   -1/7⎦"
      ]
     },
     "execution_count": 40,
     "metadata": {},
     "output_type": "execute_result"
    }
   ],
   "source": [
    "B**-1"
   ]
  },
  {
   "cell_type": "markdown",
   "metadata": {},
   "source": [
    "## Exercícios\n",
    "\n",
    "Utilizando o que aprendeu nesse capítulo, tente resolver os seguintes exercícios:\n",
    "\n",
    "1. Encontre as raízes de cada uma das expressões abaixo. Depois encontre um par $(x,y)$ para cada:\n",
    "\n",
    "$$x^3 - 8x^2 + 4x + 3 $$\n",
    "\n",
    "$$\\sin(x) + 2\\cos(x)$$\n",
    "\n",
    "$$\\log\\left|\\dfrac{x^2 - x}{2}\\right|$$\n",
    "\n",
    "$$e^{-x^3 + 5x^2 -x} -1$$\n",
    "\n",
    "2. Encontre as soluções das equações abaixo:\n",
    "\n",
    "$$x^4 - 4x^3 + x^2 - 30 = -x^2 + x - 40$$\n",
    "\n",
    "$$2^{x^2 -x} = 3^x$$\n",
    "\n",
    "$$\\log\\left|x^3 - 2x^2 +x\\right| = \\log\\left|x^2 + 6x\\right|$$\n",
    "\n",
    "3. Verifique se as igualdades são verdadeiras:\n",
    "\n",
    "$$\\Gamma\\left(\\dfrac{3}{2}\\right) = \\dfrac{\\sqrt{\\pi}}{2}$$\n",
    "\n",
    "$$\\sin(2x^2) - \\cos(x^2 +x) = \\sin{\\left(x \\right)} \\sin{\\left(x^{2} \\right)} + 2 \\sin{\\left(x^{2} \\right)} \\cos{\\left(x^{2} \\right)} - \\cos{\\left(x \\right)} \\cos{\\left(x^{2} \\right)}$$\n",
    "\n",
    "$$(x^2 -3x)(2x^4 + x^3 - x)(-4x^2)= 8 x^{8} + 20 x^{7} + 12 x^{6} + 4 x^{5} - 12 x^{4}$$\n",
    "\n",
    "4. Encontre as soluções do sistema:\n",
    "\n",
    "$$\\begin{cases}4x - 3y + 2z = 60\\\\ (x - 10)^2 + y^2 + z^2 = 72\\\\ 2x + 9y +z = 20 \\end{cases}$$"
   ]
  },
  {
   "cell_type": "markdown",
   "metadata": {},
   "source": [
    "# Aplicações em Cálculo Diferencial e Integral\n",
    "\n",
    "De modo geral, o principal objetivo do curso é garantir que seus alunos estejam proeficientes no uso de `SymPy` no Cálculo. Na minha opinião, esse é o capítulo mais importante do curso. Dê seu máximo para absorver o conteúdo aqui apresentado.\n",
    "\n",
    "Antes de comerçarmos, certifique-se que fez as devidas importações e atribuições:"
   ]
  },
  {
   "cell_type": "code",
   "execution_count": 1,
   "metadata": {},
   "outputs": [],
   "source": [
    "from sympy import *\n",
    "x, y, z = symbols('x y z')\n",
    "init_printing(use_unicode=True, use_latex='mathjax')"
   ]
  },
  {
   "cell_type": "markdown",
   "metadata": {},
   "source": [
    "## Intervalos\n",
    "\n",
    "Nós sabemos que o Cálculo é, genericamente, o estudo das mudanças. E nós costumamos definir intervalos para trabalhar com nossas funções e expressões. É bem simples de criá-los e utilizá-los no `SymPy`.\n",
    "\n",
    "Para criar um intervalo, criamos um objeto a partir da classe `Interval` e/ou um método seu para definir se está aberto em algum dos lados. Veja os exemplos:"
   ]
  },
  {
   "cell_type": "code",
   "execution_count": 2,
   "metadata": {},
   "outputs": [
    {
     "data": {
      "text/latex": [
       "$\\displaystyle \\left[0, 10\\right]$"
      ],
      "text/plain": [
       "[0, 10]"
      ]
     },
     "execution_count": 2,
     "metadata": {},
     "output_type": "execute_result"
    }
   ],
   "source": [
    "# Intervalo Fechado\n",
    "Interval(0,10)"
   ]
  },
  {
   "cell_type": "code",
   "execution_count": 3,
   "metadata": {},
   "outputs": [
    {
     "data": {
      "text/latex": [
       "$\\displaystyle \\left(-10, 20\\right)$"
      ],
      "text/plain": [
       "(-10, 20)"
      ]
     },
     "execution_count": 3,
     "metadata": {},
     "output_type": "execute_result"
    }
   ],
   "source": [
    "# Intervalo Aberto\n",
    "Interval.open(-10, 20)"
   ]
  },
  {
   "cell_type": "code",
   "execution_count": 4,
   "metadata": {},
   "outputs": [
    {
     "data": {
      "text/latex": [
       "$\\displaystyle \\left[10, 30\\right)$"
      ],
      "text/plain": [
       "[10, 30)"
      ]
     },
     "execution_count": 4,
     "metadata": {},
     "output_type": "execute_result"
    }
   ],
   "source": [
    "# Intervalo Aberto em um dos lados\n",
    "Interval.Ropen(10,30) # R - Direita"
   ]
  },
  {
   "cell_type": "code",
   "execution_count": 5,
   "metadata": {},
   "outputs": [
    {
     "data": {
      "text/latex": [
       "$\\displaystyle \\left(10, 30\\right]$"
      ],
      "text/plain": [
       "(10, 30]"
      ]
     },
     "execution_count": 5,
     "metadata": {},
     "output_type": "execute_result"
    }
   ],
   "source": [
    "Interval.Lopen(10,30) # L - Direita"
   ]
  },
  {
   "cell_type": "code",
   "execution_count": 6,
   "metadata": {},
   "outputs": [
    {
     "data": {
      "text/latex": [
       "$\\displaystyle \\left[0, \\infty\\right)$"
      ],
      "text/plain": [
       "[0, ∞)"
      ]
     },
     "execution_count": 6,
     "metadata": {},
     "output_type": "execute_result"
    }
   ],
   "source": [
    "Interval(0,oo) # oo representa o infinito em sympy. Note que onde oo estiver será aberto."
   ]
  },
  {
   "cell_type": "markdown",
   "metadata": {},
   "source": [
    "## Análises de Domínio/Intervalo\n",
    "\n",
    "Existem diversas funções embutidas no `SymPy` para avaliar o comportamento das funções/expressões ao longo de seu domínio ou de um intervalo específico. Normalmente elas retornarão um booleano.\n",
    "\n",
    "### Verificar se é crescente ou decrescente."
   ]
  },
  {
   "cell_type": "code",
   "execution_count": 7,
   "metadata": {},
   "outputs": [
    {
     "data": {
      "text/plain": [
       "False"
      ]
     },
     "execution_count": 7,
     "metadata": {},
     "output_type": "execute_result"
    }
   ],
   "source": [
    "## x² em seu domínio não é crescente\n",
    "is_increasing(x**2)"
   ]
  },
  {
   "cell_type": "code",
   "execution_count": 8,
   "metadata": {},
   "outputs": [
    {
     "data": {
      "text/plain": [
       "True"
      ]
     },
     "execution_count": 8,
     "metadata": {},
     "output_type": "execute_result"
    }
   ],
   "source": [
    "## x² em (0, oo) é crescente\n",
    "is_increasing(x**2, Interval.open(0, oo))"
   ]
  },
  {
   "cell_type": "code",
   "execution_count": 9,
   "metadata": {},
   "outputs": [
    {
     "data": {
      "text/plain": [
       "True"
      ]
     },
     "execution_count": 9,
     "metadata": {},
     "output_type": "execute_result"
    }
   ],
   "source": [
    "## O contrário vale para decreasing\n",
    "is_decreasing(x**2, Interval.open(-oo, 0))"
   ]
  },
  {
   "cell_type": "markdown",
   "metadata": {},
   "source": [
    "Podemos verificar também se ela é estritamente crescente ou decrescente, ou seja, se ela é injetiva. "
   ]
  },
  {
   "cell_type": "code",
   "execution_count": 10,
   "metadata": {},
   "outputs": [
    {
     "data": {
      "text/plain": [
       "True"
      ]
     },
     "execution_count": 10,
     "metadata": {},
     "output_type": "execute_result"
    }
   ],
   "source": [
    "## x³ é crescente em todo seu domínio. (d/dx = 3x² >= 0)\n",
    "is_increasing(x**3)"
   ]
  },
  {
   "cell_type": "code",
   "execution_count": 11,
   "metadata": {},
   "outputs": [],
   "source": [
    "## x³ não é estritamente crescente em seu domínio (3*0² = 0)\n",
    "is_strictly_increasing(x**3)"
   ]
  },
  {
   "cell_type": "code",
   "execution_count": 12,
   "metadata": {},
   "outputs": [
    {
     "data": {
      "text/plain": [
       "True"
      ]
     },
     "execution_count": 12,
     "metadata": {},
     "output_type": "execute_result"
    }
   ],
   "source": [
    "## 1/(e^x) é estritamente decrescente em seu domínio\n",
    "is_strictly_decreasing(1/(exp(x)))"
   ]
  },
  {
   "cell_type": "markdown",
   "metadata": {},
   "source": [
    "Podemos também verificar se ela é monótona com `is_monotonic()`. Para finalizar, podemos verificar se há pontos (e quais são) com singularidades. Ou seja, que requerem certa atenção. Normalmente, são pontos que não têm limite. "
   ]
  },
  {
   "cell_type": "code",
   "execution_count": 13,
   "metadata": {},
   "outputs": [
    {
     "data": {
      "text/latex": [
       "$\\displaystyle \\left\\{0\\right\\}$"
      ],
      "text/plain": [
       "{0}"
      ]
     },
     "execution_count": 13,
     "metadata": {},
     "output_type": "execute_result"
    }
   ],
   "source": [
    "singularities(1/x,x)"
   ]
  },
  {
   "cell_type": "markdown",
   "metadata": {},
   "source": [
    "## Limites\n",
    "\n",
    "Assim como veremos posteriormente nas derivadas e nas integrais, há duas formas de criar e calcular limites no `SymPy`. A primeria forma é através da classe `Limit`, que criará um limite e não calculará seu valor. Ou seja, utilize ela para armazenar a expressão do limite. Caso queira somente calcular o limite. Utilizamos a função `limit()`."
   ]
  },
  {
   "cell_type": "code",
   "execution_count": 14,
   "metadata": {},
   "outputs": [
    {
     "data": {
      "text/latex": [
       "$\\displaystyle \\lim_{x \\to 0^+}\\left(\\frac{\\sin{\\left(x \\right)}}{x}\\right)$"
      ],
      "text/plain": [
       "     ⎛sin(x)⎞\n",
       " lim ⎜──────⎟\n",
       "x─→0⁺⎝  x   ⎠"
      ]
     },
     "execution_count": 14,
     "metadata": {},
     "output_type": "execute_result"
    }
   ],
   "source": [
    "Limit(sin(x)/x, x, 0, '+') ## sin(x)/x, x -> 0+"
   ]
  },
  {
   "cell_type": "code",
   "execution_count": 15,
   "metadata": {},
   "outputs": [
    {
     "data": {
      "text/latex": [
       "$\\displaystyle \\lim_{x \\to 0^-} \\frac{1}{x}$"
      ],
      "text/plain": [
       "     1\n",
       " lim ─\n",
       "x─→0⁻x"
      ]
     },
     "execution_count": 15,
     "metadata": {},
     "output_type": "execute_result"
    }
   ],
   "source": [
    "Limit(1/x, x, 0, '-') ## sin(x)/x, x -> 0-"
   ]
  },
  {
   "cell_type": "code",
   "execution_count": 16,
   "metadata": {},
   "outputs": [
    {
     "data": {
      "text/latex": [
       "$\\displaystyle 1$"
      ],
      "text/plain": [
       "1"
      ]
     },
     "execution_count": 16,
     "metadata": {},
     "output_type": "execute_result"
    }
   ],
   "source": [
    "limit(sin(x)/x, x, 0, '+')"
   ]
  },
  {
   "cell_type": "code",
   "execution_count": 17,
   "metadata": {},
   "outputs": [
    {
     "data": {
      "text/latex": [
       "$\\displaystyle \\infty$"
      ],
      "text/plain": [
       "∞"
      ]
     },
     "execution_count": 17,
     "metadata": {},
     "output_type": "execute_result"
    }
   ],
   "source": [
    "limit(1/x, x, 0) # '+' por padrão"
   ]
  },
  {
   "cell_type": "code",
   "execution_count": 18,
   "metadata": {},
   "outputs": [
    {
     "data": {
      "text/latex": [
       "$\\displaystyle -\\infty$"
      ],
      "text/plain": [
       "-∞"
      ]
     },
     "execution_count": 18,
     "metadata": {},
     "output_type": "execute_result"
    }
   ],
   "source": [
    "limit(1/x, x, 0, '-')"
   ]
  },
  {
   "cell_type": "code",
   "execution_count": 19,
   "metadata": {},
   "outputs": [
    {
     "data": {
      "text/latex": [
       "$\\displaystyle \\tilde{\\infty}$"
      ],
      "text/plain": [
       "zoo"
      ]
     },
     "execution_count": 19,
     "metadata": {},
     "output_type": "execute_result"
    }
   ],
   "source": [
    "limit(1/x, x, 0, '+-') # Dois lados"
   ]
  },
  {
   "cell_type": "code",
   "execution_count": 20,
   "metadata": {},
   "outputs": [
    {
     "data": {
      "text/latex": [
       "$\\displaystyle 1$"
      ],
      "text/plain": [
       "1"
      ]
     },
     "execution_count": 20,
     "metadata": {},
     "output_type": "execute_result"
    }
   ],
   "source": [
    "my_sin = Limit(sin(x)/x, x, 0, '+')\n",
    "my_sin.doit() # Método doit() calcula uma expressão."
   ]
  },
  {
   "cell_type": "markdown",
   "metadata": {},
   "source": [
    "## Derivadas\n",
    "\n",
    "Assim com os limites, podemos criar a derivada (sem calculá-la) através da classe `Derivative()`. E calcular diretamente através da `diff()`."
   ]
  },
  {
   "cell_type": "code",
   "execution_count": 21,
   "metadata": {},
   "outputs": [
    {
     "data": {
      "text/latex": [
       "$\\displaystyle \\frac{d}{d x} e^{2 x^{3}}$"
      ],
      "text/plain": [
       "  ⎛    3⎞\n",
       "d ⎜ 2⋅x ⎟\n",
       "──⎝ℯ    ⎠\n",
       "dx       "
      ]
     },
     "execution_count": 21,
     "metadata": {},
     "output_type": "execute_result"
    }
   ],
   "source": [
    "Derivative(exp(2*x**3),x)"
   ]
  },
  {
   "cell_type": "code",
   "execution_count": 22,
   "metadata": {},
   "outputs": [
    {
     "data": {
      "text/latex": [
       "$\\displaystyle 2 x \\cos{\\left(x^{2} \\right)}$"
      ],
      "text/plain": [
       "       ⎛ 2⎞\n",
       "2⋅x⋅cos⎝x ⎠"
      ]
     },
     "execution_count": 22,
     "metadata": {},
     "output_type": "execute_result"
    }
   ],
   "source": [
    "diff(sin(x**2),x)"
   ]
  },
  {
   "cell_type": "code",
   "execution_count": 23,
   "metadata": {},
   "outputs": [
    {
     "data": {
      "text/latex": [
       "$\\displaystyle 2 \\left(- 2 x^{2} \\sin{\\left(x^{2} \\right)} + \\cos{\\left(x^{2} \\right)}\\right)$"
      ],
      "text/plain": [
       "  ⎛     2    ⎛ 2⎞      ⎛ 2⎞⎞\n",
       "2⋅⎝- 2⋅x ⋅sin⎝x ⎠ + cos⎝x ⎠⎠"
      ]
     },
     "execution_count": 23,
     "metadata": {},
     "output_type": "execute_result"
    }
   ],
   "source": [
    "diff(sin(x**2),x, x) ## Calcular a segunda derivada"
   ]
  },
  {
   "cell_type": "code",
   "execution_count": 24,
   "metadata": {},
   "outputs": [
    {
     "data": {
      "text/latex": [
       "$\\displaystyle - 4 x \\left(2 x^{2} \\cos{\\left(x^{2} \\right)} + 3 \\sin{\\left(x^{2} \\right)}\\right)$"
      ],
      "text/plain": [
       "     ⎛   2    ⎛ 2⎞        ⎛ 2⎞⎞\n",
       "-4⋅x⋅⎝2⋅x ⋅cos⎝x ⎠ + 3⋅sin⎝x ⎠⎠"
      ]
     },
     "execution_count": 24,
     "metadata": {},
     "output_type": "execute_result"
    }
   ],
   "source": [
    "diff(sin(x**2),x, x, x) ## Calcular a terceira derivada"
   ]
  },
  {
   "cell_type": "code",
   "execution_count": 25,
   "metadata": {},
   "outputs": [
    {
     "data": {
      "text/latex": [
       "$\\displaystyle - 4 x \\left(2 x^{2} \\cos{\\left(x^{2} \\right)} + 3 \\sin{\\left(x^{2} \\right)}\\right)$"
      ],
      "text/plain": [
       "     ⎛   2    ⎛ 2⎞        ⎛ 2⎞⎞\n",
       "-4⋅x⋅⎝2⋅x ⋅cos⎝x ⎠ + 3⋅sin⎝x ⎠⎠"
      ]
     },
     "execution_count": 25,
     "metadata": {},
     "output_type": "execute_result"
    }
   ],
   "source": [
    "diff(sin(x**2),x, 3) ## Calcular a terceira derivada de outra forma"
   ]
  },
  {
   "cell_type": "code",
   "execution_count": 26,
   "metadata": {},
   "outputs": [
    {
     "data": {
      "text/latex": [
       "$\\displaystyle 32 \\left(- 32 x^{10} \\sin{\\left(x^{2} \\right)} + 720 x^{8} \\cos{\\left(x^{2} \\right)} + 5040 x^{6} \\sin{\\left(x^{2} \\right)} - 12600 x^{4} \\cos{\\left(x^{2} \\right)} - 9450 x^{2} \\sin{\\left(x^{2} \\right)} + 945 \\cos{\\left(x^{2} \\right)}\\right)$"
      ],
      "text/plain": [
       "   ⎛      10    ⎛ 2⎞        8    ⎛ 2⎞         6    ⎛ 2⎞          4    ⎛ 2⎞    \n",
       "32⋅⎝- 32⋅x  ⋅sin⎝x ⎠ + 720⋅x ⋅cos⎝x ⎠ + 5040⋅x ⋅sin⎝x ⎠ - 12600⋅x ⋅cos⎝x ⎠ - 9\n",
       "\n",
       "     2    ⎛ 2⎞          ⎛ 2⎞⎞\n",
       "450⋅x ⋅sin⎝x ⎠ + 945⋅cos⎝x ⎠⎠"
      ]
     },
     "execution_count": 26,
     "metadata": {},
     "output_type": "execute_result"
    }
   ],
   "source": [
    "diff(sin(x**2),x, 10) ## Calcular a décima derivada"
   ]
  },
  {
   "cell_type": "code",
   "execution_count": 27,
   "metadata": {},
   "outputs": [
    {
     "data": {
      "text/latex": [
       "$\\displaystyle 6 x^{2} e^{2 x^{3}}$"
      ],
      "text/plain": [
       "         3\n",
       "   2  2⋅x \n",
       "6⋅x ⋅ℯ    "
      ]
     },
     "execution_count": 27,
     "metadata": {},
     "output_type": "execute_result"
    }
   ],
   "source": [
    "my_deriv = Derivative(exp(2*x**3),x)\n",
    "my_deriv.doit()"
   ]
  },
  {
   "cell_type": "code",
   "execution_count": 28,
   "metadata": {},
   "outputs": [
    {
     "data": {
      "text/latex": [
       "$\\displaystyle 6 x^{2} e^{2 x^{3}}$"
      ],
      "text/plain": [
       "         3\n",
       "   2  2⋅x \n",
       "6⋅x ⋅ℯ    "
      ]
     },
     "execution_count": 28,
     "metadata": {},
     "output_type": "execute_result"
    }
   ],
   "source": [
    "## Podemos, com o método diff()\n",
    "expr = exp(2*x**3)\n",
    "expr.diff(x)"
   ]
  },
  {
   "cell_type": "code",
   "execution_count": 29,
   "metadata": {},
   "outputs": [
    {
     "data": {
      "text/latex": [
       "$\\displaystyle 12 \\left(18 x^{6} + 18 x^{3} + 1\\right) e^{2 x^{3}}$"
      ],
      "text/plain": [
       "                           3\n",
       "   ⎛    6       3    ⎞  2⋅x \n",
       "12⋅⎝18⋅x  + 18⋅x  + 1⎠⋅ℯ    "
      ]
     },
     "execution_count": 29,
     "metadata": {},
     "output_type": "execute_result"
    }
   ],
   "source": [
    "expr.diff(x,3) # Terceira derivada"
   ]
  },
  {
   "cell_type": "markdown",
   "metadata": {},
   "source": [
    "## Integrais\n",
    "\n",
    "Assim como os Limites e as Derivadas que vimos acima, podemos criar uma Integral através da classe `Integral()` caso queiramos ter somente a expressão, e caso queiramos o resultado de uma Integral, basta utilizar a função `integrate()`.\n",
    "\n",
    "O `Sympy` não acresce a constante de integração nas Integrais Indefinidas, então é importante se lembrar delaa quando for resolver algum exercício."
   ]
  },
  {
   "cell_type": "code",
   "execution_count": 30,
   "metadata": {},
   "outputs": [
    {
     "data": {
      "text/latex": [
       "$\\displaystyle \\int \\frac{1}{x}\\, dx$"
      ],
      "text/plain": [
       "⌠     \n",
       "⎮ 1   \n",
       "⎮ ─ dx\n",
       "⎮ x   \n",
       "⌡     "
      ]
     },
     "execution_count": 30,
     "metadata": {},
     "output_type": "execute_result"
    }
   ],
   "source": [
    "Integral(1/x, x)"
   ]
  },
  {
   "cell_type": "code",
   "execution_count": 31,
   "metadata": {},
   "outputs": [
    {
     "data": {
      "text/latex": [
       "$\\displaystyle \\int\\limits_{1}^{10} \\frac{1}{x}\\, dx$"
      ],
      "text/plain": [
       "10     \n",
       "⌠      \n",
       "⎮  1   \n",
       "⎮  ─ dx\n",
       "⎮  x   \n",
       "⌡      \n",
       "1      "
      ]
     },
     "execution_count": 31,
     "metadata": {},
     "output_type": "execute_result"
    }
   ],
   "source": [
    "Integral(1/x, (x, 1, 10)) # Note que passamos (simbolo, inf, sup)"
   ]
  },
  {
   "cell_type": "code",
   "execution_count": 32,
   "metadata": {},
   "outputs": [
    {
     "data": {
      "text/latex": [
       "$\\displaystyle \\log{\\left(10 \\right)}$"
      ],
      "text/plain": [
       "log(10)"
      ]
     },
     "execution_count": 32,
     "metadata": {},
     "output_type": "execute_result"
    }
   ],
   "source": [
    "integrate(1/x, (x,1,10))"
   ]
  },
  {
   "cell_type": "code",
   "execution_count": 33,
   "metadata": {},
   "outputs": [
    {
     "data": {
      "text/latex": [
       "$\\displaystyle \\int\\limits_{1}^{10}\\int\\limits_{1}^{10} \\left(\\frac{1}{y} + \\frac{1}{x}\\right)\\, dx\\, dy$"
      ],
      "text/plain": [
       "10 10              \n",
       "⌠  ⌠               \n",
       "⎮  ⎮  ⎛1   1⎞      \n",
       "⎮  ⎮  ⎜─ + ─⎟ dx dy\n",
       "⎮  ⎮  ⎝y   x⎠      \n",
       "⌡  ⌡               \n",
       "1  1               "
      ]
     },
     "execution_count": 33,
     "metadata": {},
     "output_type": "execute_result"
    }
   ],
   "source": [
    "my_integral = Integral(1/x + 1/y, (x, 1, 10), (y, 1, 10)) # Integral dupla, duas variáveis.\n",
    "my_integral"
   ]
  },
  {
   "cell_type": "code",
   "execution_count": 34,
   "metadata": {},
   "outputs": [
    {
     "data": {
      "text/latex": [
       "$\\displaystyle 18 \\log{\\left(10 \\right)}$"
      ],
      "text/plain": [
       "18⋅log(10)"
      ]
     },
     "execution_count": 34,
     "metadata": {},
     "output_type": "execute_result"
    }
   ],
   "source": [
    "my_integral.doit()"
   ]
  },
  {
   "cell_type": "code",
   "execution_count": 35,
   "metadata": {},
   "outputs": [
    {
     "data": {
      "text/latex": [
       "$\\displaystyle \\iint e^{x^{2} - 10}\\, dx\\, dx$"
      ],
      "text/plain": [
       "⌠ ⌠               \n",
       "⎮ ⎮   2           \n",
       "⎮ ⎮  x  - 10      \n",
       "⎮ ⎮ ℯ        dx dx\n",
       "⌡ ⌡               "
      ]
     },
     "execution_count": 35,
     "metadata": {},
     "output_type": "execute_result"
    }
   ],
   "source": [
    "Integral(exp(x**2 - 10), x,x) # Integral dupla indefinida, mesma variável"
   ]
  },
  {
   "cell_type": "markdown",
   "metadata": {},
   "source": [
    "## Outras funções\n",
    "\n",
    "### Séries\n",
    "\n",
    "Você pode utilizar o método `series()` em uma expressão para fazer sua expansão em série."
   ]
  },
  {
   "cell_type": "code",
   "execution_count": 36,
   "metadata": {},
   "outputs": [
    {
     "data": {
      "text/latex": [
       "$\\displaystyle x + \\frac{x^{3}}{6} + \\frac{3 x^{5}}{40} + \\frac{5 x^{7}}{112} + \\frac{35 x^{9}}{1152} + O\\left(x^{10}\\right)$"
      ],
      "text/plain": [
       "     3      5      7       9         \n",
       "    x    3⋅x    5⋅x    35⋅x     ⎛ 10⎞\n",
       "x + ── + ──── + ──── + ───── + O⎝x  ⎠\n",
       "    6     40    112     1152         "
      ]
     },
     "execution_count": 36,
     "metadata": {},
     "output_type": "execute_result"
    }
   ],
   "source": [
    "asin(x).series(x,0, 10) # (x, x_0, n)"
   ]
  },
  {
   "cell_type": "markdown",
   "metadata": {},
   "source": [
    "### Equações Diferenciais\n",
    "\n",
    "Ao criar uma função simbólica, você pode utilizar derivadas e a função `dsolve()` para encontrar a solução de uma expressão e ou equação diferencial. Nesse caso, o `SymPy` insere as constantes quando necessário."
   ]
  },
  {
   "cell_type": "code",
   "execution_count": 37,
   "metadata": {},
   "outputs": [
    {
     "data": {
      "text/latex": [
       "$\\displaystyle \\frac{d^{2}}{d x^{2}} f{\\left(x \\right)} = f{\\left(x \\right)}$"
      ],
      "text/plain": [
       "  2             \n",
       " d              \n",
       "───(f(x)) = f(x)\n",
       "  2             \n",
       "dx              "
      ]
     },
     "execution_count": 37,
     "metadata": {},
     "output_type": "execute_result"
    }
   ],
   "source": [
    "f = Function('f')\n",
    "my_deq = Eq(Derivative(f(x),x,2),f(x))\n",
    "my_deq"
   ]
  },
  {
   "cell_type": "code",
   "execution_count": 38,
   "metadata": {},
   "outputs": [
    {
     "data": {
      "text/latex": [
       "$\\displaystyle f{\\left(x \\right)} = C_{1} e^{- x} + C_{2} e^{x}$"
      ],
      "text/plain": [
       "           -x       x\n",
       "f(x) = C₁⋅ℯ   + C₂⋅ℯ "
      ]
     },
     "execution_count": 38,
     "metadata": {},
     "output_type": "execute_result"
    }
   ],
   "source": [
    "dsolve(my_deq)"
   ]
  },
  {
   "cell_type": "markdown",
   "metadata": {},
   "source": [
    "## Exercícios\n",
    "\n",
    "Como nos últimos capítulos, resolva os seguintes exercícios com o que aprendeu ao longo do curso.\n",
    "\n",
    "1. Para cada uma das funções abaixo, encontre:\n",
    "\n",
    "a) O domínio da função;\n",
    "\n",
    "b) As assíntotas horizontais e verticais, caso existam;\n",
    "\n",
    "c) Sua derivada, os intervalos de crescimento e decrescimento de f,os pontos de máximo e mínimo, caso existam; \n",
    "\n",
    "d) Os intervalos onde o gráfico da f é côncavo para cima e onde é côncavo para baixo.\n",
    "\n",
    "$$f(x) = \\dfrac{x^3}{x + 4}$$\n",
    "\n",
    "$$g(x) = \\dfrac{x^3 - 4x^2 + 5}{x^2 - x}$$\n",
    "\n",
    "$$h(x) = x^2 - 4x + \\dfrac{x}{x-10}$$\n",
    "\n",
    "2. Calcule:\n",
    "\n",
    "$$\\int x^3 - 2x^2 + 3x + 10 \\,\\ dx$$\n",
    "\n",
    "$$\\int x^3\\cdot\\sin(2x) \\,\\ dx$$\n",
    "\n",
    "$$\\int_0^{10} \\tan^3(x)\\sec^3(x) \\,\\ dx $$\n",
    "\n",
    "$$\\int_1^{\\infty} -\\dfrac{1}{x^2} \\,\\ dx $$\n",
    "\n",
    "3. Qual a menor distância vertical entre as funções $f(x) = 32x^2$ e $g(x) = -\\dfrac{8}{x^2}$?"
   ]
  },
  {
   "cell_type": "markdown",
   "metadata": {},
   "source": [
    "# Criando Gráficos\n",
    "\n",
    "O uso de gráficos na matemática, principalmente no Cálculo e na Geometria Analítica, é de extrema importância. Embora esse não seja o foco do `SymPy`, é possível criar os chamados _plots_ com certa facilidade. Inclusive, como é utilizado o `matplotlib` para criar os gráficos, há uma grande margem para alterações. Isso permite gráficos quase totalmente customizáveis.\n",
    "\n",
    "Os tipos de plots abordados nesse capítulos serão os criados pelas funções:\n",
    "\n",
    "- plot()\n",
    "- plot_implicit()\n",
    "- plot3d()\n",
    "\n",
    "O seu uso é facilitado mais ainda pelo ambiente Jupyter, e podemos trabalhar com eles de forma semelhante ao que fora abordado no último capítulo. Ou seja, podemos criar um objeto para trabalharmos com ele, e depois ver o resultado. Ou, podemos simplesmente criar um plot.\n",
    "\n",
    "Antes de começarmos, vamos a importação e as definições essenciais:"
   ]
  },
  {
   "cell_type": "code",
   "execution_count": 1,
   "metadata": {},
   "outputs": [],
   "source": [
    "from sympy import *\n",
    "x, y, z = symbols('x y z')\n",
    "init_printing(use_unicode=True, use_latex='mathjax')"
   ]
  },
  {
   "cell_type": "markdown",
   "metadata": {},
   "source": [
    "## Plot 2D\n",
    "\n",
    "As duas primeiras funções que trabalharemos criam plots em 2D. Para fazer um plot de uma função, basta utilizar a função `plot()`. Confira abaixo:\n",
    "\n",
    "### Funções"
   ]
  },
  {
   "cell_type": "code",
   "execution_count": 2,
   "metadata": {},
   "outputs": [
    {
     "data": {
      "image/png": "[encoded data removed]",
      "text/plain": [
       "<Figure size 432x288 with 1 Axes>"
      ]
     },
     "metadata": {
      "needs_background": "light"
     },
     "output_type": "display_data"
    },
    {
     "data": {
      "text/plain": [
       "<sympy.plotting.plot.Plot at 0x7f2220cd9710>"
      ]
     },
     "execution_count": 2,
     "metadata": {},
     "output_type": "execute_result"
    }
   ],
   "source": [
    "plot(x**3)"
   ]
  },
  {
   "cell_type": "markdown",
   "metadata": {},
   "source": [
    "Podemos, inclusive, fazer vários plots unidos."
   ]
  },
  {
   "cell_type": "code",
   "execution_count": 3,
   "metadata": {},
   "outputs": [
    {
     "data": {
      "image/png": "[encoded data removed]",
      "text/plain": [
       "<Figure size 432x288 with 1 Axes>"
      ]
     },
     "metadata": {
      "needs_background": "light"
     },
     "output_type": "display_data"
    },
    {
     "data": {
      "text/plain": [
       "<sympy.plotting.plot.Plot at 0x7f21f6b30ad0>"
      ]
     },
     "execution_count": 3,
     "metadata": {},
     "output_type": "execute_result"
    }
   ],
   "source": [
    "plot(x**3, x**2)"
   ]
  },
  {
   "cell_type": "markdown",
   "metadata": {},
   "source": [
    "Obviamente, o gráfico acima está longe de ser o melhor possível. Mas com apenas uma função fizemos algo relevante. Mas, se armazenarmos, note o que podemos fazer."
   ]
  },
  {
   "cell_type": "code",
   "execution_count": 4,
   "metadata": {},
   "outputs": [
    {
     "data": {
      "image/png": "[encoded data removed]",
      "text/plain": [
       "<Figure size 432x288 with 1 Axes>"
      ]
     },
     "metadata": {
      "needs_background": "light"
     },
     "output_type": "display_data"
    }
   ],
   "source": [
    "my_plot = plot(x**3, x**2, show=False) # show=False para não plotar.\n",
    "my_plot.show() # .show() para exibir"
   ]
  },
  {
   "cell_type": "markdown",
   "metadata": {},
   "source": [
    "Por enquanto, nada mudou. Mas podemos ir trabalhando em seus atributos assim."
   ]
  },
  {
   "cell_type": "code",
   "execution_count": 5,
   "metadata": {},
   "outputs": [
    {
     "data": {
      "image/png": "[encoded data removed]",
      "text/plain": [
       "<Figure size 432x288 with 1 Axes>"
      ]
     },
     "metadata": {
      "needs_background": "light"
     },
     "output_type": "display_data"
    }
   ],
   "source": [
    "my_plot[1].line_color = 'red' # x²\n",
    "my_plot.show()"
   ]
  },
  {
   "cell_type": "markdown",
   "metadata": {},
   "source": [
    "Estamos melhorando. Veja que `my_plot` armazena as funções em sequência. Trabalhamos em $x^2$ individualmente quando usamos `my_plot[1]`."
   ]
  },
  {
   "cell_type": "code",
   "execution_count": 6,
   "metadata": {},
   "outputs": [
    {
     "data": {
      "image/png": "[encoded data removed]",
      "text/plain": [
       "<Figure size 576x432 with 1 Axes>"
      ]
     },
     "metadata": {
      "needs_background": "light"
     },
     "output_type": "display_data"
    }
   ],
   "source": [
    "my_plot.legend = True # Legenda\n",
    "my_plot.xlim = (-10,10) # Esse é o máximo por padrão, veremos como alterar isso mais tarde\n",
    "my_plot.ylim = (-100,100)\n",
    "my_plot.size = (8,6) # Tamanho da figura\n",
    "my_plot.show()"
   ]
  },
  {
   "cell_type": "markdown",
   "metadata": {},
   "source": [
    "Acho que conseguimos um bom resultado. Contudo, você concorda que é um pouco cansativo acessar cada um desses valores e ir alterando, certo? E, se não definíssemos os limites em $x$ para $[-10,10]$, você veria que a função não continuaria. Isso ocorre pois não definimos o alcance de nosso plot ao criá-lo.\n",
    "\n",
    "Aliado a isso, é possível criar dois plots diferentes e uní-los com o método `.extend()`.\n",
    "\n",
    "Com o que aprendemos podemos fazer, com um único comando, um bom plot de uma única função. Caso queiramos mais de uma (como fizemos acima), basta alterar as cores de suas linhas.\n",
    "\n",
    "Caso você conheça `matplotlib`, é possível utilizar todos os parâmetros para anotações e etc. Não abordarei isso aqui pois acredito que foge do nosso objetivo, mas é algo interessante.\n"
   ]
  },
  {
   "cell_type": "code",
   "execution_count": 7,
   "metadata": {},
   "outputs": [
    {
     "data": {
      "image/png": "[encoded data removed]",
      "text/plain": [
       "<Figure size 432x432 with 1 Axes>"
      ]
     },
     "metadata": {
      "needs_background": "light"
     },
     "output_type": "display_data"
    }
   ],
   "source": [
    "p1 = plot(exp(x), log(x),x, (x, -2, 10), ylim = (-2,10), legend = True, size = (6,6), show=False)\n",
    "p1[1].line_color = 'red'\n",
    "p1[2].line_color = 'green'\n",
    "p1.show()"
   ]
  },
  {
   "cell_type": "markdown",
   "metadata": {},
   "source": [
    "### Equações Implícitas\n",
    "\n",
    "Quando temos uma equação com variável implícita, utilizamos a `plot_implicit()`. Ela segue a mesma lógica de `plot()` em sua construção. Veja uma circunferência."
   ]
  },
  {
   "cell_type": "code",
   "execution_count": 8,
   "metadata": {},
   "outputs": [
    {
     "data": {
      "image/png": "[encoded data removed]",
      "text/plain": [
       "<Figure size 432x288 with 1 Axes>"
      ]
     },
     "metadata": {
      "needs_background": "light"
     },
     "output_type": "display_data"
    },
    {
     "data": {
      "text/plain": [
       "<sympy.plotting.plot.Plot at 0x7f21f4425ad0>"
      ]
     },
     "execution_count": 8,
     "metadata": {},
     "output_type": "execute_result"
    }
   ],
   "source": [
    "cir = Eq(x**2 + y**2, 16) # R = 2\n",
    "plot_implicit(cir)"
   ]
  },
  {
   "cell_type": "markdown",
   "metadata": {},
   "source": [
    "Também podemos elaborá-lo."
   ]
  },
  {
   "cell_type": "code",
   "execution_count": 9,
   "metadata": {},
   "outputs": [
    {
     "data": {
      "image/png": "[encoded data removed]",
      "text/plain": [
       "<Figure size 432x432 with 1 Axes>"
      ]
     },
     "metadata": {
      "needs_background": "light"
     },
     "output_type": "display_data"
    },
    {
     "data": {
      "text/plain": [
       "<sympy.plotting.plot.Plot at 0x7f21f4553b50>"
      ]
     },
     "execution_count": 9,
     "metadata": {},
     "output_type": "execute_result"
    }
   ],
   "source": [
    "plot_implicit(Eq(x**2/9 + y**2/4, 1), (x, -4, 4), ylim = (-4,4), size = (6,6)) # Elípse\n",
    "# axis = False, deixa sem os eixos"
   ]
  },
  {
   "cell_type": "markdown",
   "metadata": {},
   "source": [
    "## Plot 3D\n",
    "\n",
    "Utilizando funções de duas variáveis, nós conseguimos fazer plots em 3d com a função `plot3d()`."
   ]
  },
  {
   "cell_type": "code",
   "execution_count": 10,
   "metadata": {},
   "outputs": [
    {
     "data": {
      "image/png": "[encoded data removed]",
      "text/plain": [
       "<Figure size 432x288 with 1 Axes>"
      ]
     },
     "metadata": {
      "needs_background": "light"
     },
     "output_type": "display_data"
    },
    {
     "data": {
      "text/plain": [
       "<sympy.plotting.plot.Plot at 0x7f21f43d7510>"
      ]
     },
     "execution_count": 10,
     "metadata": {},
     "output_type": "execute_result"
    }
   ],
   "source": [
    "from sympy.plotting import plot3d # Caso queira importá-la diretamente\n",
    "plot3d(x**2 + y**2)"
   ]
  },
  {
   "cell_type": "markdown",
   "metadata": {},
   "source": [
    "Os parâmetros são muito parecidos com a função `plot()`"
   ]
  },
  {
   "cell_type": "code",
   "execution_count": 11,
   "metadata": {},
   "outputs": [
    {
     "data": {
      "image/png": "[encoded data removed]",
      "text/plain": [
       "<Figure size 432x432 with 1 Axes>"
      ]
     },
     "metadata": {
      "needs_background": "light"
     },
     "output_type": "display_data"
    },
    {
     "data": {
      "text/plain": [
       "<sympy.plotting.plot.Plot at 0x7f21f41bd8d0>"
      ]
     },
     "execution_count": 11,
     "metadata": {},
     "output_type": "execute_result"
    }
   ],
   "source": [
    "plot3d(100*(sin(x) + cos(y)), size = (6,6))"
   ]
  },
  {
   "cell_type": "markdown",
   "metadata": {},
   "source": [
    "Além desses plots, há os plots paramétricos. Recomendo que dê uma olhada na documentação. No mais, é realmente simples criar plots no Sympy. \n",
    "\n",
    "## Exercícios\n",
    "\n",
    "1. Faça o plot das seguintes funções, escolhendo os melhores valores para os parâmetros:\n",
    "\n",
    "$$f(x) = 4x^2 - 3x + 26$$\n",
    "\n",
    "$$g(x) = \\log(x^2 + 10)$$\n",
    "\n",
    "$$h(x) = 10x^4 + 7x^3 - 10x + 20$$\n",
    "\n",
    "$$p(x) = \\sin(x^2 - x\\cdot \\pi) + \\cos\\left(x + \\dfrac{\\pi}{6}\\right)$$\n",
    "\n",
    "2. Faça o plot das seguintes equações, escolhendo os melhores valores para os parâmetros:\n",
    "\n",
    "$$ 2x - 5y = 20$$\n",
    "\n",
    "$$x^2 + y^2 = 60$$\n",
    "\n",
    "$$\\dfrac{x^2}{10} - \\dfrac{y^2}{8} = 1$$\n",
    "\n",
    "$$2x - 5y^2 = 10$$"
   ]
  },
  {
   "cell_type": "markdown",
   "metadata": {},
   "source": [
    "# Extras\n",
    "\n",
    "Como a principal intenção do curso é prepará-los para o uso de `SymPy` nas disciplinas que envolvem Cálculo, ao finalizar o capítulo anterior você deve estar pronto para resolver seus problemas utilizando esse módulo. Contudo, eu acredito que há muito a se falar sobre esse módulo. E, portanto, esse capítulo fará uma abordagem rápida sobre algumas coisas que são possíveis com ele.\n",
    "\n",
    "## Geometria\n",
    "\n",
    "Isso mesmo, nós podemos resolver problemas de Geometria tanto de forma simbólica, como de forma numérica. A ideia principal não é ficar criando plots com o sistema completo, mas sim trabalhar matemáticamente (indo para o lado da Geometria Analítica). \n",
    "\n",
    "Antes de começarmos essa seção e as próximas, faremos as devidas importações e definições:"
   ]
  },
  {
   "cell_type": "code",
   "execution_count": 1,
   "metadata": {},
   "outputs": [],
   "source": [
    "from sympy import *\n",
    "from sympy.geometry import * # Importante garantir que foi importado corretamente\n",
    "x, y, z = symbols('x y z')\n",
    "init_printing(use_unicode=True, use_latex='mathjax')"
   ]
  },
  {
   "cell_type": "markdown",
   "metadata": {},
   "source": [
    "### 2D\n",
    "\n",
    "Começando pela geometria em 2D, podemos seguir o processo de criar os pontos, as linhas (a partir dos pontos) e as formas 2D a partir dos segmentos. É bem simples e intuitivo, veja:"
   ]
  },
  {
   "cell_type": "code",
   "execution_count": 2,
   "metadata": {},
   "outputs": [],
   "source": [
    "O = Point(0,0)\n",
    "A = Point(1,2)\n",
    "B = Point(3,-4)\n",
    "C = Point(-2, 3)"
   ]
  },
  {
   "cell_type": "markdown",
   "metadata": {},
   "source": [
    "Você pode fazer as operações padrões entre pontos normalmente. "
   ]
  },
  {
   "cell_type": "code",
   "execution_count": 3,
   "metadata": {},
   "outputs": [
    {
     "data": {
      "text/latex": [
       "$\\displaystyle Point2D\\left(2, -6\\right)$"
      ],
      "text/plain": [
       "Point2D(2, -6)"
      ]
     },
     "execution_count": 3,
     "metadata": {},
     "output_type": "execute_result"
    }
   ],
   "source": [
    "B - A ## AB"
   ]
  },
  {
   "cell_type": "markdown",
   "metadata": {},
   "source": [
    "Contudo, o indicado é utilizar as classes, que já terão suas propriedades a fácil acesso."
   ]
  },
  {
   "cell_type": "code",
   "execution_count": 4,
   "metadata": {},
   "outputs": [
    {
     "data": {
      "image/svg+xml": [
       "<svg xmlns=\"http://www.w3.org/2000/svg\"\n",
       "            xmlns:xlink=\"http://www.w3.org/1999/xlink\"\n",
       "            width=\"100.0\" height=\"100.0\" viewBox=\"0.400000000000000 -4.60000000000000 3.20000000000000 7.20000000000000\"\n",
       "            preserveAspectRatio=\"xMinYMin meet\">\n",
       "            <defs>\n",
       "                <marker id=\"markerCircle\" markerWidth=\"8\" markerHeight=\"8\"\n",
       "                    refx=\"5\" refy=\"5\" markerUnits=\"strokeWidth\">\n",
       "                    <circle cx=\"5\" cy=\"5\" r=\"1.5\" style=\"stroke: none; fill:#000000;\"/>\n",
       "                </marker>\n",
       "                <marker id=\"markerArrow\" markerWidth=\"13\" markerHeight=\"13\" refx=\"2\" refy=\"4\"\n",
       "                       orient=\"auto\" markerUnits=\"strokeWidth\">\n",
       "                    <path d=\"M2,2 L2,6 L6,4\" style=\"fill: #000000;\" />\n",
       "                </marker>\n",
       "                <marker id=\"markerReverseArrow\" markerWidth=\"13\" markerHeight=\"13\" refx=\"6\" refy=\"4\"\n",
       "                       orient=\"auto\" markerUnits=\"strokeWidth\">\n",
       "                    <path d=\"M6,2 L6,6 L2,4\" style=\"fill: #000000;\" />\n",
       "                </marker>\n",
       "            </defs><g transform=\"matrix(1,0,0,-1,0,-2.00000000000000)\"><path fill-rule=\"evenodd\" fill=\"#66cc99\" stroke=\"#555555\" stroke-width=\"0.144000000000000\" opacity=\"0.6\" d=\"M 1.00000000000000,2.00000000000000 L 3.00000000000000,-4.00000000000000\" /></g></svg>"
      ],
      "text/latex": [
       "$\\displaystyle Segment2D\\left(Point2D\\left(1, 2\\right), Point2D\\left(3, -4\\right)\\right)$"
      ],
      "text/plain": [
       "Segment2D(Point2D(1, 2), Point2D(3, -4))"
      ]
     },
     "execution_count": 4,
     "metadata": {},
     "output_type": "execute_result"
    }
   ],
   "source": [
    "Segment(A,B) ## AB Simbólicamente"
   ]
  },
  {
   "cell_type": "code",
   "execution_count": 5,
   "metadata": {},
   "outputs": [
    {
     "data": {
      "text/latex": [
       "$\\displaystyle - \\frac{1}{3}$"
      ],
      "text/plain": [
       "-1/3"
      ]
     },
     "execution_count": 5,
     "metadata": {},
     "output_type": "execute_result"
    }
   ],
   "source": [
    "AC = Segment(A,C)\n",
    "AC.slope ## inclinação"
   ]
  },
  {
   "cell_type": "code",
   "execution_count": 6,
   "metadata": {},
   "outputs": [
    {
     "data": {
      "text/latex": [
       "$\\displaystyle \\sqrt{10}$"
      ],
      "text/plain": [
       "√10"
      ]
     },
     "execution_count": 6,
     "metadata": {},
     "output_type": "execute_result"
    }
   ],
   "source": [
    "AC.length ## comprimento"
   ]
  },
  {
   "cell_type": "code",
   "execution_count": 7,
   "metadata": {},
   "outputs": [
    {
     "data": {
      "text/latex": [
       "$\\displaystyle Point2D\\left(- \\frac{1}{2}, \\frac{5}{2}\\right)$"
      ],
      "text/plain": [
       "Point2D(-1/2, 5/2)"
      ]
     },
     "execution_count": 7,
     "metadata": {},
     "output_type": "execute_result"
    }
   ],
   "source": [
    "AC.midpoint ## ponto médio"
   ]
  },
  {
   "cell_type": "code",
   "execution_count": 8,
   "metadata": {},
   "outputs": [
    {
     "data": {
      "text/latex": [
       "$\\displaystyle \\text{True}$"
      ],
      "text/plain": [
       "True"
      ]
     },
     "execution_count": 8,
     "metadata": {},
     "output_type": "execute_result"
    }
   ],
   "source": [
    "AC.contains(A) ## Contém A?"
   ]
  },
  {
   "cell_type": "code",
   "execution_count": 9,
   "metadata": {},
   "outputs": [
    {
     "data": {
      "text/latex": [
       "$\\displaystyle 2 \\sqrt{10}$"
      ],
      "text/plain": [
       "2⋅√10"
      ]
     },
     "execution_count": 9,
     "metadata": {},
     "output_type": "execute_result"
    }
   ],
   "source": [
    "AC.distance(B) ## Menor distância ao ponto B"
   ]
  },
  {
   "cell_type": "markdown",
   "metadata": {},
   "source": [
    "Nós podemos criar linhas também"
   ]
  },
  {
   "cell_type": "code",
   "execution_count": 10,
   "metadata": {},
   "outputs": [
    {
     "data": {
      "image/svg+xml": [
       "<svg xmlns=\"http://www.w3.org/2000/svg\"\n",
       "            xmlns:xlink=\"http://www.w3.org/1999/xlink\"\n",
       "            width=\"100.0\" height=\"100.0\" viewBox=\"0.400000000000000 -4.60000000000000 3.20000000000000 7.20000000000000\"\n",
       "            preserveAspectRatio=\"xMinYMin meet\">\n",
       "            <defs>\n",
       "                <marker id=\"markerCircle\" markerWidth=\"8\" markerHeight=\"8\"\n",
       "                    refx=\"5\" refy=\"5\" markerUnits=\"strokeWidth\">\n",
       "                    <circle cx=\"5\" cy=\"5\" r=\"1.5\" style=\"stroke: none; fill:#000000;\"/>\n",
       "                </marker>\n",
       "                <marker id=\"markerArrow\" markerWidth=\"13\" markerHeight=\"13\" refx=\"2\" refy=\"4\"\n",
       "                       orient=\"auto\" markerUnits=\"strokeWidth\">\n",
       "                    <path d=\"M2,2 L2,6 L6,4\" style=\"fill: #000000;\" />\n",
       "                </marker>\n",
       "                <marker id=\"markerReverseArrow\" markerWidth=\"13\" markerHeight=\"13\" refx=\"6\" refy=\"4\"\n",
       "                       orient=\"auto\" markerUnits=\"strokeWidth\">\n",
       "                    <path d=\"M6,2 L6,6 L2,4\" style=\"fill: #000000;\" />\n",
       "                </marker>\n",
       "            </defs><g transform=\"matrix(1,0,0,-1,0,-2.00000000000000)\"><path fill-rule=\"evenodd\" fill=\"#66cc99\" stroke=\"#555555\" stroke-width=\"0.144000000000000\" opacity=\"0.6\" d=\"M 1.00000000000000,2.00000000000000 L 3.00000000000000,-4.00000000000000\" marker-start=\"url(#markerReverseArrow)\" marker-end=\"url(#markerArrow)\"/></g></svg>"
      ],
      "text/latex": [
       "$\\displaystyle Line2D\\left(Point2D\\left(1, 2\\right), Point2D\\left(3, -4\\right)\\right)$"
      ],
      "text/plain": [
       "Line2D(Point2D(1, 2), Point2D(3, -4))"
      ]
     },
     "execution_count": 10,
     "metadata": {},
     "output_type": "execute_result"
    }
   ],
   "source": [
    "Line(A,B)"
   ]
  },
  {
   "cell_type": "code",
   "execution_count": 11,
   "metadata": {},
   "outputs": [
    {
     "data": {
      "text/latex": [
       "$\\displaystyle 6 x + 2 y - 10$"
      ],
      "text/plain": [
       "6⋅x + 2⋅y - 10"
      ]
     },
     "execution_count": 11,
     "metadata": {},
     "output_type": "execute_result"
    }
   ],
   "source": [
    "l1 = Line(A,B)\n",
    "l1.equation() ## Equação da reta = 0"
   ]
  },
  {
   "cell_type": "code",
   "execution_count": 12,
   "metadata": {},
   "outputs": [
    {
     "data": {
      "text/latex": [
       "$\\displaystyle \\left( 6, \\  2, \\  -10\\right)$"
      ],
      "text/plain": [
       "(6, 2, -10)"
      ]
     },
     "execution_count": 12,
     "metadata": {},
     "output_type": "execute_result"
    }
   ],
   "source": [
    "l1.coefficients ## Coeficientes da reta"
   ]
  },
  {
   "cell_type": "markdown",
   "metadata": {},
   "source": [
    "Podemos criar uma reta ao dar um ponto inicial e uma inclinação, lembrando que: $y - y_0 = m(x-x_0)$"
   ]
  },
  {
   "cell_type": "code",
   "execution_count": 13,
   "metadata": {},
   "outputs": [
    {
     "data": {
      "text/latex": [
       "$\\displaystyle - 3 x + y - 9$"
      ],
      "text/plain": [
       "-3⋅x + y - 9"
      ]
     },
     "execution_count": 13,
     "metadata": {},
     "output_type": "execute_result"
    }
   ],
   "source": [
    "l2 = Line(C, slope = 3)\n",
    "l2.equation()"
   ]
  },
  {
   "cell_type": "code",
   "execution_count": 14,
   "metadata": {},
   "outputs": [
    {
     "data": {
      "text/latex": [
       "$\\displaystyle - x - 3 y + 7$"
      ],
      "text/plain": [
       "-x - 3⋅y + 7"
      ]
     },
     "execution_count": 14,
     "metadata": {},
     "output_type": "execute_result"
    }
   ],
   "source": [
    "l3 = l2.perpendicular_line(A) ## Retorna uma reta perpendicular que passa pelo ponto dado\n",
    "l3.equation()"
   ]
  },
  {
   "cell_type": "code",
   "execution_count": 15,
   "metadata": {},
   "outputs": [
    {
     "data": {
      "text/latex": [
       "$\\displaystyle - \\frac{1}{3}$"
      ],
      "text/plain": [
       "-1/3"
      ]
     },
     "execution_count": 15,
     "metadata": {},
     "output_type": "execute_result"
    }
   ],
   "source": [
    "l3.slope # -m^-1"
   ]
  },
  {
   "cell_type": "markdown",
   "metadata": {},
   "source": [
    "E nós podemos ver a intersecção entre duas entidades geométricas."
   ]
  },
  {
   "cell_type": "code",
   "execution_count": 16,
   "metadata": {},
   "outputs": [
    {
     "data": {
      "text/latex": [
       "$\\displaystyle \\left[ Point2D\\left(-2, 3\\right)\\right]$"
      ],
      "text/plain": [
       "[Point2D(-2, 3)]"
      ]
     },
     "execution_count": 16,
     "metadata": {},
     "output_type": "execute_result"
    }
   ],
   "source": [
    "intersection(l2,l3)"
   ]
  },
  {
   "cell_type": "code",
   "execution_count": 17,
   "metadata": {},
   "outputs": [
    {
     "data": {
      "text/latex": [
       "$\\displaystyle \\left[ Point2D\\left(1, 2\\right)\\right]$"
      ],
      "text/plain": [
       "[Point2D(1, 2)]"
      ]
     },
     "execution_count": 17,
     "metadata": {},
     "output_type": "execute_result"
    }
   ],
   "source": [
    "intersection(l1, l3) # Ponto A"
   ]
  },
  {
   "cell_type": "markdown",
   "metadata": {},
   "source": [
    "Para plotar, de modo geral, fazemos o uso do que aprendemos no último capítulo, a função `plot_implicit`."
   ]
  },
  {
   "cell_type": "code",
   "execution_count": 18,
   "metadata": {},
   "outputs": [
    {
     "data": {
      "image/png": "[encoded data removed]",
      "text/plain": [
       "<Figure size 432x288 with 1 Axes>"
      ]
     },
     "metadata": {
      "needs_background": "light"
     },
     "output_type": "display_data"
    },
    {
     "data": {
      "text/plain": [
       "<sympy.plotting.plot.Plot at 0x7f9593fee1d0>"
      ]
     },
     "execution_count": 18,
     "metadata": {},
     "output_type": "execute_result"
    }
   ],
   "source": [
    "plot_implicit(l1.equation()) "
   ]
  },
  {
   "cell_type": "markdown",
   "metadata": {},
   "source": [
    "Podemos criar figuras geométricas e encontrar suas áreas e verficiar intersecções. Veja os exemplos:"
   ]
  },
  {
   "cell_type": "code",
   "execution_count": 19,
   "metadata": {},
   "outputs": [
    {
     "data": {
      "image/svg+xml": [
       "<svg xmlns=\"http://www.w3.org/2000/svg\"\n",
       "            xmlns:xlink=\"http://www.w3.org/1999/xlink\"\n",
       "            width=\"100.0\" height=\"100.0\" viewBox=\"-2.70000000000000 -4.70000000000000 6.40000000000000 8.40000000000000\"\n",
       "            preserveAspectRatio=\"xMinYMin meet\">\n",
       "            <defs>\n",
       "                <marker id=\"markerCircle\" markerWidth=\"8\" markerHeight=\"8\"\n",
       "                    refx=\"5\" refy=\"5\" markerUnits=\"strokeWidth\">\n",
       "                    <circle cx=\"5\" cy=\"5\" r=\"1.5\" style=\"stroke: none; fill:#000000;\"/>\n",
       "                </marker>\n",
       "                <marker id=\"markerArrow\" markerWidth=\"13\" markerHeight=\"13\" refx=\"2\" refy=\"4\"\n",
       "                       orient=\"auto\" markerUnits=\"strokeWidth\">\n",
       "                    <path d=\"M2,2 L2,6 L6,4\" style=\"fill: #000000;\" />\n",
       "                </marker>\n",
       "                <marker id=\"markerReverseArrow\" markerWidth=\"13\" markerHeight=\"13\" refx=\"6\" refy=\"4\"\n",
       "                       orient=\"auto\" markerUnits=\"strokeWidth\">\n",
       "                    <path d=\"M6,2 L6,6 L2,4\" style=\"fill: #000000;\" />\n",
       "                </marker>\n",
       "            </defs><g transform=\"matrix(1,0,0,-1,0,-1.00000000000000)\"><path fill-rule=\"evenodd\" fill=\"#66cc99\" stroke=\"#555555\" stroke-width=\"0.168000000000000\" opacity=\"0.6\" d=\"M 1.00000000000000,2.00000000000000 L 3.00000000000000,-4.00000000000000 L -2.00000000000000,3.00000000000000 z\" /></g></svg>"
      ],
      "text/latex": [
       "$\\displaystyle Triangle\\left(Point2D\\left(1, 2\\right), Point2D\\left(3, -4\\right), Point2D\\left(-2, 3\\right)\\right)$"
      ],
      "text/plain": [
       "Triangle(Point2D(1, 2), Point2D(3, -4), Point2D(-2, 3))"
      ]
     },
     "execution_count": 19,
     "metadata": {},
     "output_type": "execute_result"
    }
   ],
   "source": [
    "trig = Triangle(A,B,C) # Cria um Triângulo\n",
    "trig"
   ]
  },
  {
   "cell_type": "code",
   "execution_count": 20,
   "metadata": {},
   "outputs": [
    {
     "data": {
      "text/latex": [
       "$\\displaystyle -8$"
      ],
      "text/plain": [
       "-8"
      ]
     },
     "execution_count": 20,
     "metadata": {},
     "output_type": "execute_result"
    }
   ],
   "source": [
    "trig.area ## Não utiliza valores absolutos"
   ]
  },
  {
   "cell_type": "code",
   "execution_count": 21,
   "metadata": {},
   "outputs": [
    {
     "data": {
      "text/latex": [
       "$\\displaystyle 8$"
      ],
      "text/plain": [
       "8"
      ]
     },
     "execution_count": 21,
     "metadata": {},
     "output_type": "execute_result"
    }
   ],
   "source": [
    "abs(trig.area) ## Correto"
   ]
  },
  {
   "cell_type": "code",
   "execution_count": 22,
   "metadata": {},
   "outputs": [
    {
     "data": {
      "text/latex": [
       "$\\displaystyle \\sqrt{74} + 3 \\sqrt{10}$"
      ],
      "text/plain": [
       "√74 + 3⋅√10"
      ]
     },
     "execution_count": 22,
     "metadata": {},
     "output_type": "execute_result"
    }
   ],
   "source": [
    "trig.perimeter ## Perímetro"
   ]
  },
  {
   "cell_type": "code",
   "execution_count": 23,
   "metadata": {},
   "outputs": [
    {
     "data": {
      "text/latex": [
       "$\\displaystyle Point2D\\left(\\frac{25}{4}, \\frac{23}{4}\\right)$"
      ],
      "text/plain": [
       "Point2D(25/4, 23/4)"
      ]
     },
     "execution_count": 23,
     "metadata": {},
     "output_type": "execute_result"
    }
   ],
   "source": [
    "trig.orthocenter ## Centro Ortogonal"
   ]
  },
  {
   "cell_type": "code",
   "execution_count": 24,
   "metadata": {},
   "outputs": [
    {
     "data": {
      "text/latex": [
       "$\\displaystyle Point2D\\left(- \\frac{17}{8}, - \\frac{19}{8}\\right)$"
      ],
      "text/plain": [
       "Point2D(-17/8, -19/8)"
      ]
     },
     "execution_count": 24,
     "metadata": {},
     "output_type": "execute_result"
    }
   ],
   "source": [
    "trig.circumcenter ## Circuncentro"
   ]
  },
  {
   "cell_type": "code",
   "execution_count": 25,
   "metadata": {},
   "outputs": [
    {
     "data": {
      "text/latex": [
       "$\\displaystyle \\left\\{ Point2D\\left(-2, 3\\right) : Segment2D\\left(Point2D\\left(-2, 3\\right), Point2D\\left(\\frac{2}{5}, \\frac{19}{5}\\right)\\right), \\  Point2D\\left(1, 2\\right) : Segment2D\\left(Point2D\\left(1, 2\\right), Point2D\\left(- \\frac{19}{37}, \\frac{34}{37}\\right)\\right), \\  Point2D\\left(3, -4\\right) : Segment2D\\left(Point2D\\left(3, -4\\right), Point2D\\left(\\frac{23}{5}, \\frac{4}{5}\\right)\\right)\\right\\}$"
      ],
      "text/plain": [
       "{Point2D(-2, 3): Segment2D(Point2D(-2, 3), Point2D(2/5, 19/5)), Point2D(1, 2):\n",
       " Segment2D(Point2D(1, 2), Point2D(-19/37, 34/37)), Point2D(3, -4): Segment2D(P\n",
       "oint2D(3, -4), Point2D(23/5, 4/5))}"
      ]
     },
     "execution_count": 25,
     "metadata": {},
     "output_type": "execute_result"
    }
   ],
   "source": [
    "trig.altitudes ## Alturas"
   ]
  },
  {
   "cell_type": "code",
   "execution_count": 26,
   "metadata": {},
   "outputs": [
    {
     "data": {
      "image/svg+xml": [
       "<svg xmlns=\"http://www.w3.org/2000/svg\"\n",
       "            xmlns:xlink=\"http://www.w3.org/1999/xlink\"\n",
       "            width=\"100.0\" height=\"100.0\" viewBox=\"1.00834142513773 0.239325998212708 -1.41521234154002 2.12281851231003\"\n",
       "            preserveAspectRatio=\"xMinYMin meet\">\n",
       "            <defs>\n",
       "                <marker id=\"markerCircle\" markerWidth=\"8\" markerHeight=\"8\"\n",
       "                    refx=\"5\" refy=\"5\" markerUnits=\"strokeWidth\">\n",
       "                    <circle cx=\"5\" cy=\"5\" r=\"1.5\" style=\"stroke: none; fill:#000000;\"/>\n",
       "                </marker>\n",
       "                <marker id=\"markerArrow\" markerWidth=\"13\" markerHeight=\"13\" refx=\"2\" refy=\"4\"\n",
       "                       orient=\"auto\" markerUnits=\"strokeWidth\">\n",
       "                    <path d=\"M2,2 L2,6 L6,4\" style=\"fill: #000000;\" />\n",
       "                </marker>\n",
       "                <marker id=\"markerReverseArrow\" markerWidth=\"13\" markerHeight=\"13\" refx=\"6\" refy=\"4\"\n",
       "                       orient=\"auto\" markerUnits=\"strokeWidth\">\n",
       "                    <path d=\"M6,2 L6,6 L2,4\" style=\"fill: #000000;\" />\n",
       "                </marker>\n",
       "            </defs><g transform=\"matrix(1,0,0,-1,0,2.60147050873544)\"><ellipse fill=\"#66cc99\" stroke=\"#555555\" stroke-width=\"0.0424563702462005\" opacity=\"0.6\" cx=\"0.300735254367722\" cy=\"1.30073525436772\" rx=\"-0.884507713462511\" ry=\"0.884507713462511\"/></g></svg>"
      ],
      "text/latex": [
       "$\\displaystyle Circle\\left(Point2D\\left(\\frac{- \\sqrt{10} + \\sqrt{74}}{\\sqrt{74} + 3 \\sqrt{10}}, \\frac{2 \\left(\\sqrt{10} + \\sqrt{74}\\right)}{\\sqrt{74} + 3 \\sqrt{10}}\\right), - \\frac{16}{\\sqrt{74} + 3 \\sqrt{10}}\\right)$"
      ],
      "text/plain": [
       "Circle(Point2D((-sqrt(10) + sqrt(74))/(sqrt(74) + 3*sqrt(10)), 2*(sqrt(10) + sqrt(74))/(sqrt(74) + 3*sqrt(10))), -16/(sqrt(74) + 3*sqrt(10)))"
      ]
     },
     "execution_count": 26,
     "metadata": {},
     "output_type": "execute_result"
    }
   ],
   "source": [
    "trig.incircle ## Círculo interno"
   ]
  },
  {
   "cell_type": "code",
   "execution_count": 27,
   "metadata": {},
   "outputs": [
    {
     "data": {
      "text/latex": [
       "$\\displaystyle \\left(x - \\frac{- \\sqrt{10} + \\sqrt{74}}{\\sqrt{74} + 3 \\sqrt{10}}\\right)^{2} + \\left(y - \\frac{2 \\left(\\sqrt{10} + \\sqrt{74}\\right)}{\\sqrt{74} + 3 \\sqrt{10}}\\right)^{2} - \\frac{256}{\\left(\\sqrt{74} + 3 \\sqrt{10}\\right)^{2}}$"
      ],
      "text/plain": [
       "                 2                      2                 \n",
       "⎛     -√10 + √74⎞    ⎛    2⋅(√10 + √74)⎞         256      \n",
       "⎜x - ───────────⎟  + ⎜y - ─────────────⎟  - ──────────────\n",
       "⎝    √74 + 3⋅√10⎠    ⎝     √74 + 3⋅√10 ⎠                 2\n",
       "                                            (√74 + 3⋅√10) "
      ]
     },
     "execution_count": 27,
     "metadata": {},
     "output_type": "execute_result"
    }
   ],
   "source": [
    "trig.incircle.equation()"
   ]
  },
  {
   "cell_type": "code",
   "execution_count": 28,
   "metadata": {},
   "outputs": [
    {
     "data": {
      "text/latex": [
       "$\\displaystyle \\left\\{ Point2D\\left(-2, 3\\right) : Segment2D\\left(Point2D\\left(-2, 3\\right), Point2D\\left(\\frac{11}{16} + \\frac{\\sqrt{185}}{16}, \\frac{47}{16} - \\frac{3 \\sqrt{185}}{16}\\right)\\right), \\  Point2D\\left(1, 2\\right) : Segment2D\\left(Point2D\\left(1, 2\\right), Point2D\\left(- \\frac{1}{3}, \\frac{2}{3}\\right)\\right), \\  Point2D\\left(3, -4\\right) : Segment2D\\left(Point2D\\left(3, -4\\right), Point2D\\left(\\frac{77}{17} - \\frac{6 \\sqrt{185}}{17}, \\frac{14}{17} + \\frac{2 \\sqrt{185}}{17}\\right)\\right)\\right\\}$"
      ],
      "text/plain": [
       "{Point2D(-2, 3): Segment2D(Point2D(-2, 3), Point2D(11/16 + sqrt(185)/16, 47/16\n",
       " - 3*sqrt(185)/16)), Point2D(1, 2): Segment2D(Point2D(1, 2), Point2D(-1/3, 2/3\n",
       ")), Point2D(3, -4): Segment2D(Point2D(3, -4), Point2D(77/17 - 6*sqrt(185)/17, \n",
       "14/17 + 2*sqrt(185)/17))}"
      ]
     },
     "execution_count": 28,
     "metadata": {},
     "output_type": "execute_result"
    }
   ],
   "source": [
    "trig.bisectors() ## Bissetrizes"
   ]
  },
  {
   "cell_type": "code",
   "execution_count": 29,
   "metadata": {},
   "outputs": [
    {
     "data": {
      "image/svg+xml": [
       "<svg xmlns=\"http://www.w3.org/2000/svg\"\n",
       "            xmlns:xlink=\"http://www.w3.org/1999/xlink\"\n",
       "            width=\"100.0\" height=\"100.0\" viewBox=\"-0.466666666666667 0.533333333333333 1.60000000000000 1.60000000000000\"\n",
       "            preserveAspectRatio=\"xMinYMin meet\">\n",
       "            <defs>\n",
       "                <marker id=\"markerCircle\" markerWidth=\"8\" markerHeight=\"8\"\n",
       "                    refx=\"5\" refy=\"5\" markerUnits=\"strokeWidth\">\n",
       "                    <circle cx=\"5\" cy=\"5\" r=\"1.5\" style=\"stroke: none; fill:#000000;\"/>\n",
       "                </marker>\n",
       "                <marker id=\"markerArrow\" markerWidth=\"13\" markerHeight=\"13\" refx=\"2\" refy=\"4\"\n",
       "                       orient=\"auto\" markerUnits=\"strokeWidth\">\n",
       "                    <path d=\"M2,2 L2,6 L6,4\" style=\"fill: #000000;\" />\n",
       "                </marker>\n",
       "                <marker id=\"markerReverseArrow\" markerWidth=\"13\" markerHeight=\"13\" refx=\"6\" refy=\"4\"\n",
       "                       orient=\"auto\" markerUnits=\"strokeWidth\">\n",
       "                    <path d=\"M6,2 L6,6 L2,4\" style=\"fill: #000000;\" />\n",
       "                </marker>\n",
       "            </defs><g transform=\"matrix(1,0,0,-1,0,2.66666666666667)\"><path fill-rule=\"evenodd\" fill=\"#66cc99\" stroke=\"#555555\" stroke-width=\"0.0320000000000000\" opacity=\"0.6\" d=\"M 1.00000000000000,2.00000000000000 L -0.333333333333333,0.666666666666667\" /></g></svg>"
      ],
      "text/latex": [
       "$\\displaystyle Segment2D\\left(Point2D\\left(1, 2\\right), Point2D\\left(- \\frac{1}{3}, \\frac{2}{3}\\right)\\right)$"
      ],
      "text/plain": [
       "Segment2D(Point2D(1, 2), Point2D(-1/3, 2/3))"
      ]
     },
     "execution_count": 29,
     "metadata": {},
     "output_type": "execute_result"
    }
   ],
   "source": [
    "trig.bisectors()[A] ## Bissetriz que passa no ponto A"
   ]
  },
  {
   "cell_type": "code",
   "execution_count": 30,
   "metadata": {},
   "outputs": [
    {
     "data": {
      "text/plain": [
       "False"
      ]
     },
     "execution_count": 30,
     "metadata": {},
     "output_type": "execute_result"
    }
   ],
   "source": [
    "trig.is_right() ## É triângulo retângulo?"
   ]
  },
  {
   "cell_type": "code",
   "execution_count": 31,
   "metadata": {},
   "outputs": [
    {
     "data": {
      "text/plain": [
       "True"
      ]
     },
     "execution_count": 31,
     "metadata": {},
     "output_type": "execute_result"
    }
   ],
   "source": [
    "trig.is_scalene() ## É triângulo escaleno?"
   ]
  },
  {
   "cell_type": "code",
   "execution_count": 32,
   "metadata": {},
   "outputs": [
    {
     "data": {
      "image/svg+xml": [
       "<svg xmlns=\"http://www.w3.org/2000/svg\"\n",
       "            xmlns:xlink=\"http://www.w3.org/1999/xlink\"\n",
       "            width=\"100.0\" height=\"100.0\" viewBox=\"-2.60000000000000 -1.60000000000000 7.20000000000000 7.20000000000000\"\n",
       "            preserveAspectRatio=\"xMinYMin meet\">\n",
       "            <defs>\n",
       "                <marker id=\"markerCircle\" markerWidth=\"8\" markerHeight=\"8\"\n",
       "                    refx=\"5\" refy=\"5\" markerUnits=\"strokeWidth\">\n",
       "                    <circle cx=\"5\" cy=\"5\" r=\"1.5\" style=\"stroke: none; fill:#000000;\"/>\n",
       "                </marker>\n",
       "                <marker id=\"markerArrow\" markerWidth=\"13\" markerHeight=\"13\" refx=\"2\" refy=\"4\"\n",
       "                       orient=\"auto\" markerUnits=\"strokeWidth\">\n",
       "                    <path d=\"M2,2 L2,6 L6,4\" style=\"fill: #000000;\" />\n",
       "                </marker>\n",
       "                <marker id=\"markerReverseArrow\" markerWidth=\"13\" markerHeight=\"13\" refx=\"6\" refy=\"4\"\n",
       "                       orient=\"auto\" markerUnits=\"strokeWidth\">\n",
       "                    <path d=\"M6,2 L6,6 L2,4\" style=\"fill: #000000;\" />\n",
       "                </marker>\n",
       "            </defs><g transform=\"matrix(1,0,0,-1,0,4.00000000000000)\"><ellipse fill=\"#66cc99\" stroke=\"#555555\" stroke-width=\"0.144000000000000\" opacity=\"0.6\" cx=\"1.00000000000000\" cy=\"2.00000000000000\" rx=\"3.00000000000000\" ry=\"3.00000000000000\"/></g></svg>"
      ],
      "text/latex": [
       "$\\displaystyle Circle\\left(Point2D\\left(1, 2\\right), 3\\right)$"
      ],
      "text/plain": [
       "Circle(Point2D(1, 2), 3)"
      ]
     },
     "execution_count": 32,
     "metadata": {},
     "output_type": "execute_result"
    }
   ],
   "source": [
    "circ = Circle(A, 3) ## Centro e Raio\n",
    "circ"
   ]
  },
  {
   "cell_type": "code",
   "execution_count": 33,
   "metadata": {},
   "outputs": [
    {
     "data": {
      "text/latex": [
       "$\\displaystyle \\left(x - 1\\right)^{2} + \\left(y - 2\\right)^{2} - 9$"
      ],
      "text/plain": [
       "       2          2    \n",
       "(x - 1)  + (y - 2)  - 9"
      ]
     },
     "execution_count": 33,
     "metadata": {},
     "output_type": "execute_result"
    }
   ],
   "source": [
    "circ.equation()"
   ]
  },
  {
   "cell_type": "code",
   "execution_count": 34,
   "metadata": {},
   "outputs": [
    {
     "data": {
      "text/latex": [
       "$\\displaystyle 6 \\pi$"
      ],
      "text/plain": [
       "6⋅π"
      ]
     },
     "execution_count": 34,
     "metadata": {},
     "output_type": "execute_result"
    }
   ],
   "source": [
    "circ.circumference"
   ]
  },
  {
   "cell_type": "code",
   "execution_count": 35,
   "metadata": {},
   "outputs": [
    {
     "data": {
      "text/latex": [
       "$\\displaystyle 9 \\pi$"
      ],
      "text/plain": [
       "9⋅π"
      ]
     },
     "execution_count": 35,
     "metadata": {},
     "output_type": "execute_result"
    }
   ],
   "source": [
    "circ.area"
   ]
  },
  {
   "cell_type": "code",
   "execution_count": 36,
   "metadata": {},
   "outputs": [
    {
     "data": {
      "text/latex": [
       "$\\displaystyle \\left[ Point2D\\left(- \\frac{19}{37} + \\frac{5 \\sqrt{410}}{74}, \\frac{34}{37} - \\frac{7 \\sqrt{410}}{74}\\right), \\  Point2D\\left(1 - \\frac{9 \\sqrt{10}}{10}, \\frac{3 \\sqrt{10}}{10} + 2\\right), \\  Point2D\\left(\\frac{3 \\sqrt{10}}{10} + 1, 2 - \\frac{9 \\sqrt{10}}{10}\\right), \\  Point2D\\left(- \\frac{5 \\sqrt{410}}{74} - \\frac{19}{37}, \\frac{34}{37} + \\frac{7 \\sqrt{410}}{74}\\right)\\right]$"
      ],
      "text/plain": [
       "[Point2D(-19/37 + 5*sqrt(410)/74, 34/37 - 7*sqrt(410)/74), Point2D(1 - 9*sqrt(\n",
       "10)/10, 3*sqrt(10)/10 + 2), Point2D(3*sqrt(10)/10 + 1, 2 - 9*sqrt(10)/10), Poi\n",
       "nt2D(-5*sqrt(410)/74 - 19/37, 34/37 + 7*sqrt(410)/74)]"
      ]
     },
     "execution_count": 36,
     "metadata": {},
     "output_type": "execute_result"
    }
   ],
   "source": [
    "intersection(trig,circ)"
   ]
  },
  {
   "cell_type": "code",
   "execution_count": 37,
   "metadata": {},
   "outputs": [
    {
     "data": {
      "image/svg+xml": [
       "<svg xmlns=\"http://www.w3.org/2000/svg\"\n",
       "            xmlns:xlink=\"http://www.w3.org/1999/xlink\"\n",
       "            width=\"100.0\" height=\"100.0\" viewBox=\"-0.600000000000000 -6.60000000000000 7.20000000000000 5.20000000000000\"\n",
       "            preserveAspectRatio=\"xMinYMin meet\">\n",
       "            <defs>\n",
       "                <marker id=\"markerCircle\" markerWidth=\"8\" markerHeight=\"8\"\n",
       "                    refx=\"5\" refy=\"5\" markerUnits=\"strokeWidth\">\n",
       "                    <circle cx=\"5\" cy=\"5\" r=\"1.5\" style=\"stroke: none; fill:#000000;\"/>\n",
       "                </marker>\n",
       "                <marker id=\"markerArrow\" markerWidth=\"13\" markerHeight=\"13\" refx=\"2\" refy=\"4\"\n",
       "                       orient=\"auto\" markerUnits=\"strokeWidth\">\n",
       "                    <path d=\"M2,2 L2,6 L6,4\" style=\"fill: #000000;\" />\n",
       "                </marker>\n",
       "                <marker id=\"markerReverseArrow\" markerWidth=\"13\" markerHeight=\"13\" refx=\"6\" refy=\"4\"\n",
       "                       orient=\"auto\" markerUnits=\"strokeWidth\">\n",
       "                    <path d=\"M6,2 L6,6 L2,4\" style=\"fill: #000000;\" />\n",
       "                </marker>\n",
       "            </defs><g transform=\"matrix(1,0,0,-1,0,-8.00000000000000)\"><ellipse fill=\"#66cc99\" stroke=\"#555555\" stroke-width=\"0.144000000000000\" opacity=\"0.6\" cx=\"3.00000000000000\" cy=\"-4.00000000000000\" rx=\"3.00000000000000\" ry=\"2.00000000000000\"/></g></svg>"
      ],
      "text/latex": [
       "$\\displaystyle Ellipse\\left(Point2D\\left(3, -4\\right), 3, 2\\right)$"
      ],
      "text/plain": [
       "Ellipse(Point2D(3, -4), 3, 2)"
      ]
     },
     "execution_count": 37,
     "metadata": {},
     "output_type": "execute_result"
    }
   ],
   "source": [
    "elips = Ellipse(B, 3, 2) ## Centro, Raio Horizontal, Raio Vertical\n",
    "elips"
   ]
  },
  {
   "cell_type": "code",
   "execution_count": 38,
   "metadata": {},
   "outputs": [
    {
     "data": {
      "text/latex": [
       "$\\displaystyle \\left(\\frac{x}{3} - 1\\right)^{2} + \\left(\\frac{y}{2} + 2\\right)^{2} - 1$"
      ],
      "text/plain": [
       "       2          2    \n",
       "⎛x    ⎞    ⎛y    ⎞     \n",
       "⎜─ - 1⎟  + ⎜─ + 2⎟  - 1\n",
       "⎝3    ⎠    ⎝2    ⎠     "
      ]
     },
     "execution_count": 38,
     "metadata": {},
     "output_type": "execute_result"
    }
   ],
   "source": [
    "elips.equation()"
   ]
  },
  {
   "cell_type": "code",
   "execution_count": 39,
   "metadata": {},
   "outputs": [
    {
     "data": {
      "text/latex": [
       "$\\displaystyle 12 E\\left(\\frac{5}{9}\\right)$"
      ],
      "text/plain": [
       "12⋅E(5/9)"
      ]
     },
     "execution_count": 39,
     "metadata": {},
     "output_type": "execute_result"
    }
   ],
   "source": [
    "elips.circumference ## Não há formulas"
   ]
  },
  {
   "cell_type": "code",
   "execution_count": 40,
   "metadata": {},
   "outputs": [
    {
     "data": {
      "text/latex": [
       "$\\displaystyle 15.8654395892906$"
      ],
      "text/plain": [
       "15.8654395892906"
      ]
     },
     "execution_count": 40,
     "metadata": {},
     "output_type": "execute_result"
    }
   ],
   "source": [
    "elips.circumference.evalf() ## Valor numérico"
   ]
  },
  {
   "cell_type": "code",
   "execution_count": 41,
   "metadata": {},
   "outputs": [
    {
     "data": {
      "text/latex": [
       "$\\displaystyle 6 \\pi$"
      ],
      "text/plain": [
       "6⋅π"
      ]
     },
     "execution_count": 41,
     "metadata": {},
     "output_type": "execute_result"
    }
   ],
   "source": [
    "elips.area"
   ]
  },
  {
   "cell_type": "code",
   "execution_count": 42,
   "metadata": {},
   "outputs": [
    {
     "data": {
      "text/latex": [
       "$\\displaystyle \\frac{\\sqrt{5}}{3}$"
      ],
      "text/plain": [
       "√5\n",
       "──\n",
       "3 "
      ]
     },
     "execution_count": 42,
     "metadata": {},
     "output_type": "execute_result"
    }
   ],
   "source": [
    "elips.eccentricity"
   ]
  },
  {
   "cell_type": "code",
   "execution_count": 43,
   "metadata": {},
   "outputs": [
    {
     "data": {
      "text/latex": [
       "$\\displaystyle \\left( Point2D\\left(3 - \\sqrt{5}, -4\\right), \\  Point2D\\left(\\sqrt{5} + 3, -4\\right)\\right)$"
      ],
      "text/plain": [
       "(Point2D(3 - sqrt(5), -4), Point2D(sqrt(5) + 3, -4))"
      ]
     },
     "execution_count": 43,
     "metadata": {},
     "output_type": "execute_result"
    }
   ],
   "source": [
    "elips.foci ## Focos"
   ]
  },
  {
   "cell_type": "code",
   "execution_count": 44,
   "metadata": {},
   "outputs": [
    {
     "data": {
      "text/latex": [
       "$\\displaystyle \\sqrt{5}$"
      ],
      "text/plain": [
       "√5"
      ]
     },
     "execution_count": 44,
     "metadata": {},
     "output_type": "execute_result"
    }
   ],
   "source": [
    "elips.focus_distance ## Distância Focal"
   ]
  },
  {
   "cell_type": "code",
   "execution_count": 45,
   "metadata": {},
   "outputs": [
    {
     "data": {
      "image/svg+xml": [
       "<svg xmlns=\"http://www.w3.org/2000/svg\"\n",
       "            xmlns:xlink=\"http://www.w3.org/1999/xlink\"\n",
       "            width=\"100.0\" height=\"100.0\" viewBox=\"-3.40000000000000 -5.40000000000000 7.80000000000000 16.8000000000000\"\n",
       "            preserveAspectRatio=\"xMinYMin meet\">\n",
       "            <defs>\n",
       "                <marker id=\"markerCircle\" markerWidth=\"8\" markerHeight=\"8\"\n",
       "                    refx=\"5\" refy=\"5\" markerUnits=\"strokeWidth\">\n",
       "                    <circle cx=\"5\" cy=\"5\" r=\"1.5\" style=\"stroke: none; fill:#000000;\"/>\n",
       "                </marker>\n",
       "                <marker id=\"markerArrow\" markerWidth=\"13\" markerHeight=\"13\" refx=\"2\" refy=\"4\"\n",
       "                       orient=\"auto\" markerUnits=\"strokeWidth\">\n",
       "                    <path d=\"M2,2 L2,6 L6,4\" style=\"fill: #000000;\" />\n",
       "                </marker>\n",
       "                <marker id=\"markerReverseArrow\" markerWidth=\"13\" markerHeight=\"13\" refx=\"6\" refy=\"4\"\n",
       "                       orient=\"auto\" markerUnits=\"strokeWidth\">\n",
       "                    <path d=\"M6,2 L6,6 L2,4\" style=\"fill: #000000;\" />\n",
       "                </marker>\n",
       "            </defs><g transform=\"matrix(1,0,0,-1,0,6.00000000000000)\"><path fill-rule=\"evenodd\" fill=\"#66cc99\" stroke=\"#555555\" stroke-width=\"0.336000000000000\" opacity=\"0.6\" d=\"M 1.00000000000000,2.00000000000000 L 3.00000000000000,-4.00000000000000 L -2.00000000000000,3.00000000000000 L 0,10.0000000000000 z\" /></g></svg>"
      ],
      "text/latex": [
       "$\\displaystyle Polygon\\left(Point2D\\left(1, 2\\right), Point2D\\left(3, -4\\right), Point2D\\left(-2, 3\\right), Point2D\\left(0, 10\\right)\\right)$"
      ],
      "text/plain": [
       "Polygon(Point2D(1, 2), Point2D(3, -4), Point2D(-2, 3), Point2D(0, 10))"
      ]
     },
     "execution_count": 45,
     "metadata": {},
     "output_type": "execute_result"
    }
   ],
   "source": [
    "D = Point(0,10)\n",
    "quad = Polygon(A,B,C,D) ## Criando Polígono de N vértices\n",
    "quad"
   ]
  },
  {
   "cell_type": "code",
   "execution_count": 46,
   "metadata": {},
   "outputs": [
    {
     "data": {
      "text/latex": [
       "$\\displaystyle \\frac{39}{2}$"
      ],
      "text/plain": [
       "39/2"
      ]
     },
     "execution_count": 46,
     "metadata": {},
     "output_type": "execute_result"
    }
   ],
   "source": [
    "abs(quad.area)"
   ]
  },
  {
   "cell_type": "code",
   "execution_count": 47,
   "metadata": {},
   "outputs": [
    {
     "data": {
      "text/latex": [
       "$\\displaystyle \\left\\{ Point2D\\left(-2, 3\\right) : - \\operatorname{acos}{\\left(- \\frac{39 \\sqrt{3922}}{3922} \\right)} + 2 \\pi, \\  Point2D\\left(0, 10\\right) : - \\operatorname{acos}{\\left(\\frac{54 \\sqrt{3445}}{3445} \\right)} + 2 \\pi, \\  Point2D\\left(1, 2\\right) : \\operatorname{acos}{\\left(- \\frac{5 \\sqrt{26}}{26} \\right)}, \\  Point2D\\left(3, -4\\right) : - \\operatorname{acos}{\\left(\\frac{13 \\sqrt{185}}{185} \\right)} + 2 \\pi\\right\\}$"
      ],
      "text/plain": [
       "⎧                      ⎛-39⋅√3922 ⎞                              ⎛54⋅√3445⎞   \n",
       "⎨Point2D(-2, 3): - acos⎜──────────⎟ + 2⋅π, Point2D(0, 10): - acos⎜────────⎟ + \n",
       "⎩                      ⎝   3922   ⎠                              ⎝  3445  ⎠   \n",
       "\n",
       "                        ⎛-5⋅√26 ⎞                        ⎛13⋅√185⎞      ⎫\n",
       "2⋅π, Point2D(1, 2): acos⎜───────⎟, Point2D(3, -4): - acos⎜───────⎟ + 2⋅π⎬\n",
       "                        ⎝   26  ⎠                        ⎝  185  ⎠      ⎭"
      ]
     },
     "execution_count": 47,
     "metadata": {},
     "output_type": "execute_result"
    }
   ],
   "source": [
    "quad.angles"
   ]
  },
  {
   "cell_type": "code",
   "execution_count": 48,
   "metadata": {},
   "outputs": [
    {
     "data": {
      "text/latex": [
       "$\\displaystyle \\operatorname{acos}{\\left(- \\frac{5 \\sqrt{26}}{26} \\right)}$"
      ],
      "text/plain": [
       "    ⎛-5⋅√26 ⎞\n",
       "acos⎜───────⎟\n",
       "    ⎝   26  ⎠"
      ]
     },
     "execution_count": 48,
     "metadata": {},
     "output_type": "execute_result"
    }
   ],
   "source": [
    "quad.angles[A] ## No ponto A"
   ]
  },
  {
   "cell_type": "code",
   "execution_count": 49,
   "metadata": {},
   "outputs": [
    {
     "data": {
      "text/latex": [
       "$\\displaystyle 168.69006752598$"
      ],
      "text/plain": [
       "168.690067525980"
      ]
     },
     "execution_count": 49,
     "metadata": {},
     "output_type": "execute_result"
    }
   ],
   "source": [
    "from sympy.physics.units import degree ## Importação das unidades\n",
    "(quad.angles[A]/degree.scale_factor).evalf() ## Transforma em Graus"
   ]
  },
  {
   "cell_type": "code",
   "execution_count": 50,
   "metadata": {},
   "outputs": [
    {
     "data": {
      "image/svg+xml": [
       "<svg xmlns=\"http://www.w3.org/2000/svg\"\n",
       "            xmlns:xlink=\"http://www.w3.org/1999/xlink\"\n",
       "            width=\"100.0\" height=\"100.0\" viewBox=\"-0.200000000000000 0.800000000000000 2.40000000000000 2.40000000000000\"\n",
       "            preserveAspectRatio=\"xMinYMin meet\">\n",
       "            <defs>\n",
       "                <marker id=\"markerCircle\" markerWidth=\"8\" markerHeight=\"8\"\n",
       "                    refx=\"5\" refy=\"5\" markerUnits=\"strokeWidth\">\n",
       "                    <circle cx=\"5\" cy=\"5\" r=\"1.5\" style=\"stroke: none; fill:#000000;\"/>\n",
       "                </marker>\n",
       "                <marker id=\"markerArrow\" markerWidth=\"13\" markerHeight=\"13\" refx=\"2\" refy=\"4\"\n",
       "                       orient=\"auto\" markerUnits=\"strokeWidth\">\n",
       "                    <path d=\"M2,2 L2,6 L6,4\" style=\"fill: #000000;\" />\n",
       "                </marker>\n",
       "                <marker id=\"markerReverseArrow\" markerWidth=\"13\" markerHeight=\"13\" refx=\"6\" refy=\"4\"\n",
       "                       orient=\"auto\" markerUnits=\"strokeWidth\">\n",
       "                    <path d=\"M6,2 L6,6 L2,4\" style=\"fill: #000000;\" />\n",
       "                </marker>\n",
       "            </defs><g transform=\"matrix(1,0,0,-1,0,4.00000000000000)\"><path fill-rule=\"evenodd\" fill=\"#66cc99\" stroke=\"#555555\" stroke-width=\"0.0480000000000000\" opacity=\"0.6\" d=\"M 2.00000000000000,2.00000000000000 L 1.00000000000000,3.00000000000000 L 0,2.00000000000000 L 1.00000000000000,1.00000000000000 z\" /></g></svg>"
      ],
      "text/latex": [
       "$\\displaystyle RegularPolygon\\left(Point2D\\left(1, 2\\right), 1, 4, 0\\right)$"
      ],
      "text/plain": [
       "RegularPolygon(Point2D(1, 2), 1, 4, 0)"
      ]
     },
     "execution_count": 50,
     "metadata": {},
     "output_type": "execute_result"
    }
   ],
   "source": [
    "reg = RegularPolygon(A,1,4) # Centro, Raio, Qtd. Lados\n",
    "reg"
   ]
  },
  {
   "cell_type": "code",
   "execution_count": 51,
   "metadata": {},
   "outputs": [
    {
     "data": {
      "text/latex": [
       "$\\displaystyle \\left\\{ Point2D\\left(0, 2\\right) : \\frac{\\pi}{2}, \\  Point2D\\left(1, 1\\right) : \\frac{\\pi}{2}, \\  Point2D\\left(1, 3\\right) : \\frac{\\pi}{2}, \\  Point2D\\left(2, 2\\right) : \\frac{\\pi}{2}\\right\\}$"
      ],
      "text/plain": [
       "⎧               π                 π                 π                 π⎫\n",
       "⎨Point2D(0, 2): ─, Point2D(1, 1): ─, Point2D(1, 3): ─, Point2D(2, 2): ─⎬\n",
       "⎩               2                 2                 2                 2⎭"
      ]
     },
     "execution_count": 51,
     "metadata": {},
     "output_type": "execute_result"
    }
   ],
   "source": [
    "reg.angles # Retângulo"
   ]
  },
  {
   "cell_type": "code",
   "execution_count": 52,
   "metadata": {},
   "outputs": [
    {
     "data": {
      "text/latex": [
       "$\\displaystyle \\left[ Point2D\\left(2, 2\\right), \\  Point2D\\left(1, 3\\right), \\  Point2D\\left(0, 2\\right), \\  Point2D\\left(1, 1\\right)\\right]$"
      ],
      "text/plain": [
       "[Point2D(2, 2), Point2D(1, 3), Point2D(0, 2), Point2D(1, 1)]"
      ]
     },
     "execution_count": 52,
     "metadata": {},
     "output_type": "execute_result"
    }
   ],
   "source": [
    "reg.vertices # Vértices"
   ]
  },
  {
   "cell_type": "markdown",
   "metadata": {},
   "source": [
    "Para finalizar com a Geometria, é importante relembrar que é possível fazer tudo isso com valores simbólicos. Por exemplo, um quadrado em função de um lado $x$:"
   ]
  },
  {
   "cell_type": "code",
   "execution_count": 53,
   "metadata": {},
   "outputs": [
    {
     "data": {
      "text/latex": [
       "$\\displaystyle Polygon\\left(Point2D\\left(\\frac{x}{2}, \\frac{x}{2}\\right), Point2D\\left(- \\frac{x}{2}, \\frac{x}{2}\\right), Point2D\\left(- \\frac{x}{2}, - \\frac{x}{2}\\right), Point2D\\left(\\frac{x}{2}, - \\frac{x}{2}\\right)\\right)$"
      ],
      "text/plain": [
       "Polygon(Point2D(x/2, x/2), Point2D(-x/2, x/2), Point2D(-x/2, -x/2), Point2D(x/2, -x/2))"
      ]
     },
     "execution_count": 53,
     "metadata": {},
     "output_type": "execute_result"
    }
   ],
   "source": [
    "sim_quad = Polygon(Point(x/2, x/2), Point(-x/2, x/2),Point(-x/2, -x/2),Point(x/2, -x/2))\n",
    "sim_quad"
   ]
  },
  {
   "cell_type": "code",
   "execution_count": 54,
   "metadata": {},
   "outputs": [
    {
     "data": {
      "text/latex": [
       "$\\displaystyle x^{2}$"
      ],
      "text/plain": [
       " 2\n",
       "x "
      ]
     },
     "execution_count": 54,
     "metadata": {},
     "output_type": "execute_result"
    }
   ],
   "source": [
    "sim_quad.area"
   ]
  },
  {
   "cell_type": "markdown",
   "metadata": {},
   "source": [
    "### 3D\n",
    "\n",
    "Para a terceira dimensão, podemos utilizar os Pontos com três coordenadas para gerar nossas formas."
   ]
  },
  {
   "cell_type": "code",
   "execution_count": 55,
   "metadata": {},
   "outputs": [
    {
     "data": {
      "text/latex": [
       "$\\displaystyle Line3D\\left(Point3D\\left(1, 2, 3\\right), Point3D\\left(-2, 3, 4\\right)\\right)$"
      ],
      "text/plain": [
       "Line3D(Point3D(1, 2, 3), Point3D(-2, 3, 4))"
      ]
     },
     "execution_count": 55,
     "metadata": {},
     "output_type": "execute_result"
    }
   ],
   "source": [
    "M = Point(1, 2, 3)\n",
    "N = Point(-2, 3, 4)\n",
    "P = Point(5, -8, 10)\n",
    "Line(M,N)"
   ]
  },
  {
   "cell_type": "code",
   "execution_count": 56,
   "metadata": {},
   "outputs": [
    {
     "data": {
      "text/latex": [
       "$\\displaystyle \\left( x + 3 y - 7, \\  x + 3 z - 10\\right)$"
      ],
      "text/plain": [
       "(x + 3⋅y - 7, x + 3⋅z - 10)"
      ]
     },
     "execution_count": 56,
     "metadata": {},
     "output_type": "execute_result"
    }
   ],
   "source": [
    "Line(M,N).equation()"
   ]
  },
  {
   "cell_type": "code",
   "execution_count": 57,
   "metadata": {},
   "outputs": [
    {
     "data": {
      "text/latex": [
       "$\\displaystyle Plane\\left(Point3D\\left(1, 2, 3\\right), \\left( 17, \\  25, \\  26\\right)\\right)$"
      ],
      "text/plain": [
       "Plane(Point3D(1, 2, 3), (17, 25, 26))"
      ]
     },
     "execution_count": 57,
     "metadata": {},
     "output_type": "execute_result"
    }
   ],
   "source": [
    "Plane(M,N,P) # Plano"
   ]
  },
  {
   "cell_type": "code",
   "execution_count": 58,
   "metadata": {},
   "outputs": [
    {
     "data": {
      "text/latex": [
       "$\\displaystyle 17 x + 25 y + 26 z - 145$"
      ],
      "text/plain": [
       "17⋅x + 25⋅y + 26⋅z - 145"
      ]
     },
     "execution_count": 58,
     "metadata": {},
     "output_type": "execute_result"
    }
   ],
   "source": [
    "Plane(M,N,P).equation()"
   ]
  },
  {
   "cell_type": "markdown",
   "metadata": {},
   "source": [
    "## Reações em Vigas (Mecânica)\n",
    "\n",
    "Nós podemos analisar as tensões em vigas utilizando o `sympy.physics.continuum_mechanics`. Caso você procure aplicar carregamento em uma viga e então avaliar as reações e seus gráficos, certamente isso vai te auxiliar.\n",
    "\n",
    "Veja um exemplo (no caso, para fazer sentido, leva os mesmos valores de um exemplo da documentação):"
   ]
  },
  {
   "cell_type": "code",
   "execution_count": 84,
   "metadata": {},
   "outputs": [
    {
     "data": {
      "text/latex": [
       "$\\displaystyle R_{1} {\\left\\langle x \\right\\rangle}^{-1} + R_{1} {\\left\\langle x - 10 \\right\\rangle}^{-1} + R_{2} {\\left\\langle x - 30 \\right\\rangle}^{-1} + 90 {\\left\\langle x - 5 \\right\\rangle}^{0} - 90 {\\left\\langle x - 23 \\right\\rangle}^{0} + 10 {\\left\\langle x - 30 \\right\\rangle}^{1} - 200 {\\left\\langle x - 50 \\right\\rangle}^{0} - 10 {\\left\\langle x - 50 \\right\\rangle}^{1}$"
      ],
      "text/plain": [
       "      -1              -1              -1             0              0         \n",
       "R₁⋅<x>   + R₁⋅<x - 10>   + R₂⋅<x - 30>   + 90⋅<x - 5>  - 90⋅<x - 23>  + 10⋅<x \n",
       "\n",
       "     1               0              1\n",
       "- 30>  - 200⋅<x - 50>  - 10⋅<x - 50> "
      ]
     },
     "execution_count": 84,
     "metadata": {},
     "output_type": "execute_result"
    }
   ],
   "source": [
    "from sympy.physics.continuum_mechanics.beam import Beam\n",
    "E, I = symbols('E I') ## Símbolos para o Módulo de Elasticidade e o Momento de Inércia\n",
    "R1, R2 = symbols('R1 R2') ## Símbolos para as forças\n",
    "b = Beam(50, 20, 30) ## Criando a viga (comprimento, E, I)\n",
    "b.apply_load(R1, 0, -1) ## Aplicando carregamentos (intensidade, início, ordem)\n",
    "###\n",
    "### Momentos, order = -2\n",
    "### Forças Pontuais, order =-1\n",
    "### Forças distribuídas linearmente, order = 0\n",
    "### Veja os outros na documentação\n",
    "###\n",
    "b.apply_load(R1, 10, -1)\n",
    "b.apply_load(R2, 30, -1)\n",
    "b.apply_load(90, 5, 0, 23)\n",
    "b.apply_load(10, 30, 1, 50)\n",
    "b.load ## Carregamento"
   ]
  },
  {
   "cell_type": "code",
   "execution_count": 81,
   "metadata": {},
   "outputs": [
    {
     "data": {
      "text/latex": [
       "$\\displaystyle - M_{0} {\\left\\langle x \\right\\rangle}^{-1} - R_{0} {\\left\\langle x \\right\\rangle}^{0} - R_{20} {\\left\\langle x - 20 \\right\\rangle}^{0} - R_{50} {\\left\\langle x - 50 \\right\\rangle}^{0} - \\frac{224 {\\left\\langle x \\right\\rangle}^{0}}{15} - 90 {\\left\\langle x - 5 \\right\\rangle}^{1} - \\frac{224 {\\left\\langle x - 10 \\right\\rangle}^{0}}{15} + 90 {\\left\\langle x - 23 \\right\\rangle}^{1} + \\frac{54748 {\\left\\langle x - 30 \\right\\rangle}^{0}}{15} - 5 {\\left\\langle x - 30 \\right\\rangle}^{2} + 200 {\\left\\langle x - 50 \\right\\rangle}^{1} + 5 {\\left\\langle x - 50 \\right\\rangle}^{2}$"
      ],
      "text/plain": [
       "                                                              0               \n",
       "        -1         0               0               0   224⋅<x>              1 \n",
       "- M₀⋅<x>   - R₀⋅<x>  - R₂₀⋅<x - 20>  - R₅₀⋅<x - 50>  - ──────── - 90⋅<x - 5>  \n",
       "                                                          15                  \n",
       "\n",
       "              0                                0                              \n",
       "  224⋅<x - 10>               1   54748⋅<x - 30>              2               1\n",
       "- ───────────── + 90⋅<x - 23>  + ─────────────── - 5⋅<x - 30>  + 200⋅<x - 50> \n",
       "        15                              15                                    \n",
       "\n",
       "              \n",
       "             2\n",
       " + 5⋅<x - 50> \n",
       "              "
      ]
     },
     "execution_count": 81,
     "metadata": {},
     "output_type": "execute_result"
    }
   ],
   "source": [
    "b.shear_force() ## Força Cortante"
   ]
  },
  {
   "cell_type": "code",
   "execution_count": 82,
   "metadata": {},
   "outputs": [
    {
     "data": {
      "text/latex": [
       "$\\displaystyle - M_{0} {\\left\\langle x \\right\\rangle}^{0} - R_{0} {\\left\\langle x \\right\\rangle}^{1} - R_{20} {\\left\\langle x - 20 \\right\\rangle}^{1} - R_{50} {\\left\\langle x - 50 \\right\\rangle}^{1} - \\frac{224 {\\left\\langle x \\right\\rangle}^{1}}{15} - 45 {\\left\\langle x - 5 \\right\\rangle}^{2} - \\frac{224 {\\left\\langle x - 10 \\right\\rangle}^{1}}{15} + 45 {\\left\\langle x - 23 \\right\\rangle}^{2} + \\frac{54748 {\\left\\langle x - 30 \\right\\rangle}^{1}}{15} - \\frac{5 {\\left\\langle x - 30 \\right\\rangle}^{3}}{3} + 100 {\\left\\langle x - 50 \\right\\rangle}^{2} + \\frac{5 {\\left\\langle x - 50 \\right\\rangle}^{3}}{3}$"
      ],
      "text/plain": [
       "                                                             1                \n",
       "        0         1               1               1   224⋅<x>              2  \n",
       "- M₀⋅<x>  - R₀⋅<x>  - R₂₀⋅<x - 20>  - R₅₀⋅<x - 50>  - ──────── - 45⋅<x - 5>  -\n",
       "                                                         15                   \n",
       "\n",
       "             1                                1             3                 \n",
       " 224⋅<x - 10>               2   54748⋅<x - 30>    5⋅<x - 30>                2 \n",
       " ───────────── + 45⋅<x - 23>  + ─────────────── - ─────────── + 100⋅<x - 50>  \n",
       "       15                              15              3                      \n",
       "\n",
       "            3\n",
       "  5⋅<x - 50> \n",
       "+ ───────────\n",
       "       3     "
      ]
     },
     "execution_count": 82,
     "metadata": {},
     "output_type": "execute_result"
    }
   ],
   "source": [
    "b.bending_moment() ## Momento Fletor"
   ]
  },
  {
   "cell_type": "code",
   "execution_count": 86,
   "metadata": {},
   "outputs": [
    {
     "data": {
      "image/png": "[encoded data removed]",
      "text/plain": [
       "<Figure size 432x288 with 1 Axes>"
      ]
     },
     "metadata": {
      "needs_background": "light"
     },
     "output_type": "display_data"
    }
   ],
   "source": [
    "p = b.draw()\n",
    "p.show() ## Ilustração Gráfica"
   ]
  },
  {
   "cell_type": "code",
   "execution_count": 85,
   "metadata": {},
   "outputs": [
    {
     "data": {
      "image/png": "[encoded data removed]",
      "text/plain": [
       "<Figure size 432x288 with 1 Axes>"
      ]
     },
     "metadata": {
      "needs_background": "light"
     },
     "output_type": "display_data"
    },
    {
     "data": {
      "text/plain": [
       "<sympy.plotting.plot.Plot at 0x7f9576b37cd0>"
      ]
     },
     "execution_count": 85,
     "metadata": {},
     "output_type": "execute_result"
    }
   ],
   "source": [
    "b.solve_for_reaction_loads(R1, R2) ## Solucionando\n",
    "b.plot_bending_moment() ## Plot Momento Fletor"
   ]
  },
  {
   "cell_type": "code",
   "execution_count": 87,
   "metadata": {},
   "outputs": [
    {
     "data": {
      "image/png": "[encoded data removed]",
      "text/plain": [
       "<Figure size 432x288 with 1 Axes>"
      ]
     },
     "metadata": {
      "needs_background": "light"
     },
     "output_type": "display_data"
    },
    {
     "data": {
      "text/plain": [
       "<sympy.plotting.plot.Plot at 0x7f9576c90d50>"
      ]
     },
     "execution_count": 87,
     "metadata": {},
     "output_type": "execute_result"
    }
   ],
   "source": [
    "b.plot_shear_force() ## Plotando Força Cortante"
   ]
  },
  {
   "cell_type": "code",
   "execution_count": 88,
   "metadata": {},
   "outputs": [
    {
     "data": {
      "text/latex": [
       "$\\displaystyle M_{0} {\\left\\langle x \\right\\rangle}^{-2} + R_{0} {\\left\\langle x \\right\\rangle}^{-1} + R_{20} {\\left\\langle x - 20 \\right\\rangle}^{-1} + R_{50} {\\left\\langle x - 50 \\right\\rangle}^{-1} + \\frac{224 {\\left\\langle x \\right\\rangle}^{-1}}{15} + 90 {\\left\\langle x - 5 \\right\\rangle}^{0} + \\frac{224 {\\left\\langle x - 10 \\right\\rangle}^{-1}}{15} - 90 {\\left\\langle x - 23 \\right\\rangle}^{0} - \\frac{54748 {\\left\\langle x - 30 \\right\\rangle}^{-1}}{15} + 10 {\\left\\langle x - 30 \\right\\rangle}^{1} - 200 {\\left\\langle x - 50 \\right\\rangle}^{0} - 10 {\\left\\langle x - 50 \\right\\rangle}^{1}$"
      ],
      "text/plain": [
       "                                                               -1             \n",
       "      -2         -1               -1               -1   224⋅<x>               \n",
       "M₀⋅<x>   + R₀⋅<x>   + R₂₀⋅<x - 20>   + R₅₀⋅<x - 50>   + ───────── + 90⋅<x - 5>\n",
       "                                                            15                \n",
       "\n",
       "                -1                                -1                          \n",
       "0   224⋅<x - 10>                0   54748⋅<x - 30>                1           \n",
       "  + ────────────── - 90⋅<x - 23>  - ──────────────── + 10⋅<x - 30>  - 200⋅<x -\n",
       "          15                               15                                 \n",
       "\n",
       "                    \n",
       "    0              1\n",
       " 50>  - 10⋅<x - 50> \n",
       "                    "
      ]
     },
     "execution_count": 88,
     "metadata": {},
     "output_type": "execute_result"
    }
   ],
   "source": [
    "b.apply_support(50, 'pin') ## Criando apoios\n",
    "b.apply_support(0, 'fixed')\n",
    "b.apply_support(20, 'roller')\n",
    "b.load"
   ]
  },
  {
   "cell_type": "code",
   "execution_count": 89,
   "metadata": {},
   "outputs": [
    {
     "data": {
      "image/png": "[encoded data removed]",
      "text/plain": [
       "<Figure size 432x288 with 1 Axes>"
      ]
     },
     "metadata": {
      "needs_background": "light"
     },
     "output_type": "display_data"
    }
   ],
   "source": [
    "p = b.draw()\n",
    "p.show()"
   ]
  }
 ],
 "metadata": {
  "kernelspec": {
   "display_name": "Python 3",
   "language": "python",
   "name": "python3"
  },
  "language_info": {
   "codemirror_mode": {
    "name": "ipython",
    "version": 3
   },
   "file_extension": ".py",
   "mimetype": "text/x-python",
   "name": "python",
   "nbconvert_exporter": "python",
   "pygments_lexer": "ipython3",
   "version": "3.7.6"
  }
 },
 "nbformat": 4,
 "nbformat_minor": 4
}
