{
 "cells": [
  {
   "cell_type": "markdown",
   "metadata": {},
   "source": [
    "# Soluções"
   ]
  },
  {
   "cell_type": "code",
   "execution_count": 229,
   "metadata": {},
   "outputs": [
    {
     "data": {
      "text/latex": [
       "$\\displaystyle \\left[ \\left( \\frac{74}{5} - \\frac{2 \\sqrt{466}}{15}, \\  \\frac{4}{3}, \\  \\frac{12}{5} + \\frac{4 \\sqrt{466}}{15}\\right), \\  \\left( \\frac{2 \\sqrt{466}}{15} + \\frac{74}{5}, \\  \\frac{4}{3}, \\  \\frac{12}{5} - \\frac{4 \\sqrt{466}}{15}\\right)\\right]$"
      ],
      "text/plain": [
       "⎡⎛74   2⋅√466       12   4⋅√466⎞  ⎛2⋅√466   74       12   4⋅√466⎞⎤\n",
       "⎢⎜── - ──────, 4/3, ── + ──────⎟, ⎜────── + ──, 4/3, ── - ──────⎟⎥\n",
       "⎣⎝5      15         5      15  ⎠  ⎝  15     5        5      15  ⎠⎦"
      ]
     },
     "execution_count": 229,
     "metadata": {},
     "output_type": "execute_result"
    }
   ],
   "source": [
    "Eqs1 = []\n",
    "Eqs1.append(Eq(4*x-3*y+2*z,60))\n",
    "Eqs1.append(Eq((x-10)**2+y**2+z**2,72))\n",
    "Eqs1.append(Eq(2*x-9*y+z,20))\n",
    "solve(Eqs1, x,y,z)"
   ]
  }
 ],
 "metadata": {
  "kernelspec": {
   "display_name": "Python 3",
   "language": "python",
   "name": "python3"
  },
  "language_info": {
   "codemirror_mode": {
    "name": "ipython",
    "version": 3
   },
   "file_extension": ".py",
   "mimetype": "text/x-python",
   "name": "python",
   "nbconvert_exporter": "python",
   "pygments_lexer": "ipython3",
   "version": "3.7.6"
  }
 },
 "nbformat": 4,
 "nbformat_minor": 4
}
